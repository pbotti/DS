{
 "cells": [
  {
   "cell_type": "markdown",
   "metadata": {},
   "source": [
    "# Python Language Intro"
   ]
  },
  {
   "cell_type": "markdown",
   "metadata": {},
   "source": [
    "## Agenda\n",
    "\n",
    "1. Language overview\n",
    "2. Built-in types, operators, and constructs\n",
    "3. Functions, Classes, and Modules"
   ]
  },
  {
   "cell_type": "markdown",
   "metadata": {
    "collapsed": true
   },
   "source": [
    "## Language overview\n",
    "\n",
    "Note: this is *not* a language course! Though I'll cover the important bits of the language (and standard library) that are relevant to class material, I expect you to master the language on your own time.\n",
    "\n",
    "Python ...\n",
    "\n",
    "- is *interpreted*\n",
    "- is *dynamically-typed* Types change based on data held by the variable\n",
    "- is *automatically memory-managed* Don't have to worry about deallocating system memory\n",
    "- supports *procedural*, *object-oriented* classes and instances, *imperative* assignments, and *functional* programming paradigms \n",
    "- is designed (mostly) by one man: Guido van Rossum (aka “benevolent dictator”), and therefore has a fairly *opinionated* design \n",
    "- has a single reference implementation (CPython) \n",
    "- version 3 (the most recent version) is *not backwards-compatible* with version 2, though the latter is still widely used\n",
    "- has an interesting programming philosophy: \"There should be one — and preferably only one — obvious way to do it.\" (a.k.a. the \"Pythonic\" way) — see [The Zen of Python](https://www.python.org/dev/peps/pep-0020/)"
   ]
  },
  {
   "cell_type": "markdown",
   "metadata": {},
   "source": [
    "## Built in types, operators, and constructs"
   ]
  },
  {
   "cell_type": "markdown",
   "metadata": {},
   "source": [
    "## Exceptions"
   ]
  },
  {
   "cell_type": "code",
   "execution_count": 33,
   "metadata": {
    "collapsed": false
   },
   "outputs": [
    {
     "name": "stdout",
     "output_type": "stream",
     "text": [
      "Exception caught\n"
     ]
    }
   ],
   "source": [
    "try:\n",
    "    raise Exception\n",
    "except Exception:\n",
    "    print('Exception caught')"
   ]
  },
  {
   "cell_type": "markdown",
   "metadata": {},
   "source": [
    "### Numbers"
   ]
  },
  {
   "cell_type": "code",
   "execution_count": 35,
   "metadata": {
    "collapsed": false
   },
   "outputs": [
    {
     "name": "stdout",
     "output_type": "stream",
     "text": [
      "7 14 2 1 32 2.5\n"
     ]
    }
   ],
   "source": [
    "# integers\n",
    "a, b = 2, 5\n",
    "\n",
    "c = a + b\n",
    "d = a * (b + 2)\n",
    "e = b // a # integer div\n",
    "f = b % a  # modulus, remainder\n",
    "g = a ** b # exponentiation (power)\n",
    "h = b / a #div doesn't discard fraction\n",
    "\n",
    "print(c, d, e, f, g, h)"
   ]
  },
  {
   "cell_type": "code",
   "execution_count": 17,
   "metadata": {
    "collapsed": false
   },
   "outputs": [
    {
     "name": "stdout",
     "output_type": "stream",
     "text": [
      "2.5\n"
     ]
    }
   ],
   "source": [
    "# floating point\n",
    "a, b = 2, 5\n",
    "\n",
    "print(b / a)"
   ]
  },
  {
   "cell_type": "code",
   "execution_count": 39,
   "metadata": {
    "collapsed": false
   },
   "outputs": [
    {
     "data": {
      "text/plain": [
       "float"
      ]
     },
     "execution_count": 39,
     "metadata": {},
     "output_type": "execute_result"
    }
   ],
   "source": [
    "type(3.141592653589793)"
   ]
  },
  {
   "cell_type": "markdown",
   "metadata": {},
   "source": [
    "Numbers in Python are all part of the 'Int' class, in fact everything is"
   ]
  },
  {
   "cell_type": "code",
   "execution_count": 42,
   "metadata": {
    "collapsed": false
   },
   "outputs": [
    {
     "data": {
      "text/plain": [
       "['__abs__',\n",
       " '__add__',\n",
       " '__and__',\n",
       " '__bool__',\n",
       " '__ceil__',\n",
       " '__class__',\n",
       " '__delattr__',\n",
       " '__dir__',\n",
       " '__divmod__',\n",
       " '__doc__',\n",
       " '__eq__',\n",
       " '__float__',\n",
       " '__floor__',\n",
       " '__floordiv__',\n",
       " '__format__',\n",
       " '__ge__',\n",
       " '__getattribute__',\n",
       " '__getnewargs__',\n",
       " '__gt__',\n",
       " '__hash__',\n",
       " '__index__',\n",
       " '__init__',\n",
       " '__int__',\n",
       " '__invert__',\n",
       " '__le__',\n",
       " '__lshift__',\n",
       " '__lt__',\n",
       " '__mod__',\n",
       " '__mul__',\n",
       " '__ne__',\n",
       " '__neg__',\n",
       " '__new__',\n",
       " '__or__',\n",
       " '__pos__',\n",
       " '__pow__',\n",
       " '__radd__',\n",
       " '__rand__',\n",
       " '__rdivmod__',\n",
       " '__reduce__',\n",
       " '__reduce_ex__',\n",
       " '__repr__',\n",
       " '__rfloordiv__',\n",
       " '__rlshift__',\n",
       " '__rmod__',\n",
       " '__rmul__',\n",
       " '__ror__',\n",
       " '__round__',\n",
       " '__rpow__',\n",
       " '__rrshift__',\n",
       " '__rshift__',\n",
       " '__rsub__',\n",
       " '__rtruediv__',\n",
       " '__rxor__',\n",
       " '__setattr__',\n",
       " '__sizeof__',\n",
       " '__str__',\n",
       " '__sub__',\n",
       " '__subclasshook__',\n",
       " '__truediv__',\n",
       " '__trunc__',\n",
       " '__xor__',\n",
       " 'bit_length',\n",
       " 'conjugate',\n",
       " 'denominator',\n",
       " 'from_bytes',\n",
       " 'imag',\n",
       " 'numerator',\n",
       " 'real',\n",
       " 'to_bytes']"
      ]
     },
     "execution_count": 42,
     "metadata": {},
     "output_type": "execute_result"
    }
   ],
   "source": [
    "dir(int) #Shows all possible functions for this data type, the functions with '__''s are special methods \n",
    "         #that are called indirectly when we call special syntax"
   ]
  },
  {
   "cell_type": "code",
   "execution_count": 43,
   "metadata": {
    "collapsed": false
   },
   "outputs": [
    {
     "data": {
      "text/plain": [
       "20"
      ]
     },
     "execution_count": 43,
     "metadata": {},
     "output_type": "execute_result"
    }
   ],
   "source": [
    "abs(-20)"
   ]
  },
  {
   "cell_type": "code",
   "execution_count": 47,
   "metadata": {
    "collapsed": false
   },
   "outputs": [
    {
     "data": {
      "text/plain": [
       "20"
      ]
     },
     "execution_count": 47,
     "metadata": {},
     "output_type": "execute_result"
    }
   ],
   "source": [
    "(-20).__abs__() #The number is really invoking the function on itself"
   ]
  },
  {
   "cell_type": "code",
   "execution_count": 46,
   "metadata": {
    "collapsed": false
   },
   "outputs": [
    {
     "data": {
      "text/plain": [
       "3"
      ]
     },
     "execution_count": 46,
     "metadata": {},
     "output_type": "execute_result"
    }
   ],
   "source": [
    "(1).__add__(2)"
   ]
  },
  {
   "cell_type": "markdown",
   "metadata": {},
   "source": [
    "### Strings"
   ]
  },
  {
   "cell_type": "code",
   "execution_count": 3,
   "metadata": {
    "collapsed": false
   },
   "outputs": [],
   "source": [
    "# strings (`str`)\n",
    "name = 'John' + ' ' + 'Doe' #Double quotes and single quotes don't make a difference, doubles useful in cases of ' usage"
   ]
  },
  {
   "cell_type": "markdown",
   "metadata": {},
   "source": [
    "Strings are an example of a *sequence* type; https://docs.python.org/3.5/library/stdtypes.html#typesseq\n",
    "\n",
    "Other sequence types are: *ranges*, *tuples* (both also immutable), and *lists* (mutable).\n",
    "\n",
    "All immutable sequences support the [common sequence operations](https://docs.python.org/3/library/stdtypes.html#common-sequence-operations), and mutable sequences additionally support the [mutable sequence operations](https://docs.python.org/3/library/stdtypes.html#mutable-sequence-types)"
   ]
  },
  {
   "cell_type": "code",
   "execution_count": 6,
   "metadata": {
    "collapsed": false
   },
   "outputs": [
    {
     "name": "stdout",
     "output_type": "stream",
     "text": [
      "John Doe\n"
     ]
    }
   ],
   "source": [
    "print(name)"
   ]
  },
  {
   "cell_type": "code",
   "execution_count": 57,
   "metadata": {
    "collapsed": false
   },
   "outputs": [
    {
     "data": {
      "text/plain": [
       "'o'"
      ]
     },
     "execution_count": 57,
     "metadata": {},
     "output_type": "execute_result"
    }
   ],
   "source": [
    "len(name) #Should print to see value\n",
    "name[1] #Example of notebook only putting out the last thing evaluated"
   ]
  },
  {
   "cell_type": "code",
   "execution_count": 58,
   "metadata": {
    "collapsed": false
   },
   "outputs": [
    {
     "data": {
      "text/plain": [
       "'e'"
      ]
     },
     "execution_count": 58,
     "metadata": {},
     "output_type": "execute_result"
    }
   ],
   "source": [
    "name[-1] #Negative numbers gives the values of the array in reverse"
   ]
  },
  {
   "cell_type": "markdown",
   "metadata": {},
   "source": [
    "\"Slice\" syntax: [A:B:C] This is built in to all sequences\n",
    "A is the first item to include\n",
    "B is the first item to exclude\n",
    "C is the step"
   ]
  },
  {
   "cell_type": "code",
   "execution_count": 65,
   "metadata": {
    "collapsed": false
   },
   "outputs": [
    {
     "data": {
      "text/plain": [
       "'eoD nhoJ'"
      ]
     },
     "execution_count": 65,
     "metadata": {},
     "output_type": "execute_result"
    }
   ],
   "source": [
    "name[::-1] #This goes from the beginning to the end with a negative step"
   ]
  },
  {
   "cell_type": "code",
   "execution_count": 4,
   "metadata": {
    "collapsed": false
   },
   "outputs": [
    {
     "data": {
      "text/plain": [
       "True"
      ]
     },
     "execution_count": 4,
     "metadata": {},
     "output_type": "execute_result"
    }
   ],
   "source": [
    "'o' in name #in is implemented by the contains function, also case sensitive. in the way name.__contains__()"
   ]
  },
  {
   "cell_type": "code",
   "execution_count": 5,
   "metadata": {
    "collapsed": false
   },
   "outputs": [
    {
     "data": {
      "text/plain": [
       "True"
      ]
     },
     "execution_count": 5,
     "metadata": {},
     "output_type": "execute_result"
    }
   ],
   "source": [
    "name.__contains__('o') #This is the same as the above cell"
   ]
  },
  {
   "cell_type": "code",
   "execution_count": 70,
   "metadata": {
    "collapsed": false
   },
   "outputs": [
    {
     "data": {
      "text/plain": [
       "1"
      ]
     },
     "execution_count": 70,
     "metadata": {},
     "output_type": "execute_result"
    }
   ],
   "source": [
    "name.index('o') #This has optional arguments that searches from i to j "
   ]
  },
  {
   "cell_type": "code",
   "execution_count": 73,
   "metadata": {
    "collapsed": true
   },
   "outputs": [],
   "source": [
    "it = iter(name) #This is an iterater object"
   ]
  },
  {
   "cell_type": "code",
   "execution_count": 83,
   "metadata": {
    "collapsed": false
   },
   "outputs": [
    {
     "ename": "StopIteration",
     "evalue": "",
     "output_type": "error",
     "traceback": [
      "\u001b[0;31m---------------------------------------------------------------------------\u001b[0m",
      "\u001b[0;31mStopIteration\u001b[0m                             Traceback (most recent call last)",
      "\u001b[0;32m<ipython-input-83-687c293c9e98>\u001b[0m in \u001b[0;36m<module>\u001b[0;34m()\u001b[0m\n\u001b[0;32m----> 1\u001b[0;31m \u001b[0mnext\u001b[0m\u001b[1;33m(\u001b[0m\u001b[0mit\u001b[0m\u001b[1;33m)\u001b[0m \u001b[1;31m#next iterates until it runs out of values, then we get an error\u001b[0m\u001b[1;33m\u001b[0m\u001b[0m\n\u001b[0m",
      "\u001b[0;31mStopIteration\u001b[0m: "
     ]
    }
   ],
   "source": [
    "next(it) #next iterates until it runs out of values, then we get an error"
   ]
  },
  {
   "cell_type": "code",
   "execution_count": 84,
   "metadata": {
    "collapsed": false
   },
   "outputs": [
    {
     "name": "stdout",
     "output_type": "stream",
     "text": [
      "J\n",
      "o\n",
      "h\n",
      "n\n",
      " \n",
      "D\n",
      "o\n",
      "e\n"
     ]
    }
   ],
   "source": [
    "it = iter(name)\n",
    "while True:\n",
    "    try:\n",
    "        print(next(it))\n",
    "    except StopIteration:\n",
    "        break"
   ]
  },
  {
   "cell_type": "code",
   "execution_count": 85,
   "metadata": {
    "collapsed": false
   },
   "outputs": [
    {
     "name": "stdout",
     "output_type": "stream",
     "text": [
      "J\n",
      "o\n",
      "h\n",
      "n\n",
      " \n",
      "D\n",
      "o\n",
      "e\n"
     ]
    }
   ],
   "source": [
    "for c in name: #Makes the previous code much simpler\n",
    "    print(c) "
   ]
  },
  {
   "cell_type": "markdown",
   "metadata": {},
   "source": [
    "### Ranges & Tuples"
   ]
  },
  {
   "cell_type": "code",
   "execution_count": null,
   "metadata": {
    "collapsed": true
   },
   "outputs": [],
   "source": [
    "# ranges\n",
    "r1 = range(10) #Assumption is that 0 is the start and the 10 represents the stop\n",
    "r2 = range(10, 20) #The second parameter is the one to skip\n",
    "r3 = range(100, 0, -10) #The last parameter is the step"
   ]
  },
  {
   "cell_type": "code",
   "execution_count": 15,
   "metadata": {
    "collapsed": false
   },
   "outputs": [],
   "source": [
    "tup = ('lions', 'tigers', 'bears', (0, 1, 2), True, False)"
   ]
  },
  {
   "cell_type": "code",
   "execution_count": 16,
   "metadata": {
    "collapsed": false
   },
   "outputs": [
    {
     "data": {
      "text/plain": [
       "6"
      ]
     },
     "execution_count": 16,
     "metadata": {},
     "output_type": "execute_result"
    }
   ],
   "source": [
    "len(tup)"
   ]
  },
  {
   "cell_type": "code",
   "execution_count": 17,
   "metadata": {
    "collapsed": false
   },
   "outputs": [
    {
     "data": {
      "text/plain": [
       "3"
      ]
     },
     "execution_count": 17,
     "metadata": {},
     "output_type": "execute_result"
    }
   ],
   "source": [
    "len(tup[3])#This treats the tuple in the tuple as an object in the tuple"
   ]
  },
  {
   "cell_type": "code",
   "execution_count": 18,
   "metadata": {
    "collapsed": false
   },
   "outputs": [
    {
     "data": {
      "text/plain": [
       "0"
      ]
     },
     "execution_count": 18,
     "metadata": {},
     "output_type": "execute_result"
    }
   ],
   "source": [
    "tup[3][0]"
   ]
  },
  {
   "cell_type": "code",
   "execution_count": 19,
   "metadata": {
    "collapsed": false
   },
   "outputs": [
    {
     "data": {
      "text/plain": [
       "5"
      ]
     },
     "execution_count": 19,
     "metadata": {},
     "output_type": "execute_result"
    }
   ],
   "source": [
    "(5)#The 1-tuple is expressed by (A,) the comma makes the tuple, the parenthesis are for precidence."
   ]
  },
  {
   "cell_type": "code",
   "execution_count": 20,
   "metadata": {
    "collapsed": true
   },
   "outputs": [],
   "source": [
    "a,b=1,2"
   ]
  },
  {
   "cell_type": "code",
   "execution_count": 21,
   "metadata": {
    "collapsed": false
   },
   "outputs": [
    {
     "data": {
      "text/plain": [
       "(1, 2)"
      ]
     },
     "execution_count": 21,
     "metadata": {},
     "output_type": "execute_result"
    }
   ],
   "source": [
    "a,b"
   ]
  },
  {
   "cell_type": "code",
   "execution_count": 24,
   "metadata": {
    "collapsed": true
   },
   "outputs": [],
   "source": [
    "a,b,c = 1, (4,5), \"hello\""
   ]
  },
  {
   "cell_type": "code",
   "execution_count": null,
   "metadata": {
    "collapsed": true
   },
   "outputs": [],
   "source": [
    "a,b1,b2,c = 1,(4,5),\"hello\" #This breaks apart the tuple, called destructuring assignment, fixes right side to fit left"
   ]
  },
  {
   "cell_type": "code",
   "execution_count": 23,
   "metadata": {
    "collapsed": false
   },
   "outputs": [
    {
     "data": {
      "text/plain": [
       "(1, (4, 5), 'hello')"
      ]
     },
     "execution_count": 23,
     "metadata": {},
     "output_type": "execute_result"
    }
   ],
   "source": [
    "a,b,c"
   ]
  },
  {
   "cell_type": "code",
   "execution_count": 26,
   "metadata": {
    "collapsed": true
   },
   "outputs": [],
   "source": [
    "a, *rest=1,2,3,4,5,6 #The star takes everything else as a list and gives it to variable rest"
   ]
  },
  {
   "cell_type": "code",
   "execution_count": 28,
   "metadata": {
    "collapsed": false
   },
   "outputs": [
    {
     "data": {
      "text/plain": [
       "[2, 3, 4, 5, 6]"
      ]
     },
     "execution_count": 28,
     "metadata": {},
     "output_type": "execute_result"
    }
   ],
   "source": [
    "rest"
   ]
  },
  {
   "cell_type": "code",
   "execution_count": 29,
   "metadata": {
    "collapsed": true
   },
   "outputs": [],
   "source": [
    "tup = (\"Hello\",\"World\", 1, 2, 3)"
   ]
  },
  {
   "cell_type": "code",
   "execution_count": 31,
   "metadata": {
    "collapsed": false
   },
   "outputs": [
    {
     "data": {
      "text/plain": [
       "'World'"
      ]
     },
     "execution_count": 31,
     "metadata": {},
     "output_type": "execute_result"
    }
   ],
   "source": [
    "tup[1] #Tuples are immutable and do not support item assignment. We can't change their values once they are created"
   ]
  },
  {
   "cell_type": "code",
   "execution_count": 12,
   "metadata": {
    "collapsed": false
   },
   "outputs": [
    {
     "name": "stdout",
     "output_type": "stream",
     "text": [
      "100\n",
      "90\n",
      "80\n",
      "70\n",
      "60\n",
      "50\n",
      "40\n",
      "30\n",
      "20\n",
      "10\n"
     ]
    }
   ],
   "source": [
    "for x in r3:\n",
    "    print(x)"
   ]
  },
  {
   "cell_type": "code",
   "execution_count": 14,
   "metadata": {
    "collapsed": false
   },
   "outputs": [
    {
     "name": "stdout",
     "output_type": "stream",
     "text": [
      "0\n",
      "1\n",
      "2\n",
      "3\n",
      "4\n",
      "5\n",
      "6\n",
      "7\n",
      "8\n",
      "9\n"
     ]
    }
   ],
   "source": [
    "for i in range(10): #Use this to iterate over a range of values\n",
    "    print(i)"
   ]
  },
  {
   "cell_type": "markdown",
   "metadata": {},
   "source": [
    "Use a while loop when it is not known when the condition will be met, or when we don't know how many times the loop will iterate."
   ]
  },
  {
   "cell_type": "code",
   "execution_count": null,
   "metadata": {
    "collapsed": true
   },
   "outputs": [],
   "source": [
    "range(1)+range(3) #We cannot add ranges, they also take up less memory and only take values when we pull them out"
   ]
  },
  {
   "cell_type": "code",
   "execution_count": 21,
   "metadata": {
    "collapsed": false
   },
   "outputs": [
    {
     "name": "stdout",
     "output_type": "stream",
     "text": [
      "range(0, 10) range(10, 20) range(100, 0, -10) ('lions', 'tigers', 'bears', (0, 1, 2), True, False)\n"
     ]
    }
   ],
   "source": [
    "print(r1,r2,r3,tup)"
   ]
  },
  {
   "cell_type": "markdown",
   "metadata": {},
   "source": [
    "### The almighty list!"
   ]
  },
  {
   "cell_type": "code",
   "execution_count": 33,
   "metadata": {
    "collapsed": true
   },
   "outputs": [],
   "source": [
    "l = [] #This is list syntax"
   ]
  },
  {
   "cell_type": "markdown",
   "metadata": {},
   "source": [
    "Lists are mutable sequences"
   ]
  },
  {
   "cell_type": "code",
   "execution_count": 34,
   "metadata": {
    "collapsed": true
   },
   "outputs": [],
   "source": [
    "l.append(100)"
   ]
  },
  {
   "cell_type": "code",
   "execution_count": 35,
   "metadata": {
    "collapsed": true
   },
   "outputs": [],
   "source": [
    "for i in range(10):\n",
    "    l.append(i)"
   ]
  },
  {
   "cell_type": "code",
   "execution_count": 36,
   "metadata": {
    "collapsed": false
   },
   "outputs": [
    {
     "data": {
      "text/plain": [
       "[100, 0, 1, 2, 3, 4, 5, 6, 7, 8, 9]"
      ]
     },
     "execution_count": 36,
     "metadata": {},
     "output_type": "execute_result"
    }
   ],
   "source": [
    "l"
   ]
  },
  {
   "cell_type": "code",
   "execution_count": 38,
   "metadata": {
    "collapsed": false
   },
   "outputs": [],
   "source": [
    "l = list(range(10))"
   ]
  },
  {
   "cell_type": "code",
   "execution_count": 64,
   "metadata": {
    "collapsed": true
   },
   "outputs": [],
   "source": [
    "l= [\"apples\",\"bananas\",\"pears\", \"lions\", \"tigers\", \"bears\"]"
   ]
  },
  {
   "cell_type": "code",
   "execution_count": 43,
   "metadata": {
    "collapsed": false
   },
   "outputs": [
    {
     "data": {
      "text/plain": [
       "['pears', 'tigers']"
      ]
     },
     "execution_count": 43,
     "metadata": {},
     "output_type": "execute_result"
    }
   ],
   "source": [
    "l[2::2]#First item to include to first item to exclude"
   ]
  },
  {
   "cell_type": "code",
   "execution_count": 44,
   "metadata": {
    "collapsed": false
   },
   "outputs": [
    {
     "data": {
      "text/plain": [
       "['bears', 'tigers', 'lions', 'pears', 'bananas', 'apples']"
      ]
     },
     "execution_count": 44,
     "metadata": {},
     "output_type": "execute_result"
    }
   ],
   "source": [
    "l[::-1]"
   ]
  },
  {
   "cell_type": "code",
   "execution_count": 57,
   "metadata": {
    "collapsed": true
   },
   "outputs": [],
   "source": [
    "l[1:3]=[1,2,3,4,5]#This is replacement of elements in a list with another list"
   ]
  },
  {
   "cell_type": "code",
   "execution_count": 58,
   "metadata": {
    "collapsed": false
   },
   "outputs": [
    {
     "data": {
      "text/plain": [
       "['apples', 1, 2, 3, 4, 5, 'lions', 'tigers', 'bears']"
      ]
     },
     "execution_count": 58,
     "metadata": {},
     "output_type": "execute_result"
    }
   ],
   "source": [
    "l"
   ]
  },
  {
   "cell_type": "code",
   "execution_count": 60,
   "metadata": {
    "collapsed": true
   },
   "outputs": [],
   "source": [
    "del l[0] #This removes an element and updates the indicies"
   ]
  },
  {
   "cell_type": "code",
   "execution_count": 65,
   "metadata": {
    "collapsed": false
   },
   "outputs": [],
   "source": [
    "l.remove('pears') #We can search for values that are in the list, and removes the first item if it occurs multiple time"
   ]
  },
  {
   "cell_type": "code",
   "execution_count": 72,
   "metadata": {
    "collapsed": false
   },
   "outputs": [
    {
     "data": {
      "text/plain": [
       "True"
      ]
     },
     "execution_count": 72,
     "metadata": {},
     "output_type": "execute_result"
    }
   ],
   "source": [
    "1 in [1,2,3] #List has some of the same functions as strings "
   ]
  },
  {
   "cell_type": "markdown",
   "metadata": {},
   "source": [
    "### List comprehensions"
   ]
  },
  {
   "cell_type": "code",
   "execution_count": 70,
   "metadata": {
    "collapsed": false
   },
   "outputs": [
    {
     "data": {
      "text/plain": [
       "[1, 2, 4, 8, 16, 32, 128, 256, 512, 1024, 2048]"
      ]
     },
     "execution_count": 70,
     "metadata": {},
     "output_type": "execute_result"
    }
   ],
   "source": [
    "l = []\n",
    "for e in range(12):\n",
    "    if 2**e > 100 or 2**e < 50:\n",
    "        l.append(2**e)\n",
    "l"
   ]
  },
  {
   "cell_type": "code",
   "execution_count": 69,
   "metadata": {
    "collapsed": false
   },
   "outputs": [
    {
     "data": {
      "text/plain": [
       "[2, 4, 6, 8, 10, 12, 14, 16, 18, 20]"
      ]
     },
     "execution_count": 69,
     "metadata": {},
     "output_type": "execute_result"
    }
   ],
   "source": [
    "[2*x for x in range(1,11)]#List syntax with the generating expression then the iteration over the values of x"
   ]
  },
  {
   "cell_type": "code",
   "execution_count": 72,
   "metadata": {
    "collapsed": false
   },
   "outputs": [
    {
     "data": {
      "text/plain": [
       "[2, 4, 8, 16, 32, 64, 128, 256, 512, 1024]"
      ]
     },
     "execution_count": 72,
     "metadata": {},
     "output_type": "execute_result"
    }
   ],
   "source": [
    "[2**x for x in range(1,11)]"
   ]
  },
  {
   "cell_type": "code",
   "execution_count": 115,
   "metadata": {
    "collapsed": false
   },
   "outputs": [
    {
     "data": {
      "text/plain": [
       "[(3, 4, 5), (4, 3, 5), (6, 8, 10), (8, 6, 10)]"
      ]
     },
     "execution_count": 115,
     "metadata": {},
     "output_type": "execute_result"
    }
   ],
   "source": [
    "n=10\n",
    "l = []\n",
    "for a in range(1,n+1):\n",
    "    for b in range(1,n+1):\n",
    "        for c in range(1,n+1):\n",
    "            if(a**2 + b**2 == c**2):\n",
    "                l.append((a,b,c))\n",
    "l"
   ]
  },
  {
   "cell_type": "code",
   "execution_count": 116,
   "metadata": {
    "collapsed": false
   },
   "outputs": [],
   "source": [
    "l=[(a,b,c) for a in range(1,n+1)\n",
    "         for b in range(a,n+1)\n",
    "         for c in range(b,n+1)\n",
    "         if(a**2 + b**2 == c**2)]"
   ]
  },
  {
   "cell_type": "code",
   "execution_count": 117,
   "metadata": {
    "collapsed": false
   },
   "outputs": [
    {
     "name": "stdout",
     "output_type": "stream",
     "text": [
      "(3, 4, 5)\n",
      "(6, 8, 10)\n"
     ]
    }
   ],
   "source": [
    "for x in l:\n",
    "    print(x)"
   ]
  },
  {
   "cell_type": "code",
   "execution_count": 122,
   "metadata": {
    "collapsed": false
   },
   "outputs": [
    {
     "name": "stdout",
     "output_type": "stream",
     "text": [
      "3     4     5\n",
      "6     8     10\n"
     ]
    }
   ],
   "source": [
    "for a, b, c in l:\n",
    "    print(a,b,c, sep='     ')"
   ]
  },
  {
   "cell_type": "code",
   "execution_count": 81,
   "metadata": {
    "collapsed": false
   },
   "outputs": [],
   "source": [
    "l=[(x,y) for x in range (1,4) for y in range (100,103)] #Y cycles more frequently"
   ]
  },
  {
   "cell_type": "code",
   "execution_count": 83,
   "metadata": {
    "collapsed": true
   },
   "outputs": [],
   "source": [
    "l[0]=\"hello\""
   ]
  },
  {
   "cell_type": "code",
   "execution_count": 89,
   "metadata": {
    "collapsed": false
   },
   "outputs": [
    {
     "data": {
      "text/plain": [
       "[[], [], [], [], []]"
      ]
     },
     "execution_count": 89,
     "metadata": {},
     "output_type": "execute_result"
    }
   ],
   "source": [
    "l"
   ]
  },
  {
   "cell_type": "code",
   "execution_count": 90,
   "metadata": {
    "collapsed": true
   },
   "outputs": [],
   "source": [
    "l = [[]] * 5#This does not make 5 new objects, it just makes references to the original object"
   ]
  },
  {
   "cell_type": "code",
   "execution_count": 92,
   "metadata": {
    "collapsed": true
   },
   "outputs": [],
   "source": [
    "l[0].append(\"hello\")"
   ]
  },
  {
   "cell_type": "code",
   "execution_count": 97,
   "metadata": {
    "collapsed": true
   },
   "outputs": [],
   "source": [
    "l = [[] for x in range(10)]"
   ]
  },
  {
   "cell_type": "code",
   "execution_count": 99,
   "metadata": {
    "collapsed": false
   },
   "outputs": [],
   "source": [
    "l[0].append('hello')"
   ]
  },
  {
   "cell_type": "code",
   "execution_count": 123,
   "metadata": {
    "collapsed": false
   },
   "outputs": [
    {
     "data": {
      "text/plain": [
       "[(3, 4, 5), (6, 8, 10)]"
      ]
     },
     "execution_count": 123,
     "metadata": {},
     "output_type": "execute_result"
    }
   ],
   "source": [
    "l"
   ]
  },
  {
   "cell_type": "markdown",
   "metadata": {},
   "source": [
    "Iteration is based on two functions: iter and next"
   ]
  },
  {
   "cell_type": "code",
   "execution_count": 124,
   "metadata": {
    "collapsed": false
   },
   "outputs": [
    {
     "data": {
      "text/plain": [
       "[(3, 4, 5), (6, 8, 10)]"
      ]
     },
     "execution_count": 124,
     "metadata": {},
     "output_type": "execute_result"
    }
   ],
   "source": [
    "l"
   ]
  },
  {
   "cell_type": "code",
   "execution_count": 125,
   "metadata": {
    "collapsed": true
   },
   "outputs": [],
   "source": [
    "it = iter(l)"
   ]
  },
  {
   "cell_type": "code",
   "execution_count": 127,
   "metadata": {
    "collapsed": false
   },
   "outputs": [
    {
     "data": {
      "text/plain": [
       "(6, 8, 10)"
      ]
     },
     "execution_count": 127,
     "metadata": {},
     "output_type": "execute_result"
    }
   ],
   "source": [
    "next(it)"
   ]
  },
  {
   "cell_type": "code",
   "execution_count": 129,
   "metadata": {
    "collapsed": false
   },
   "outputs": [],
   "source": [
    "l1 = [1,2,3,4]\n",
    "l2 = [\"Hello\", \"World\"]"
   ]
  },
  {
   "cell_type": "code",
   "execution_count": 130,
   "metadata": {
    "collapsed": false
   },
   "outputs": [
    {
     "data": {
      "text/plain": [
       "[1, 2, 3, 4, 'Hello', 'World']"
      ]
     },
     "execution_count": 130,
     "metadata": {},
     "output_type": "execute_result"
    }
   ],
   "source": [
    "l1+l2 #This dosen't change l1 or l2"
   ]
  },
  {
   "cell_type": "code",
   "execution_count": 133,
   "metadata": {
    "collapsed": false
   },
   "outputs": [
    {
     "data": {
      "text/plain": [
       "([1, 2, 3, 4, 'Hello', 'World'], ['Hello', 'World'])"
      ]
     },
     "execution_count": 133,
     "metadata": {},
     "output_type": "execute_result"
    }
   ],
   "source": [
    "l1, l2"
   ]
  },
  {
   "cell_type": "code",
   "execution_count": 134,
   "metadata": {
    "collapsed": true
   },
   "outputs": [],
   "source": [
    "l1.extend(l2)"
   ]
  },
  {
   "cell_type": "code",
   "execution_count": 139,
   "metadata": {
    "collapsed": true
   },
   "outputs": [],
   "source": [
    "ll = [list(range(10)) for _ in range(10)] #Mimics multidimensional arrays"
   ]
  },
  {
   "cell_type": "code",
   "execution_count": 136,
   "metadata": {
    "collapsed": false
   },
   "outputs": [
    {
     "data": {
      "text/plain": [
       "[[0, 1, 2, 3, 4, 5, 6, 7, 8, 9],\n",
       " [0, 1, 2, 3, 4, 5, 6, 7, 8, 9],\n",
       " [0, 1, 2, 3, 4, 5, 6, 7, 8, 9],\n",
       " [0, 1, 2, 3, 4, 5, 6, 7, 8, 9],\n",
       " [0, 1, 2, 3, 4, 5, 6, 7, 8, 9],\n",
       " [0, 1, 2, 3, 4, 5, 6, 7, 8, 9],\n",
       " [0, 1, 2, 3, 4, 5, 6, 7, 8, 9],\n",
       " [0, 1, 2, 3, 4, 5, 6, 7, 8, 9],\n",
       " [0, 1, 2, 3, 4, 5, 6, 7, 8, 9],\n",
       " [0, 1, 2, 3, 4, 5, 6, 7, 8, 9]]"
      ]
     },
     "execution_count": 136,
     "metadata": {},
     "output_type": "execute_result"
    }
   ],
   "source": [
    "ll"
   ]
  },
  {
   "cell_type": "code",
   "execution_count": 137,
   "metadata": {
    "collapsed": true
   },
   "outputs": [],
   "source": [
    "ll[4][4]=100"
   ]
  },
  {
   "cell_type": "code",
   "execution_count": 138,
   "metadata": {
    "collapsed": false
   },
   "outputs": [
    {
     "data": {
      "text/plain": [
       "[[0, 1, 2, 3, 4, 5, 6, 7, 8, 9],\n",
       " [0, 1, 2, 3, 4, 5, 6, 7, 8, 9],\n",
       " [0, 1, 2, 3, 4, 5, 6, 7, 8, 9],\n",
       " [0, 1, 2, 3, 4, 5, 6, 7, 8, 9],\n",
       " [0, 1, 2, 3, 100, 5, 6, 7, 8, 9],\n",
       " [0, 1, 2, 3, 4, 5, 6, 7, 8, 9],\n",
       " [0, 1, 2, 3, 4, 5, 6, 7, 8, 9],\n",
       " [0, 1, 2, 3, 4, 5, 6, 7, 8, 9],\n",
       " [0, 1, 2, 3, 4, 5, 6, 7, 8, 9],\n",
       " [0, 1, 2, 3, 4, 5, 6, 7, 8, 9]]"
      ]
     },
     "execution_count": 138,
     "metadata": {},
     "output_type": "execute_result"
    }
   ],
   "source": [
    "ll"
   ]
  },
  {
   "cell_type": "code",
   "execution_count": null,
   "metadata": {
    "collapsed": true
   },
   "outputs": [],
   "source": []
  },
  {
   "cell_type": "code",
   "execution_count": 24,
   "metadata": {
    "collapsed": false
   },
   "outputs": [
    {
     "data": {
      "text/plain": [
       "[(0, 1),\n",
       " (1, 2),\n",
       " (2, 4),\n",
       " (3, 8),\n",
       " (4, 16),\n",
       " (5, 32),\n",
       " (6, 64),\n",
       " (7, 128),\n",
       " (8, 256),\n",
       " (9, 512)]"
      ]
     },
     "execution_count": 24,
     "metadata": {},
     "output_type": "execute_result"
    }
   ],
   "source": [
    "[(e, 2**e) for e in range(0, 10)]"
   ]
  },
  {
   "cell_type": "code",
   "execution_count": 25,
   "metadata": {
    "collapsed": false
   },
   "outputs": [
    {
     "data": {
      "text/plain": [
       "[(0, 5),\n",
       " (0, 6),\n",
       " (0, 7),\n",
       " (0, 8),\n",
       " (0, 9),\n",
       " (1, 5),\n",
       " (1, 6),\n",
       " (1, 7),\n",
       " (1, 8),\n",
       " (1, 9),\n",
       " (2, 5),\n",
       " (2, 6),\n",
       " (2, 7),\n",
       " (2, 8),\n",
       " (2, 9),\n",
       " (3, 5),\n",
       " (3, 6),\n",
       " (3, 7),\n",
       " (3, 8),\n",
       " (3, 9),\n",
       " (4, 5),\n",
       " (4, 6),\n",
       " (4, 7),\n",
       " (4, 8),\n",
       " (4, 9)]"
      ]
     },
     "execution_count": 25,
     "metadata": {},
     "output_type": "execute_result"
    }
   ],
   "source": [
    "[(i, j) for i in range(5) for j in range(5, 10)]"
   ]
  },
  {
   "cell_type": "code",
   "execution_count": 101,
   "metadata": {
    "collapsed": false
   },
   "outputs": [
    {
     "data": {
      "text/plain": [
       "[0.8752850994015773,\n",
       " 0.7713165663445096,\n",
       " 0.7617719048796863,\n",
       " 0.27353925892527065,\n",
       " 0.3539973418357184,\n",
       " 0.4795009373805915,\n",
       " 0.785878127323934,\n",
       " 0.30758063440420325,\n",
       " 0.6501906866668464,\n",
       " 0.9933419502553544]"
      ]
     },
     "execution_count": 101,
     "metadata": {},
     "output_type": "execute_result"
    }
   ],
   "source": [
    "from random import random\n",
    "[random() for _ in range(10)]"
   ]
  },
  {
   "cell_type": "code",
   "execution_count": 103,
   "metadata": {
    "collapsed": false
   },
   "outputs": [
    {
     "data": {
      "text/plain": [
       "[0.1492654679680372,\n",
       " 0.024523956773393363,\n",
       " 0.8209895313718922,\n",
       " 0.016696711764209726,\n",
       " 0.4283763213438151,\n",
       " 0.9162417167636068,\n",
       " 0.9900759088755495,\n",
       " 0.8838210809007135,\n",
       " 0.3713899397251812,\n",
       " 0.41429881799446433]"
      ]
     },
     "execution_count": 103,
     "metadata": {},
     "output_type": "execute_result"
    }
   ],
   "source": [
    "[random() for _ in range(10)]#The underscore is a placeholder variable"
   ]
  },
  {
   "cell_type": "code",
   "execution_count": 27,
   "metadata": {
    "collapsed": false
   },
   "outputs": [
    {
     "data": {
      "text/plain": [
       "[0.16812864305583297,\n",
       " 0.16812864305583297,\n",
       " 0.16812864305583297,\n",
       " 0.16812864305583297,\n",
       " 0.16812864305583297,\n",
       " 0.16812864305583297,\n",
       " 0.16812864305583297,\n",
       " 0.16812864305583297,\n",
       " 0.16812864305583297,\n",
       " 0.16812864305583297]"
      ]
     },
     "execution_count": 27,
     "metadata": {},
     "output_type": "execute_result"
    }
   ],
   "source": [
    "[random()] * 10"
   ]
  },
  {
   "cell_type": "markdown",
   "metadata": {},
   "source": [
    "### Dictionaries (aka Maps)"
   ]
  },
  {
   "cell_type": "code",
   "execution_count": 1,
   "metadata": {
    "collapsed": false
   },
   "outputs": [],
   "source": [
    "d = dict() #also made with {}"
   ]
  },
  {
   "cell_type": "code",
   "execution_count": 3,
   "metadata": {
    "collapsed": true
   },
   "outputs": [],
   "source": [
    "d[0] = 'one' #A dictionary maps keys to values"
   ]
  },
  {
   "cell_type": "code",
   "execution_count": 8,
   "metadata": {
    "collapsed": true
   },
   "outputs": [],
   "source": [
    "d['name'] = 'Michael'\n",
    "d['color'] = 'blue'"
   ]
  },
  {
   "cell_type": "code",
   "execution_count": 9,
   "metadata": {
    "collapsed": true
   },
   "outputs": [],
   "source": [
    "d[2]='two'"
   ]
  },
  {
   "cell_type": "code",
   "execution_count": 5,
   "metadata": {
    "collapsed": true
   },
   "outputs": [],
   "source": [
    "d[0]='zero'"
   ]
  },
  {
   "cell_type": "code",
   "execution_count": 10,
   "metadata": {
    "collapsed": false
   },
   "outputs": [],
   "source": [
    "del d[2]"
   ]
  },
  {
   "cell_type": "code",
   "execution_count": 12,
   "metadata": {
    "collapsed": false
   },
   "outputs": [
    {
     "data": {
      "text/plain": [
       "[0, 'color', 'name']"
      ]
     },
     "execution_count": 12,
     "metadata": {},
     "output_type": "execute_result"
    }
   ],
   "source": [
    "list(d.keys()) #There is no guarantee in what order the keys are returned in"
   ]
  },
  {
   "cell_type": "code",
   "execution_count": 13,
   "metadata": {
    "collapsed": false
   },
   "outputs": [
    {
     "data": {
      "text/plain": [
       "['zero', 'blue', 'Michael']"
      ]
     },
     "execution_count": 13,
     "metadata": {},
     "output_type": "execute_result"
    }
   ],
   "source": [
    "list(d.values()) #In no particular order"
   ]
  },
  {
   "cell_type": "code",
   "execution_count": 14,
   "metadata": {
    "collapsed": false
   },
   "outputs": [
    {
     "data": {
      "text/plain": [
       "[(0, 'zero'), ('color', 'blue'), ('name', 'Michael')]"
      ]
     },
     "execution_count": 14,
     "metadata": {},
     "output_type": "execute_result"
    }
   ],
   "source": [
    "list(d.items())"
   ]
  },
  {
   "cell_type": "code",
   "execution_count": 16,
   "metadata": {
    "collapsed": false
   },
   "outputs": [
    {
     "name": "stdout",
     "output_type": "stream",
     "text": [
      "0\n",
      "color\n",
      "name\n"
     ]
    }
   ],
   "source": [
    "for k in d.keys(): #By default d returns the keys, so d.keys() is not necesarry, for k in d: works too\n",
    "    print(k)"
   ]
  },
  {
   "cell_type": "code",
   "execution_count": 19,
   "metadata": {
    "collapsed": false
   },
   "outputs": [
    {
     "name": "stdout",
     "output_type": "stream",
     "text": [
      "0 => zero\n",
      "color => blue\n",
      "name => Michael\n"
     ]
    }
   ],
   "source": [
    "for k, v in d.items(): #this is destructuring of the tuples of items \n",
    "    print(k,'=>',v)"
   ]
  },
  {
   "cell_type": "code",
   "execution_count": 20,
   "metadata": {
    "collapsed": true
   },
   "outputs": [],
   "source": [
    "import urllib.request"
   ]
  },
  {
   "cell_type": "code",
   "execution_count": 21,
   "metadata": {
    "collapsed": true
   },
   "outputs": [],
   "source": [
    "peter_pan_text = urllib.request.urlopen('http://www.gutenberg.org/files/16/16-0.txt').read().decode()"
   ]
  },
  {
   "cell_type": "code",
   "execution_count": 23,
   "metadata": {
    "collapsed": false
   },
   "outputs": [
    {
     "data": {
      "text/plain": [
       "'\\ufeffThe Project Gutenberg EBook of Peter Pan, by James M. Barrie\\r\\n\\r\\nThis eBook is for the use of anyone'"
      ]
     },
     "execution_count": 23,
     "metadata": {},
     "output_type": "execute_result"
    }
   ],
   "source": [
    "peter_pan_text[:100] #Put a ? in front of a method to find out what it does"
   ]
  },
  {
   "cell_type": "code",
   "execution_count": 25,
   "metadata": {
    "collapsed": true
   },
   "outputs": [],
   "source": [
    "peter_pan_words = peter_pan_text.split()"
   ]
  },
  {
   "cell_type": "code",
   "execution_count": 27,
   "metadata": {
    "collapsed": false
   },
   "outputs": [
    {
     "data": {
      "text/plain": [
       "238"
      ]
     },
     "execution_count": 27,
     "metadata": {},
     "output_type": "execute_result"
    }
   ],
   "source": [
    "peter_pan_words.count('Peter')"
   ]
  },
  {
   "cell_type": "code",
   "execution_count": 28,
   "metadata": {
    "collapsed": false
   },
   "outputs": [
    {
     "data": {
      "text/plain": [
       "12432"
      ]
     },
     "execution_count": 28,
     "metadata": {},
     "output_type": "execute_result"
    }
   ],
   "source": [
    "peter_pan_words.index('Hook')"
   ]
  },
  {
   "cell_type": "code",
   "execution_count": 29,
   "metadata": {
    "collapsed": true
   },
   "outputs": [],
   "source": [
    "peter_pan_word_count = {}\n",
    "for k in peter_pan_words:\n",
    "    if(k in peter_pan_word_count):\n",
    "        peter_pan_word_count[k] +=1\n",
    "    else:\n",
    "        peter_pan_word_count[k] = 1"
   ]
  },
  {
   "cell_type": "code",
   "execution_count": 31,
   "metadata": {
    "collapsed": false
   },
   "outputs": [
    {
     "data": {
      "text/plain": [
       "2331"
      ]
     },
     "execution_count": 31,
     "metadata": {},
     "output_type": "execute_result"
    }
   ],
   "source": [
    "peter_pan_word_count['the']"
   ]
  },
  {
   "cell_type": "markdown",
   "metadata": {},
   "source": [
    "## Functions, Classes, and Modules"
   ]
  },
  {
   "cell_type": "markdown",
   "metadata": {},
   "source": [
    "### Functions"
   ]
  },
  {
   "cell_type": "code",
   "execution_count": 32,
   "metadata": {
    "collapsed": false
   },
   "outputs": [],
   "source": [
    "def foo(): #Syntax: def name(arguments): body or code\n",
    "    pass"
   ]
  },
  {
   "cell_type": "code",
   "execution_count": 33,
   "metadata": {
    "collapsed": true
   },
   "outputs": [],
   "source": [
    "def say_hi(name):\n",
    "    print('Hello', name) #Automatically prints with a space in between"
   ]
  },
  {
   "cell_type": "code",
   "execution_count": 34,
   "metadata": {
    "collapsed": false
   },
   "outputs": [
    {
     "name": "stdout",
     "output_type": "stream",
     "text": [
      "Hello World\n"
     ]
    }
   ],
   "source": [
    "say_hi('World')"
   ]
  },
  {
   "cell_type": "code",
   "execution_count": 36,
   "metadata": {
    "collapsed": false
   },
   "outputs": [
    {
     "data": {
      "text/plain": [
       "'Hello World'"
      ]
     },
     "execution_count": 36,
     "metadata": {},
     "output_type": "execute_result"
    }
   ],
   "source": [
    "'Hello {}'.format('World') #Curly braces are the default placeholder, one way of string interpolation"
   ]
  },
  {
   "cell_type": "code",
   "execution_count": 37,
   "metadata": {
    "collapsed": true
   },
   "outputs": [],
   "source": [
    "def say_hi(n1,n2):\n",
    "    print('hello', n1, n2)"
   ]
  },
  {
   "cell_type": "code",
   "execution_count": 39,
   "metadata": {
    "collapsed": false
   },
   "outputs": [
    {
     "name": "stdout",
     "output_type": "stream",
     "text": [
      "hello World !!!\n"
     ]
    }
   ],
   "source": [
    "say_hi(n1= \"World\", n2 = \"!!!\") #This can be done out of order as well"
   ]
  },
  {
   "cell_type": "code",
   "execution_count": 40,
   "metadata": {
    "collapsed": false
   },
   "outputs": [
    {
     "name": "stdout",
     "output_type": "stream",
     "text": [
      "hello World !!!\n"
     ]
    }
   ],
   "source": [
    "args = {'n1': 'World','n2': '!!!'}\n",
    "say_hi(**args)# the double star unpacks the args from a dictionary"
   ]
  },
  {
   "cell_type": "code",
   "execution_count": 43,
   "metadata": {
    "collapsed": true
   },
   "outputs": [],
   "source": [
    "def say_hi(*names): #This means that as many args as there are get stuffed into a tuple  \n",
    "    for n in names:\n",
    "        print('hello',n)"
   ]
  },
  {
   "cell_type": "code",
   "execution_count": 46,
   "metadata": {
    "collapsed": false
   },
   "outputs": [
    {
     "name": "stdout",
     "output_type": "stream",
     "text": [
      "hello hi\n"
     ]
    }
   ],
   "source": [
    "say_hi('hi')"
   ]
  },
  {
   "cell_type": "code",
   "execution_count": 48,
   "metadata": {
    "collapsed": false
   },
   "outputs": [
    {
     "data": {
      "text/plain": [
       "<function __main__.say_hi>"
      ]
     },
     "execution_count": 48,
     "metadata": {},
     "output_type": "execute_result"
    }
   ],
   "source": [
    "say_hi #Functions can be objects"
   ]
  },
  {
   "cell_type": "code",
   "execution_count": 50,
   "metadata": {
    "collapsed": false
   },
   "outputs": [
    {
     "data": {
      "text/plain": [
       "['__annotations__',\n",
       " '__call__',\n",
       " '__class__',\n",
       " '__closure__',\n",
       " '__code__',\n",
       " '__defaults__',\n",
       " '__delattr__',\n",
       " '__dict__',\n",
       " '__dir__',\n",
       " '__doc__',\n",
       " '__eq__',\n",
       " '__format__',\n",
       " '__ge__',\n",
       " '__get__',\n",
       " '__getattribute__',\n",
       " '__globals__',\n",
       " '__gt__',\n",
       " '__hash__',\n",
       " '__init__',\n",
       " '__kwdefaults__',\n",
       " '__le__',\n",
       " '__lt__',\n",
       " '__module__',\n",
       " '__name__',\n",
       " '__ne__',\n",
       " '__new__',\n",
       " '__qualname__',\n",
       " '__reduce__',\n",
       " '__reduce_ex__',\n",
       " '__repr__',\n",
       " '__setattr__',\n",
       " '__sizeof__',\n",
       " '__str__',\n",
       " '__subclasshook__']"
      ]
     },
     "execution_count": 50,
     "metadata": {},
     "output_type": "execute_result"
    }
   ],
   "source": [
    "dir(say_hi)"
   ]
  },
  {
   "cell_type": "code",
   "execution_count": 52,
   "metadata": {
    "collapsed": false
   },
   "outputs": [
    {
     "name": "stdout",
     "output_type": "stream",
     "text": [
      "hello World\n",
      "hello !!!\n"
     ]
    }
   ],
   "source": [
    "say_hi.__call__('World','!!!')"
   ]
  },
  {
   "cell_type": "code",
   "execution_count": 53,
   "metadata": {
    "collapsed": true
   },
   "outputs": [],
   "source": [
    "f = say_hi #This means that f refers to the same object as say hi"
   ]
  },
  {
   "cell_type": "code",
   "execution_count": 54,
   "metadata": {
    "collapsed": false
   },
   "outputs": [
    {
     "name": "stdout",
     "output_type": "stream",
     "text": [
      "hello Goodbye\n"
     ]
    }
   ],
   "source": [
    "f('Goodbye')"
   ]
  },
  {
   "cell_type": "markdown",
   "metadata": {},
   "source": [
    "We refer to functions that can be passed around and stored as \"first class functions\" This allows us to use functions as data"
   ]
  },
  {
   "cell_type": "markdown",
   "metadata": {},
   "source": [
    "Higher order functions are functions that take functions as a parameter or return value or both"
   ]
  },
  {
   "cell_type": "code",
   "execution_count": 55,
   "metadata": {
    "collapsed": false
   },
   "outputs": [
    {
     "data": {
      "text/plain": [
       "['cakes', 'i', 'like']"
      ]
     },
     "execution_count": 55,
     "metadata": {},
     "output_type": "execute_result"
    }
   ],
   "source": [
    "sorted(['i','like','cakes'])"
   ]
  },
  {
   "cell_type": "code",
   "execution_count": 58,
   "metadata": {
    "collapsed": false
   },
   "outputs": [
    {
     "data": {
      "text/plain": [
       "['like', 'i', 'cakes']"
      ]
     },
     "execution_count": 58,
     "metadata": {},
     "output_type": "execute_result"
    }
   ],
   "source": [
    "sorted(['i','like','cakes'], reverse = True)"
   ]
  },
  {
   "cell_type": "code",
   "execution_count": 60,
   "metadata": {
    "collapsed": false
   },
   "outputs": [
    {
     "data": {
      "text/plain": [
       "['i', 'like', 'cakes']"
      ]
     },
     "execution_count": 60,
     "metadata": {},
     "output_type": "execute_result"
    }
   ],
   "source": [
    "sorted(['i','like','cakes'],key=len) #The function len gets applied to each value and then those values are compared"
   ]
  },
  {
   "cell_type": "code",
   "execution_count": 64,
   "metadata": {
    "collapsed": false
   },
   "outputs": [],
   "source": [
    "coords = [(0,0), (-5,0), (1,-100), (2,2), (50,50)]"
   ]
  },
  {
   "cell_type": "code",
   "execution_count": 65,
   "metadata": {
    "collapsed": false
   },
   "outputs": [
    {
     "data": {
      "text/plain": [
       "[(-5, 0), (0, 0), (1, -100), (2, 2), (50, 50)]"
      ]
     },
     "execution_count": 65,
     "metadata": {},
     "output_type": "execute_result"
    }
   ],
   "source": [
    "sorted(coords)"
   ]
  },
  {
   "cell_type": "code",
   "execution_count": 66,
   "metadata": {
    "collapsed": true
   },
   "outputs": [],
   "source": [
    "import math\n",
    "def distance(coord):\n",
    "    return math.sqrt(coord[0]**2 + coord[1]**2)"
   ]
  },
  {
   "cell_type": "code",
   "execution_count": 67,
   "metadata": {
    "collapsed": false
   },
   "outputs": [
    {
     "data": {
      "text/plain": [
       "5.0"
      ]
     },
     "execution_count": 67,
     "metadata": {},
     "output_type": "execute_result"
    }
   ],
   "source": [
    "distance((3,4))"
   ]
  },
  {
   "cell_type": "code",
   "execution_count": 68,
   "metadata": {
    "collapsed": false
   },
   "outputs": [
    {
     "data": {
      "text/plain": [
       "[(0, 0), (2, 2), (-5, 0), (50, 50), (1, -100)]"
      ]
     },
     "execution_count": 68,
     "metadata": {},
     "output_type": "execute_result"
    }
   ],
   "source": [
    "sorted(coords, key=distance)"
   ]
  },
  {
   "cell_type": "code",
   "execution_count": 69,
   "metadata": {
    "collapsed": true
   },
   "outputs": [],
   "source": [
    "def sum_of_x_and_y(coord):\n",
    "    return coord[0] + coord[1]"
   ]
  },
  {
   "cell_type": "code",
   "execution_count": 70,
   "metadata": {
    "collapsed": false
   },
   "outputs": [
    {
     "data": {
      "text/plain": [
       "[(1, -100), (-5, 0), (0, 0), (2, 2), (50, 50)]"
      ]
     },
     "execution_count": 70,
     "metadata": {},
     "output_type": "execute_result"
    }
   ],
   "source": [
    "sorted(coords, key=sum_of_x_and_y)"
   ]
  },
  {
   "cell_type": "code",
   "execution_count": 71,
   "metadata": {
    "collapsed": false
   },
   "outputs": [
    {
     "data": {
      "text/plain": [
       "<function __main__.<lambda>>"
      ]
     },
     "execution_count": 71,
     "metadata": {},
     "output_type": "execute_result"
    }
   ],
   "source": [
    "lambda x: x+1 #This is basically a nameless function"
   ]
  },
  {
   "cell_type": "code",
   "execution_count": 73,
   "metadata": {
    "collapsed": false
   },
   "outputs": [
    {
     "data": {
      "text/plain": [
       "11"
      ]
     },
     "execution_count": 73,
     "metadata": {},
     "output_type": "execute_result"
    }
   ],
   "source": [
    "(lambda x: x+1)(10)"
   ]
  },
  {
   "cell_type": "code",
   "execution_count": 75,
   "metadata": {
    "collapsed": false
   },
   "outputs": [
    {
     "data": {
      "text/plain": [
       "[(1, -100), (-5, 0), (0, 0), (2, 2), (50, 50)]"
      ]
     },
     "execution_count": 75,
     "metadata": {},
     "output_type": "execute_result"
    }
   ],
   "source": [
    "sorted(coords, key=lambda c: c[0]+c[1])"
   ]
  },
  {
   "cell_type": "code",
   "execution_count": 79,
   "metadata": {
    "collapsed": false
   },
   "outputs": [],
   "source": [
    "distances = [] #Bad code\n",
    "for c in coords:\n",
    "    distances.append(distance(c))"
   ]
  },
  {
   "cell_type": "code",
   "execution_count": 78,
   "metadata": {
    "collapsed": false
   },
   "outputs": [
    {
     "data": {
      "text/plain": [
       "[0.0, 5.0, 100.00499987500625, 2.8284271247461903, 70.71067811865476]"
      ]
     },
     "execution_count": 78,
     "metadata": {},
     "output_type": "execute_result"
    }
   ],
   "source": [
    "[distance(c) for c in coords]"
   ]
  },
  {
   "cell_type": "code",
   "execution_count": 80,
   "metadata": {
    "collapsed": true
   },
   "outputs": [],
   "source": [
    "def mymap(f, lst): #Map is a higher order function it takes a function as an argument\n",
    "    return[f(x) for x in lst]"
   ]
  },
  {
   "cell_type": "code",
   "execution_count": 82,
   "metadata": {
    "collapsed": false
   },
   "outputs": [
    {
     "data": {
      "text/plain": [
       "[0.0, 5.0, 100.00499987500625, 2.8284271247461903, 70.71067811865476]"
      ]
     },
     "execution_count": 82,
     "metadata": {},
     "output_type": "execute_result"
    }
   ],
   "source": [
    "mymap(distance,coords) #This maps the function to the list"
   ]
  },
  {
   "cell_type": "code",
   "execution_count": 85,
   "metadata": {
    "collapsed": false
   },
   "outputs": [
    {
     "data": {
      "text/plain": [
       "[0.0, 5.0, 100.00499987500625, 2.8284271247461903, 70.71067811865476]"
      ]
     },
     "execution_count": 85,
     "metadata": {},
     "output_type": "execute_result"
    }
   ],
   "source": [
    "list(map(distance,coords))#Normally it returns a map object"
   ]
  },
  {
   "cell_type": "code",
   "execution_count": 86,
   "metadata": {
    "collapsed": false
   },
   "outputs": [
    {
     "data": {
      "text/plain": [
       "[('the', 2331),\n",
       " ('and', 1396),\n",
       " ('to', 1214),\n",
       " ('a', 962),\n",
       " ('of', 929),\n",
       " ('was', 898),\n",
       " ('he', 866),\n",
       " ('in', 683),\n",
       " ('that', 564),\n",
       " ('had', 498),\n",
       " ('it', 473),\n",
       " ('she', 465),\n",
       " ('they', 465),\n",
       " ('his', 455),\n",
       " ('you', 403),\n",
       " ('but', 378),\n",
       " ('for', 377),\n",
       " ('not', 375),\n",
       " ('her', 361),\n",
       " ('with', 361),\n",
       " ('is', 350),\n",
       " ('on', 329),\n",
       " ('at', 322),\n",
       " ('as', 315),\n",
       " ('I', 253),\n",
       " ('be', 249),\n",
       " ('have', 247),\n",
       " ('were', 243),\n",
       " ('Peter', 238),\n",
       " ('all', 221),\n",
       " ('said', 218),\n",
       " ('their', 215),\n",
       " ('would', 211),\n",
       " ('Wendy', 200),\n",
       " ('so', 197),\n",
       " ('this', 195),\n",
       " ('are', 188),\n",
       " ('him', 186),\n",
       " ('by', 175),\n",
       " ('one', 170),\n",
       " ('them', 165),\n",
       " ('He', 163),\n",
       " ('“I', 159),\n",
       " ('when', 152),\n",
       " ('The', 150),\n",
       " ('from', 145),\n",
       " ('could', 139),\n",
       " ('we', 138),\n",
       " ('no', 136),\n",
       " ('been', 135),\n",
       " ('who', 134),\n",
       " ('or', 133),\n",
       " ('if', 125),\n",
       " ('which', 122),\n",
       " ('It', 121),\n",
       " ('did', 115),\n",
       " ('out', 115),\n",
       " ('up', 113),\n",
       " ('there', 111),\n",
       " ('She', 109),\n",
       " ('said,', 108),\n",
       " ('about', 106),\n",
       " ('what', 105),\n",
       " ('an', 102),\n",
       " ('They', 102),\n",
       " ('into', 101),\n",
       " ('do', 98),\n",
       " ('Darling', 93),\n",
       " ('little', 91),\n",
       " ('like', 86),\n",
       " ('see', 85),\n",
       " ('only', 84),\n",
       " ('Hook', 84),\n",
       " ('will', 84),\n",
       " ('time', 81),\n",
       " ('your', 80),\n",
       " ('Project', 79),\n",
       " ('John', 76),\n",
       " ('now', 75),\n",
       " ('children', 75),\n",
       " ('just', 74),\n",
       " ('cried', 72),\n",
       " ('Mrs.', 72),\n",
       " ('came', 71),\n",
       " ('thought', 69),\n",
       " ('Michael', 69),\n",
       " ('other', 69),\n",
       " ('my', 69),\n",
       " ('must', 68),\n",
       " ('any', 68),\n",
       " ('then', 67),\n",
       " ('him.', 66),\n",
       " ('know', 65),\n",
       " ('But', 65),\n",
       " ('never', 65),\n",
       " ('very', 64),\n",
       " ('first', 64),\n",
       " ('knew', 63),\n",
       " ('it,', 63),\n",
       " ('more', 62),\n",
       " ('quite', 62),\n",
       " ('boys', 61),\n",
       " ('how', 60),\n",
       " ('such', 60),\n",
       " ('than', 60),\n",
       " ('way', 60),\n",
       " ('over', 57),\n",
       " ('it.', 56),\n",
       " ('go', 56),\n",
       " ('course', 55),\n",
       " ('Wendy,', 54),\n",
       " ('don’t', 54),\n",
       " ('Gutenberg-tm', 53),\n",
       " ('him,', 53),\n",
       " ('down', 51),\n",
       " ('still', 51),\n",
       " ('always', 50),\n",
       " ('come', 50),\n",
       " ('Peter,', 50),\n",
       " ('can', 50),\n",
       " ('long', 50),\n",
       " ('last', 49),\n",
       " ('may', 49),\n",
       " ('because', 49),\n",
       " ('made', 49),\n",
       " ('moment', 48),\n",
       " ('went', 48),\n",
       " ('should', 47),\n",
       " ('them,', 47),\n",
       " ('me', 47),\n",
       " ('think', 47),\n",
       " ('though', 46),\n",
       " ('Mr.', 46),\n",
       " ('Then', 46),\n",
       " ('through', 46),\n",
       " ('after', 45),\n",
       " ('let', 44),\n",
       " ('am', 44),\n",
       " ('really', 44),\n",
       " ('heard', 43),\n",
       " ('round', 43),\n",
       " ('There', 43),\n",
       " ('cried,', 42),\n",
       " ('where', 42),\n",
       " ('even', 42),\n",
       " ('without', 41),\n",
       " ('her.', 41),\n",
       " ('saw', 41),\n",
       " ('rather', 41),\n",
       " ('before', 40),\n",
       " ('once', 40),\n",
       " ('most', 40),\n",
       " ('found', 40),\n",
       " ('has', 40),\n",
       " ('put', 40),\n",
       " ('get', 39),\n",
       " ('every', 39),\n",
       " ('tell', 38),\n",
       " ('“It', 38),\n",
       " ('work', 38),\n",
       " ('ever', 37),\n",
       " ('pirates', 37),\n",
       " ('night', 37),\n",
       " ('Of', 37),\n",
       " ('them.', 37),\n",
       " ('her,', 37),\n",
       " ('You', 36),\n",
       " ('almost', 36),\n",
       " ('“What', 36),\n",
       " ('two', 36),\n",
       " ('say', 36),\n",
       " ('gave', 36),\n",
       " ('“You', 35),\n",
       " ('us', 35),\n",
       " ('look', 35),\n",
       " ('upon', 35),\n",
       " ('looking', 35),\n",
       " ('sat', 34),\n",
       " ('too', 34),\n",
       " ('Chapter', 34),\n",
       " ('Nana', 34),\n",
       " ('If', 33),\n",
       " ('looked', 33),\n",
       " ('again', 33),\n",
       " ('mother', 33),\n",
       " ('asked', 33),\n",
       " ('got', 33),\n",
       " ('told', 33),\n",
       " ('man', 33),\n",
       " ('In', 33),\n",
       " ('thing', 33),\n",
       " ('hand', 32),\n",
       " ('hear', 32),\n",
       " ('This', 32),\n",
       " ('off', 31),\n",
       " ('going', 31),\n",
       " ('back', 31),\n",
       " ('called', 31),\n",
       " ('take', 31),\n",
       " ('each', 31),\n",
       " ('some', 30),\n",
       " ('much', 30),\n",
       " ('THE', 29),\n",
       " ('fell', 29),\n",
       " ('sure', 29),\n",
       " ('things', 29),\n",
       " ('now,', 29),\n",
       " ('away', 29),\n",
       " ('For', 28),\n",
       " ('want', 28),\n",
       " ('sound', 28),\n",
       " ('might', 28),\n",
       " ('Smee', 28),\n",
       " ('under', 28),\n",
       " ('its', 28),\n",
       " ('Peter.', 27),\n",
       " ('“And', 27),\n",
       " ('electronic', 27),\n",
       " ('Peter’s', 27),\n",
       " ('said.', 27),\n",
       " ('make', 27),\n",
       " ('Tinker', 27),\n",
       " ('And', 27),\n",
       " ('himself', 27),\n",
       " ('Wendy’s', 26),\n",
       " ('soon', 26),\n",
       " ('our', 26),\n",
       " ('light', 26),\n",
       " ('Slightly', 26),\n",
       " ('face', 26),\n",
       " ('give', 26),\n",
       " ('these', 26),\n",
       " ('being', 26),\n",
       " ('Tink', 26),\n",
       " ('good', 25),\n",
       " ('house', 25),\n",
       " ('eyes', 25),\n",
       " ('many', 25),\n",
       " ('shall', 25),\n",
       " ('To', 25),\n",
       " ('bed', 25),\n",
       " ('while', 25),\n",
       " ('old', 25),\n",
       " ('home', 25),\n",
       " ('another', 24),\n",
       " ('Tootles', 24),\n",
       " ('took', 24),\n",
       " ('“Oh,', 24),\n",
       " ('you,', 24),\n",
       " ('replied', 24),\n",
       " ('Wendy.', 24),\n",
       " ('three', 24),\n",
       " ('can’t', 24),\n",
       " ('As', 24),\n",
       " ('well', 24),\n",
       " ('nursery', 23),\n",
       " ('great', 23),\n",
       " ('something', 23),\n",
       " ('works', 23),\n",
       " ('seemed', 23),\n",
       " ('against', 23),\n",
       " ('again,', 23),\n",
       " ('again.', 22),\n",
       " ('felt', 22),\n",
       " ('tried', 22),\n",
       " ('stood', 22),\n",
       " ('Gutenberg', 22),\n",
       " ('sometimes', 22),\n",
       " ('till', 22),\n",
       " ('same', 22),\n",
       " ('pirate', 22),\n",
       " ('suddenly', 21),\n",
       " ('part', 21),\n",
       " ('“No,', 21),\n",
       " ('flew', 21),\n",
       " ('until', 21),\n",
       " ('lost', 21),\n",
       " ('terms', 21),\n",
       " ('John,', 21),\n",
       " ('Hook’s', 21),\n",
       " ('“Yes,', 20),\n",
       " ('save', 20),\n",
       " ('new', 20),\n",
       " ('help', 20),\n",
       " ('room', 20),\n",
       " ('“and', 20),\n",
       " ('boy', 20),\n",
       " ('seen', 20),\n",
       " ('window', 20),\n",
       " ('A', 19),\n",
       " ('except', 19),\n",
       " ('me,', 19),\n",
       " ('fly', 19),\n",
       " ('“The', 19),\n",
       " ('“If', 19),\n",
       " ('use', 19),\n",
       " ('others', 19),\n",
       " ('own', 19),\n",
       " ('What', 19),\n",
       " ('redskins', 19),\n",
       " ('At', 18),\n",
       " ('longer', 18),\n",
       " ('head', 18),\n",
       " ('full', 18),\n",
       " ('days', 18),\n",
       " ('this,', 18),\n",
       " ('cried.', 18),\n",
       " ('Now', 18),\n",
       " ('up,', 18),\n",
       " ('tree', 18),\n",
       " ('also', 18),\n",
       " ('Hook,', 18),\n",
       " ('island', 18),\n",
       " ('So', 18),\n",
       " ('When', 18),\n",
       " ('whether', 18),\n",
       " ('out.', 18),\n",
       " ('often', 18),\n",
       " ('lay', 17),\n",
       " ('those', 17),\n",
       " ('Michael,', 17),\n",
       " ('thus', 17),\n",
       " ('“But', 17),\n",
       " ('ran', 17),\n",
       " ('does', 17),\n",
       " ('used', 17),\n",
       " ('All', 17),\n",
       " ('around', 17),\n",
       " ('already', 17),\n",
       " ('both', 17),\n",
       " ('however,', 17),\n",
       " ('began', 17),\n",
       " ('copyright', 16),\n",
       " ('real', 16),\n",
       " ('Nibs', 16),\n",
       " ('We', 16),\n",
       " ('set', 16),\n",
       " ('here', 16),\n",
       " ('best', 16),\n",
       " ('bird', 16),\n",
       " ('terrible', 16),\n",
       " ('“O', 16),\n",
       " ('far', 16),\n",
       " ('strange', 16),\n",
       " ('Bell', 16),\n",
       " ('“She', 16),\n",
       " ('flung', 16),\n",
       " ('“He', 16),\n",
       " ('His', 16),\n",
       " ('arms', 16),\n",
       " ('“Then', 15),\n",
       " ('then,', 15),\n",
       " ('feeling', 15),\n",
       " ('it?”', 15),\n",
       " ('“Yes.”', 15),\n",
       " ('lady', 15),\n",
       " ('find', 15),\n",
       " ('indeed', 15),\n",
       " ('voice', 15),\n",
       " ('perhaps', 15),\n",
       " ('out,', 15),\n",
       " ('nothing', 15),\n",
       " ('water', 15),\n",
       " ('says', 15),\n",
       " ('mouth', 15),\n",
       " ('Hook.', 15),\n",
       " ('him;', 15),\n",
       " ('one,', 15),\n",
       " ('up.', 14),\n",
       " ('That', 14),\n",
       " ('thinking', 14),\n",
       " ('answered', 14),\n",
       " ('was,', 14),\n",
       " ('Foundation', 14),\n",
       " ('“Do', 14),\n",
       " ('wanted', 14),\n",
       " ('yet', 14),\n",
       " ('Starkey', 14),\n",
       " ('glad', 14),\n",
       " ('liked', 14),\n",
       " ('keep', 14),\n",
       " ('“that', 14),\n",
       " ('“Let', 14),\n",
       " ('Peter,”', 14),\n",
       " ('hat', 14),\n",
       " ('time,', 14),\n",
       " ('bed.', 14),\n",
       " ('flying', 14),\n",
       " ('lovely', 14),\n",
       " ('you.”', 14),\n",
       " ('ground', 14),\n",
       " ('boys,', 14),\n",
       " ('fairy', 14),\n",
       " ('among', 14),\n",
       " ('need', 14),\n",
       " ('iron', 14),\n",
       " ('“Are', 14),\n",
       " ('left', 14),\n",
       " ('whole', 14),\n",
       " ('“It’s', 14),\n",
       " ('followed', 14),\n",
       " ('“Oh', 14),\n",
       " ('instead', 13),\n",
       " ('cannot', 13),\n",
       " ('end', 13),\n",
       " ('“Ay,', 13),\n",
       " ('heart', 13),\n",
       " ('Tiger', 13),\n",
       " ('say,', 13),\n",
       " ('Archive', 13),\n",
       " ('leave', 13),\n",
       " ('exactly', 13),\n",
       " ('them;', 13),\n",
       " ('cut', 13),\n",
       " ('Smee,', 13),\n",
       " ('white', 13),\n",
       " ('Jane', 13),\n",
       " ('right', 13),\n",
       " ('wish', 13),\n",
       " ('whispered', 13),\n",
       " ('pretty', 13),\n",
       " ('having', 13),\n",
       " ('nine', 13),\n",
       " ('near', 13),\n",
       " ('dear', 13),\n",
       " ('water,', 13),\n",
       " ('ones', 13),\n",
       " ('Pan', 13),\n",
       " ('between', 13),\n",
       " ('gone', 13),\n",
       " ('returned', 13),\n",
       " ('sleep', 13),\n",
       " ('words', 13),\n",
       " ('loved', 13),\n",
       " ('remember', 13),\n",
       " ('hand,', 13),\n",
       " ('Literary', 13),\n",
       " ('brought', 13),\n",
       " ('why', 13),\n",
       " ('lagoon', 13),\n",
       " ('large', 13),\n",
       " ('side', 12),\n",
       " ('kind', 12),\n",
       " ('“How', 12),\n",
       " ('me.”', 12),\n",
       " ('saying', 12),\n",
       " ('taken', 12),\n",
       " ('course,', 12),\n",
       " ('isn’t', 12),\n",
       " ('himself,', 12),\n",
       " ('kept', 12),\n",
       " ('comes', 12),\n",
       " ('awfully', 12),\n",
       " ('On', 12),\n",
       " ('better', 12),\n",
       " ('rose', 12),\n",
       " ('hands', 12),\n",
       " ('forgotten', 12),\n",
       " ('story', 12),\n",
       " ('crocodile', 12),\n",
       " ('air', 12),\n",
       " ('return', 12),\n",
       " ('merely', 12),\n",
       " ('passed', 12),\n",
       " ('answer', 12),\n",
       " ('rock', 12),\n",
       " ('By', 12),\n",
       " ('behind', 12),\n",
       " ('open', 12),\n",
       " ('father', 12),\n",
       " ('nice', 12),\n",
       " ('cry', 12),\n",
       " ('see,', 12),\n",
       " ('showed', 12),\n",
       " ('black', 12),\n",
       " ('dropped', 12),\n",
       " ('turned', 12),\n",
       " ('No', 12),\n",
       " ('big', 12),\n",
       " ('back.', 12),\n",
       " ('Slightly,', 12),\n",
       " ('anything', 12),\n",
       " ('person', 11),\n",
       " ('adventures', 11),\n",
       " ('Tootles,', 11),\n",
       " ('dogs', 11),\n",
       " ('door', 11),\n",
       " ('forth', 11),\n",
       " ('away,', 11),\n",
       " ('Neverland', 11),\n",
       " ('getting', 11),\n",
       " ('day', 11),\n",
       " ('on.', 11),\n",
       " ('Nana’s', 11),\n",
       " ('sitting', 11),\n",
       " ('“I’m', 11),\n",
       " ('drew', 11),\n",
       " ('one.', 11),\n",
       " ('all,', 11),\n",
       " ('boys.', 11),\n",
       " ('public', 11),\n",
       " ('mind', 11),\n",
       " ('“Peter', 11),\n",
       " ('few', 11),\n",
       " ('least', 11),\n",
       " ('across', 11),\n",
       " ('believe', 11),\n",
       " ('written', 11),\n",
       " ('also,', 11),\n",
       " ('shadow', 11),\n",
       " ('meant', 11),\n",
       " ('“That', 11),\n",
       " ('rushed', 11),\n",
       " ('Not', 11),\n",
       " ('fear', 11),\n",
       " ('whom', 11),\n",
       " ('carried', 11),\n",
       " ('know,', 11),\n",
       " ('“We', 11),\n",
       " ('became', 11),\n",
       " ('within', 11),\n",
       " ('now.', 11),\n",
       " ('Even', 11),\n",
       " ('“They', 11),\n",
       " ('donations', 11),\n",
       " ('With', 11),\n",
       " ('small', 11),\n",
       " ('spring', 11),\n",
       " ('bed,', 11),\n",
       " ('doing', 11),\n",
       " ('access', 10),\n",
       " ('Tink,', 10),\n",
       " ('short', 10),\n",
       " ('way.', 10),\n",
       " ('Curly', 10),\n",
       " ('United', 10),\n",
       " ('close', 10),\n",
       " ('Darling,', 10),\n",
       " ('window.', 10),\n",
       " ('and,', 10),\n",
       " ('trying', 10),\n",
       " ('“but', 10),\n",
       " ('gay', 10),\n",
       " ('paragraph', 10),\n",
       " ('frightfully', 10),\n",
       " ('playing', 10),\n",
       " ('hung', 10),\n",
       " ('How', 10),\n",
       " ('“Don’t', 10),\n",
       " ('girl', 10),\n",
       " ('keeping', 10),\n",
       " ('you?”', 10),\n",
       " ('on,', 10),\n",
       " ('“Who', 10),\n",
       " ('able', 10),\n",
       " ('turn', 10),\n",
       " ('voice,', 10),\n",
       " ('broke', 10),\n",
       " ('pass', 10),\n",
       " ('dark', 10),\n",
       " ('Never', 10),\n",
       " ('it;', 10),\n",
       " ('mother,', 10),\n",
       " ('Her', 10),\n",
       " ('fall', 10),\n",
       " ('ship', 10),\n",
       " ('hour', 10),\n",
       " ('Do', 10),\n",
       " ('adventure', 10),\n",
       " ('place', 10),\n",
       " ('reached', 10),\n",
       " ('done', 10),\n",
       " ('making', 10),\n",
       " ('floor', 10),\n",
       " ('carry', 10),\n",
       " ('Thus', 10),\n",
       " ('hook', 10),\n",
       " ('asked,', 10),\n",
       " ('grown', 10),\n",
       " ('mean', 10),\n",
       " ('OF', 10),\n",
       " ('next', 10),\n",
       " ('night,', 10),\n",
       " ('“you', 10),\n",
       " ('explained', 9),\n",
       " ('become', 9),\n",
       " ('slowly', 9),\n",
       " ('woke', 9),\n",
       " ('nest', 9),\n",
       " ('nearly', 9),\n",
       " ('less', 9),\n",
       " ('silly', 9),\n",
       " ('“There', 9),\n",
       " ('Some', 9),\n",
       " ('dreadful', 9),\n",
       " ('John.', 9),\n",
       " ('there,', 9),\n",
       " ('agreement', 9),\n",
       " ('“My', 9),\n",
       " ('forgot', 9),\n",
       " ('life', 9),\n",
       " ('evening', 9),\n",
       " ('tied', 9),\n",
       " ('medicine', 9),\n",
       " ('laws', 9),\n",
       " ('struck', 9),\n",
       " ('immediately', 9),\n",
       " ('inside', 9),\n",
       " ('so,', 9),\n",
       " ('form', 9),\n",
       " ('rest', 9),\n",
       " ('time.', 9),\n",
       " ('mother.', 9),\n",
       " ('“Well,', 9),\n",
       " ('happened', 9),\n",
       " ('“the', 9),\n",
       " ('coming', 9),\n",
       " ('brave', 9),\n",
       " ('me!”', 9),\n",
       " ('themselves', 9),\n",
       " ('it,”', 9),\n",
       " ('know,”', 9),\n",
       " ('quickly,', 9),\n",
       " ('asleep', 9),\n",
       " ('leaves', 9),\n",
       " ('mother’s', 9),\n",
       " ('showing', 9),\n",
       " ('Nana,', 9),\n",
       " ('fairies', 9),\n",
       " ('mother,”', 9),\n",
       " ('raised', 9),\n",
       " ('One', 9),\n",
       " ('feel', 9),\n",
       " ('island,', 9),\n",
       " ('six', 9),\n",
       " ('eBook', 9),\n",
       " ('ground,', 9),\n",
       " ('herself', 9),\n",
       " ('“Perhaps', 9),\n",
       " ('alone', 9),\n",
       " ('draw', 9),\n",
       " ('Wendy,”', 9),\n",
       " ('birds', 9),\n",
       " ('mothers', 9),\n",
       " ('pirates,', 8),\n",
       " ('air,', 8),\n",
       " ('agree', 8),\n",
       " ('shut', 8),\n",
       " ('walk', 8),\n",
       " ('name', 8),\n",
       " ('live', 8),\n",
       " ('leapt', 8),\n",
       " ('I’ll', 8),\n",
       " ('OR', 8),\n",
       " ('probably', 8),\n",
       " ('way,', 8),\n",
       " ('YOU', 8),\n",
       " ('James', 8),\n",
       " ('lagoon,', 8),\n",
       " ('love', 8),\n",
       " ('word', 8),\n",
       " ('License', 8),\n",
       " ('“No.”', 8),\n",
       " ('associated', 8),\n",
       " ('sea', 8),\n",
       " ('life.', 8),\n",
       " ('knows', 8),\n",
       " ('unless', 8),\n",
       " ('captain', 8),\n",
       " ('including', 8),\n",
       " ('trees,', 8),\n",
       " ('times', 8),\n",
       " ('happy', 8),\n",
       " ('ten', 8),\n",
       " ('“it', 8),\n",
       " ('trees', 8),\n",
       " ('***', 8),\n",
       " ('show', 8),\n",
       " ('waiting', 8),\n",
       " ('once,', 8),\n",
       " ('fee', 8),\n",
       " ('“Wendy,', 8),\n",
       " ('several', 8),\n",
       " ('hollow', 8),\n",
       " ('moment,', 8),\n",
       " ('wearing', 8),\n",
       " ('grow', 8),\n",
       " ('away.', 8),\n",
       " ('cast', 8),\n",
       " ('met', 8),\n",
       " ('foot', 8),\n",
       " ('half', 8),\n",
       " ('watch', 8),\n",
       " ('silence', 8),\n",
       " ('voice.', 8),\n",
       " ('meet', 8),\n",
       " ('While', 8),\n",
       " ('“Now', 8),\n",
       " ('more.', 8),\n",
       " ('blew', 8),\n",
       " ('another,', 8),\n",
       " ('held', 8),\n",
       " ('do,', 8),\n",
       " ('in.', 8),\n",
       " ('play', 8),\n",
       " ('kiss', 8),\n",
       " ('bit', 8),\n",
       " ('fly.”', 8),\n",
       " ('“I’ll', 8),\n",
       " ('beds', 8),\n",
       " ('call', 8),\n",
       " ('certain', 8),\n",
       " ('Slightly’s', 8),\n",
       " ('bad', 8),\n",
       " ('ask', 8),\n",
       " ('watching', 8),\n",
       " ('beginning', 8),\n",
       " ('ought', 8),\n",
       " ('cry,', 8),\n",
       " ('words,', 8),\n",
       " ('spoke', 8),\n",
       " ('copy', 8),\n",
       " ('back,', 8),\n",
       " ('claw', 8),\n",
       " ('toward', 8),\n",
       " ('“Of', 8),\n",
       " ('follow', 8),\n",
       " ('straight', 7),\n",
       " ('smoke', 7),\n",
       " ('themselves,', 7),\n",
       " ('blown', 7),\n",
       " ('true,', 7),\n",
       " ('that?”', 7),\n",
       " ('makes', 7),\n",
       " ('first,', 7),\n",
       " ('wasn’t', 7),\n",
       " ('THIS', 7),\n",
       " ('Nibs,', 7),\n",
       " ('it.”', 7),\n",
       " ('it’s', 7),\n",
       " ('dear,', 7),\n",
       " ('all.', 7),\n",
       " ('figure', 7),\n",
       " ('permission', 7),\n",
       " ('lagoon.', 7),\n",
       " ('using', 7),\n",
       " ('“why', 7),\n",
       " ('down,', 7),\n",
       " ('“Hullo,', 7),\n",
       " ('floor,', 7),\n",
       " ('sort', 7),\n",
       " ('unhappy', 7),\n",
       " ('ready,', 7),\n",
       " ('lady,', 7),\n",
       " ('particular', 7),\n",
       " ('not.', 7),\n",
       " ('“Peter,”', 7),\n",
       " ('known', 7),\n",
       " ('forget', 7),\n",
       " ('feet', 7),\n",
       " ('feelings', 7),\n",
       " ('lit', 7),\n",
       " ('-', 7),\n",
       " ('run', 7),\n",
       " ('remembered', 7),\n",
       " ('mermaids', 7),\n",
       " ('that.', 7),\n",
       " ('Darling’s', 7),\n",
       " ('Wendy?”', 7),\n",
       " ('believed', 7),\n",
       " ('grew', 7),\n",
       " ('treated', 7),\n",
       " ('“Wendy,”', 7),\n",
       " ('fight', 7),\n",
       " ('people', 7),\n",
       " ('funny', 7),\n",
       " ('I’m', 7),\n",
       " ('Starkey,', 7),\n",
       " ('right,', 7),\n",
       " ('signed', 7),\n",
       " ('Michael’s', 7),\n",
       " ('complain', 7),\n",
       " ('crying', 7),\n",
       " ('number', 7),\n",
       " ('Peter?”', 7),\n",
       " ('frightful', 7),\n",
       " ('question', 7),\n",
       " ('knowing', 7),\n",
       " ('stick', 7),\n",
       " ('wants', 7),\n",
       " ('mouth,', 7),\n",
       " ('hoped', 7),\n",
       " ('sight', 7),\n",
       " ('sweet', 7),\n",
       " ('speak', 7),\n",
       " ('especially', 7),\n",
       " ('faces', 7),\n",
       " ('posted', 7),\n",
       " ('above', 7),\n",
       " ('out;', 7),\n",
       " ('father,”', 7),\n",
       " ('work,', 7),\n",
       " ('since', 7),\n",
       " ('hope', 7),\n",
       " ('ho,', 7),\n",
       " ('proud', 7),\n",
       " ('forward', 7),\n",
       " ('“Peter,', 7),\n",
       " ('hanging', 7),\n",
       " ('true', 7),\n",
       " ('story,', 7),\n",
       " ('low', 7),\n",
       " ('suppose', 7),\n",
       " ('cabin', 7),\n",
       " ('domain', 7),\n",
       " ('woman', 7),\n",
       " ('dead', 7),\n",
       " ('present', 7),\n",
       " ('paid', 7),\n",
       " ('pretend', 7),\n",
       " ('kill', 7),\n",
       " ('copies', 7),\n",
       " ('Had', 7),\n",
       " ('to,', 7),\n",
       " ('house,', 7),\n",
       " ('trees.', 7),\n",
       " ('fire', 7),\n",
       " ('Section', 7),\n",
       " ('discovered', 7),\n",
       " ('whispered,', 7),\n",
       " ('“A', 7),\n",
       " ('free', 7),\n",
       " ('won’t', 7),\n",
       " ('name.', 7),\n",
       " ('mother.”', 7),\n",
       " ('tree.', 7),\n",
       " ('nor', 6),\n",
       " ('sense', 6),\n",
       " ('fond', 6),\n",
       " ('After', 6),\n",
       " ('agreement,', 6),\n",
       " ('time;', 6),\n",
       " ('work.', 6),\n",
       " ('this.', 6),\n",
       " ('“There’s', 6),\n",
       " ('“Where', 6),\n",
       " ('“Is', 6),\n",
       " ('Jane.', 6),\n",
       " ('him,”', 6),\n",
       " ('Smee.', 6),\n",
       " ('you,”', 6),\n",
       " ('men', 6),\n",
       " ('“Ay,”', 6),\n",
       " ('other.', 6),\n",
       " ('“is', 6),\n",
       " ('house.”', 6),\n",
       " ('children,', 6),\n",
       " ('married', 6),\n",
       " ('time.”', 6),\n",
       " ('third', 6),\n",
       " ('dog', 6),\n",
       " ('dagger', 6),\n",
       " ('master', 6),\n",
       " ('listening', 6),\n",
       " ('lived', 6),\n",
       " ('charge', 6),\n",
       " ('hair', 6),\n",
       " ('surprise', 6),\n",
       " ('innocent', 6),\n",
       " ('cleaning', 6),\n",
       " ('second', 6),\n",
       " ('front', 6),\n",
       " ('“Yes,”', 6),\n",
       " ('here,', 6),\n",
       " ('breathing', 6),\n",
       " ('man,”', 6),\n",
       " ('sorry', 6),\n",
       " ('Sometimes', 6),\n",
       " ('change', 6),\n",
       " ('Michael.', 6),\n",
       " ('caught', 6),\n",
       " ('twins', 6),\n",
       " ('in,', 6),\n",
       " ('eBooks', 6),\n",
       " ('red', 6),\n",
       " ('parents', 6),\n",
       " ('listened', 6),\n",
       " ('calling', 6),\n",
       " ('year', 6),\n",
       " ('redskin', 6),\n",
       " ('kennel', 6),\n",
       " ('state', 6),\n",
       " ('touch', 6),\n",
       " ('continued,', 6),\n",
       " ('Peter.”', 6),\n",
       " ('telling', 6),\n",
       " ('Tink,”', 6),\n",
       " ('week', 6),\n",
       " ('danced', 6),\n",
       " ('boy.', 6),\n",
       " ('arrow', 6),\n",
       " ('waited', 6),\n",
       " ('Again', 6),\n",
       " ('best,', 6),\n",
       " ('peeping', 6),\n",
       " ('asleep,', 6),\n",
       " ('“Oo!”', 6),\n",
       " ('other’s', 6),\n",
       " ('“Look', 6),\n",
       " ('“To', 6),\n",
       " ('stand', 6),\n",
       " ('darted', 6),\n",
       " ('ordinary', 6),\n",
       " ('talk', 6),\n",
       " ('HOME', 6),\n",
       " ('“if', 6),\n",
       " ('that,', 6),\n",
       " ('once.', 6),\n",
       " ('COME', 6),\n",
       " ('window,', 6),\n",
       " ('is,', 6),\n",
       " ('me,”', 6),\n",
       " ('However,', 6),\n",
       " ('none', 6),\n",
       " ('make-believe', 6),\n",
       " ('pretended', 6),\n",
       " ('circle', 6),\n",
       " ('Oh', 6),\n",
       " ('stories', 6),\n",
       " ('Neverland,', 6),\n",
       " ('Perhaps', 6),\n",
       " ('Liza', 6),\n",
       " ('distribution', 6),\n",
       " ('slept', 6),\n",
       " ('distributing', 6),\n",
       " ('sent', 6),\n",
       " ('Cecco', 6),\n",
       " ('provide', 6),\n",
       " ('right,”', 6),\n",
       " ('“Why', 6),\n",
       " ('everything', 6),\n",
       " ('perfectly', 6),\n",
       " ('boy,', 6),\n",
       " ('Every', 6),\n",
       " ('board', 6),\n",
       " ('remained', 6),\n",
       " ('“Not', 6),\n",
       " ('Here', 6),\n",
       " ('gathered', 6),\n",
       " ('carrying', 6),\n",
       " ('sharp', 6),\n",
       " ('Or', 6),\n",
       " ('killed', 6),\n",
       " ('mother?”', 6),\n",
       " ('comply', 6),\n",
       " ('afterwards', 6),\n",
       " ('stayed', 6),\n",
       " ('sound,', 6),\n",
       " ('step', 6),\n",
       " ('gaily', 6),\n",
       " ('Once', 6),\n",
       " ('beasts', 6),\n",
       " ('right.', 6),\n",
       " ('cold', 6),\n",
       " ('refund', 6),\n",
       " ('do.', 6),\n",
       " ('there.', 6),\n",
       " ('thought,', 6),\n",
       " ('along', 6),\n",
       " ('day,', 6),\n",
       " ('go.”', 6),\n",
       " ('dragged', 6),\n",
       " ('tree,', 6),\n",
       " ('“That’s', 6),\n",
       " ('tax', 6),\n",
       " ('given', 6),\n",
       " ('eyes.', 5),\n",
       " ('eye', 5),\n",
       " ('thinks', 5),\n",
       " ('dear,”', 5),\n",
       " ('him.”', 5),\n",
       " ('evil', 5),\n",
       " ('silence.', 5),\n",
       " ('fairies.', 5),\n",
       " ('tiny', 5),\n",
       " ('safe', 5),\n",
       " ('dress', 5),\n",
       " ('PETER', 5),\n",
       " ('“But,', 5),\n",
       " ('“to', 5),\n",
       " ('based', 5),\n",
       " ('Nibs?”', 5),\n",
       " ('outside', 5),\n",
       " ('space', 5),\n",
       " ('nurse', 5),\n",
       " ('“So', 5),\n",
       " ('Nana.', 5),\n",
       " ('difficult', 5),\n",
       " ('nature', 5),\n",
       " ('raising', 5),\n",
       " ...]"
      ]
     },
     "execution_count": 86,
     "metadata": {},
     "output_type": "execute_result"
    }
   ],
   "source": [
    "sorted(peter_pan_word_count.items(), key=lambda t: t[1], reverse=True)"
   ]
  },
  {
   "cell_type": "code",
   "execution_count": 87,
   "metadata": {
    "collapsed": false
   },
   "outputs": [
    {
     "data": {
      "text/plain": [
       "[('I', 253),\n",
       " ('Peter', 238),\n",
       " ('Wendy', 200),\n",
       " ('He', 163),\n",
       " ('The', 150),\n",
       " ('It', 121),\n",
       " ('She', 109),\n",
       " ('They', 102),\n",
       " ('Darling', 93),\n",
       " ('Hook', 84),\n",
       " ('Project', 79),\n",
       " ('John', 76),\n",
       " ('Mrs.', 72),\n",
       " ('Michael', 69),\n",
       " ('But', 65),\n",
       " ('Wendy,', 54),\n",
       " ('Gutenberg-tm', 53),\n",
       " ('Peter,', 50),\n",
       " ('Mr.', 46),\n",
       " ('Then', 46),\n",
       " ('There', 43),\n",
       " ('Of', 37),\n",
       " ('You', 36),\n",
       " ('Chapter', 34),\n",
       " ('Nana', 34),\n",
       " ('If', 33),\n",
       " ('In', 33),\n",
       " ('This', 32),\n",
       " ('THE', 29),\n",
       " ('For', 28),\n",
       " ('Smee', 28),\n",
       " ('Peter.', 27),\n",
       " ('Peter’s', 27),\n",
       " ('Tinker', 27),\n",
       " ('And', 27),\n",
       " ('Wendy’s', 26),\n",
       " ('Slightly', 26),\n",
       " ('Tink', 26),\n",
       " ('To', 25),\n",
       " ('Tootles', 24),\n",
       " ('Wendy.', 24),\n",
       " ('As', 24),\n",
       " ('Gutenberg', 22),\n",
       " ('John,', 21),\n",
       " ('Hook’s', 21),\n",
       " ('A', 19),\n",
       " ('What', 19),\n",
       " ('At', 18),\n",
       " ('Now', 18),\n",
       " ('Hook,', 18),\n",
       " ('So', 18),\n",
       " ('When', 18),\n",
       " ('Michael,', 17),\n",
       " ('All', 17),\n",
       " ('Nibs', 16),\n",
       " ('We', 16),\n",
       " ('Bell', 16),\n",
       " ('His', 16),\n",
       " ('Hook.', 15),\n",
       " ('That', 14),\n",
       " ('Foundation', 14),\n",
       " ('Starkey', 14),\n",
       " ('Peter,”', 14),\n",
       " ('Tiger', 13),\n",
       " ('Archive', 13),\n",
       " ('Smee,', 13),\n",
       " ('Jane', 13),\n",
       " ('Pan', 13),\n",
       " ('Literary', 13),\n",
       " ('On', 12),\n",
       " ('By', 12),\n",
       " ('No', 12),\n",
       " ('Slightly,', 12),\n",
       " ('Tootles,', 11),\n",
       " ('Neverland', 11),\n",
       " ('Nana’s', 11),\n",
       " ('Not', 11),\n",
       " ('Even', 11),\n",
       " ('With', 11),\n",
       " ('Tink,', 10),\n",
       " ('Curly', 10),\n",
       " ('United', 10),\n",
       " ('Darling,', 10),\n",
       " ('How', 10),\n",
       " ('Never', 10),\n",
       " ('Her', 10),\n",
       " ('Do', 10),\n",
       " ('Thus', 10),\n",
       " ('OF', 10),\n",
       " ('Some', 9),\n",
       " ('John.', 9),\n",
       " ('Nana,', 9),\n",
       " ('One', 9),\n",
       " ('Wendy,”', 9),\n",
       " ('I’ll', 8),\n",
       " ('OR', 8),\n",
       " ('YOU', 8),\n",
       " ('James', 8),\n",
       " ('License', 8),\n",
       " ('While', 8),\n",
       " ('Slightly’s', 8),\n",
       " ('THIS', 7),\n",
       " ('Nibs,', 7),\n",
       " ('Darling’s', 7),\n",
       " ('Wendy?”', 7),\n",
       " ('I’m', 7),\n",
       " ('Starkey,', 7),\n",
       " ('Michael’s', 7),\n",
       " ('Peter?”', 7),\n",
       " ('Had', 7),\n",
       " ('Section', 7),\n",
       " ('After', 6),\n",
       " ('Jane.', 6),\n",
       " ('Smee.', 6),\n",
       " ('Sometimes', 6),\n",
       " ('Michael.', 6),\n",
       " ('Peter.”', 6),\n",
       " ('Tink,”', 6),\n",
       " ('Again', 6),\n",
       " ('HOME', 6),\n",
       " ('COME', 6),\n",
       " ('However,', 6),\n",
       " ('Oh', 6),\n",
       " ('Neverland,', 6),\n",
       " ('Perhaps', 6),\n",
       " ('Liza', 6),\n",
       " ('Cecco', 6),\n",
       " ('Every', 6),\n",
       " ('Here', 6),\n",
       " ('Or', 6),\n",
       " ('Once', 6),\n",
       " ('PETER', 5),\n",
       " ('Nibs?”', 5),\n",
       " ('Nana.', 5),\n",
       " ('Wendy!”', 5),\n",
       " ('Jane,', 5),\n",
       " ('Lily', 5),\n",
       " ('Information', 5),\n",
       " ('John’s', 5),\n",
       " ('John,”', 5),\n",
       " ('Bell.', 5),\n",
       " ('Pan.', 5),\n",
       " ('George,”', 5),\n",
       " ('Wendy.”', 5),\n",
       " ('John?”', 5),\n",
       " ('Barbecue', 5),\n",
       " ('Was', 5),\n",
       " ('Marooners’', 5),\n",
       " ('Which', 5),\n",
       " ('Curly.', 5),\n",
       " ('Bill', 4),\n",
       " ('Long', 4),\n",
       " ('Peter;', 4),\n",
       " ('Foundation,', 4),\n",
       " ('Nibs.', 4),\n",
       " ('Jukes', 4),\n",
       " ('Class', 4),\n",
       " ('None', 4),\n",
       " ('Such', 4),\n",
       " ('Gutenberg”', 4),\n",
       " ('M.', 4),\n",
       " ('Jane’s', 4),\n",
       " ('States', 4),\n",
       " ('Now,', 4),\n",
       " ('Their', 4),\n",
       " ('Tink’s', 4),\n",
       " ('Describe', 4),\n",
       " ('Starkey.', 4),\n",
       " ('Mother’s', 4),\n",
       " ('Next', 4),\n",
       " ('Barrie', 4),\n",
       " ('Hook,”', 4),\n",
       " ('States.', 4),\n",
       " ('PROJECT', 4),\n",
       " ('English', 4),\n",
       " ('Saturday', 4),\n",
       " ('These', 4),\n",
       " ('Johnny', 4),\n",
       " ('Pan,', 4),\n",
       " ('PAN', 3),\n",
       " ('Twice', 3),\n",
       " ('Kensington', 3),\n",
       " ('George', 3),\n",
       " ('Thursday', 3),\n",
       " ('Mother', 3),\n",
       " ('Everything', 3),\n",
       " ('Certainly', 3),\n",
       " ('Many', 3),\n",
       " ('Nibs.”', 3),\n",
       " ('Father', 3),\n",
       " ('Still', 3),\n",
       " ('GUTENBERG', 3),\n",
       " ('Bell,', 3),\n",
       " ('Tom', 3),\n",
       " ('Cecco,', 3),\n",
       " ('Jukes,', 3),\n",
       " ('Alas,', 3),\n",
       " ('Web', 3),\n",
       " ('FULL', 3),\n",
       " ('Would', 3),\n",
       " ('Let', 3),\n",
       " ('ANY', 3),\n",
       " ('See', 3),\n",
       " ('Piccaninny', 3),\n",
       " ('Lily’s', 3),\n",
       " ('Twin?”', 3),\n",
       " ('Smee’s', 3),\n",
       " ('Indeed', 3),\n",
       " ('Darling.', 3),\n",
       " ('U.S.', 3),\n",
       " ('IN', 3),\n",
       " ('Great', 3),\n",
       " ('Skylights', 3),\n",
       " ('FOR', 3),\n",
       " ('LIMITED', 3),\n",
       " ('I,', 3),\n",
       " ('Then,', 3),\n",
       " ('Foundation’s', 3),\n",
       " ('General', 3),\n",
       " ('Yes,', 3),\n",
       " ('Look', 3),\n",
       " ('Tootles.', 3),\n",
       " ('O', 3),\n",
       " ('LICENSE', 3),\n",
       " ('Nothing', 3),\n",
       " ('I?”', 3),\n",
       " ('Michael,”', 3),\n",
       " ('Its', 3),\n",
       " ('UNDER', 3),\n",
       " ('Instead', 3),\n",
       " ('First', 3),\n",
       " ('Captain', 3),\n",
       " ('Curly,', 3),\n",
       " ('Unfortunately', 3),\n",
       " ('Nevertheless', 3),\n",
       " ('Jas.', 2),\n",
       " ('Slightly.', 2),\n",
       " ('Margaret', 2),\n",
       " ('Noodler,', 2),\n",
       " ('NEVER', 2),\n",
       " ('Cinderella,', 2),\n",
       " ('EBooks', 2),\n",
       " ('Soon', 2),\n",
       " ('Fairies', 2),\n",
       " ('Panther,', 2),\n",
       " ('Through', 2),\n",
       " ('That’s', 2),\n",
       " ('Each', 2),\n",
       " ('Cinderella.”', 2),\n",
       " ('CARRIED', 2),\n",
       " ('STORY', 2),\n",
       " ('Mullins', 2),\n",
       " ('WENDY’S', 2),\n",
       " ('Besides,', 2),\n",
       " ('Cookson', 2),\n",
       " ('TIME”', 2),\n",
       " ('BREACH', 2),\n",
       " ('Where', 2),\n",
       " ('EBook', 2),\n",
       " ('Except', 2),\n",
       " ('Neverland.', 2),\n",
       " ('AND', 2),\n",
       " ('Date:', 2),\n",
       " ('ISLAND', 2),\n",
       " ('Mullins,', 2),\n",
       " ('THROUGH', 2),\n",
       " ('RETURN', 2),\n",
       " ('Neverland;', 2),\n",
       " ('Alf', 2),\n",
       " ('UP', 2),\n",
       " ('We’ll', 2),\n",
       " ('ARE', 2),\n",
       " ('Why,', 2),\n",
       " ('Sea-Cook', 2),\n",
       " ('OFF', 2),\n",
       " ('Peter!”', 2),\n",
       " ('TRUE', 2),\n",
       " ('Starkey,”', 2),\n",
       " ('Above,', 2),\n",
       " ('Already', 2),\n",
       " ('George,', 2),\n",
       " ('Terms', 2),\n",
       " ('HAPPY', 2),\n",
       " ('THAT', 2),\n",
       " ('DO', 2),\n",
       " ('Most', 2),\n",
       " ('Liza,', 2),\n",
       " ('Gardens', 2),\n",
       " ('AGREE', 2),\n",
       " ('MEA', 2),\n",
       " ('Darlings', 2),\n",
       " ('Nobody', 2),\n",
       " ('Fortunately', 2),\n",
       " ('Donations', 2),\n",
       " ('Tootles?”', 2),\n",
       " ('Feared', 2),\n",
       " ('Usually', 2),\n",
       " ('England.', 2),\n",
       " ('Use', 2),\n",
       " ('Oh,', 2),\n",
       " ('LITTLE', 2),\n",
       " ('Without', 2),\n",
       " ('AWAY!', 2),\n",
       " ('SHIP', 2),\n",
       " ('Flint', 2),\n",
       " ('License.', 2),\n",
       " ('Tink.', 2),\n",
       " ('Italian', 2),\n",
       " ('Mermaids’', 2),\n",
       " ('Please', 2),\n",
       " ('Wendy;', 2),\n",
       " ('BELIEVE', 2),\n",
       " ('Miss', 2),\n",
       " ('Well,', 2),\n",
       " ('END', 2),\n",
       " ('Tink?”', 2),\n",
       " ('GROUND', 2),\n",
       " ('NO', 2),\n",
       " ('Only', 2),\n",
       " ('Feeling', 2),\n",
       " ('Something', 2),\n",
       " ('Cecco?”', 2),\n",
       " ('Spanish', 2),\n",
       " ('TO', 2),\n",
       " ('Pan,”', 2),\n",
       " ('Slightly?”', 2),\n",
       " ('Any', 2),\n",
       " ('ASCII”', 2),\n",
       " ('WHEN', 2),\n",
       " ('FLIGHT', 2),\n",
       " ('No,', 2),\n",
       " ('Take', 2),\n",
       " ('Thus,', 2),\n",
       " ('AWAY,', 2),\n",
       " ('CHILDREN', 2),\n",
       " ('Rock,', 2),\n",
       " ('Jukes,”', 2),\n",
       " ('Bring', 2),\n",
       " ('EBOOK', 2),\n",
       " ('Pan.”', 2),\n",
       " ('Very', 2),\n",
       " ('SHADOW', 2),\n",
       " ('Poor', 2),\n",
       " ('Did', 2),\n",
       " ('Royalty', 2),\n",
       " ('NOT', 2),\n",
       " ('Yet', 2),\n",
       " ('Hook?”', 2),\n",
       " ('Two', 2),\n",
       " ('FAIRIES?', 2),\n",
       " ('Ah,', 2),\n",
       " ('S.', 2),\n",
       " ('Strange', 2),\n",
       " ('JOLLY', 2),\n",
       " ('Rock', 2),\n",
       " ('Moira', 2),\n",
       " ('Night', 2),\n",
       " ('WENDY', 2),\n",
       " ('Lily.', 2),\n",
       " ('States,', 2),\n",
       " ('Bell?”', 2),\n",
       " ('No.', 2),\n",
       " ('ME', 2),\n",
       " ('November', 2),\n",
       " ('HOUSE', 2),\n",
       " ('Fulsom’s', 2),\n",
       " ('PIRATE', 2),\n",
       " ('Will', 2),\n",
       " ('From', 2),\n",
       " ('LAGOON', 2),\n",
       " ('Vanilla', 2),\n",
       " ('Presently', 2),\n",
       " ('GREW', 2),\n",
       " ('Irish', 2),\n",
       " ('Little', 2),\n",
       " ('Bell,”', 2),\n",
       " ('Michael?”', 2),\n",
       " ('Neverlands', 2),\n",
       " ('Piccaninnies,', 2),\n",
       " ('BIRD', 2),\n",
       " ('Davy', 2),\n",
       " ('An', 2),\n",
       " ('DAMAGES', 2),\n",
       " ('WARRANTIES', 2),\n",
       " ('Friday.', 2),\n",
       " ('Hook;', 2),\n",
       " ('Last', 2),\n",
       " ('Dr.', 2),\n",
       " ('BREAKS', 2),\n",
       " ('Because,', 1),\n",
       " ('KIND,', 1),\n",
       " ('EXPRESS', 1),\n",
       " ('IMPLIED,', 1),\n",
       " ('Tick', 1),\n",
       " ('Barbecue.”', 1),\n",
       " ('Four', 1),\n",
       " ('INCIDENTAL', 1),\n",
       " ('OTHER', 1),\n",
       " ('Characters', 1),\n",
       " ('CULPA,', 1),\n",
       " ('Sunday', 1),\n",
       " ('Noodler.', 1),\n",
       " ('Secretly', 1),\n",
       " ('WALRUS', 1),\n",
       " ('Just', 1),\n",
       " ('Eton].', 1),\n",
       " ('Contents:', 1),\n",
       " ('DISTINGUE', 1),\n",
       " ('Nana.”', 1),\n",
       " ('Unless', 1),\n",
       " ('Leader.”', 1),\n",
       " ('Doctors', 1),\n",
       " ('PG', 1),\n",
       " ('BELOW', 1),\n",
       " ('Affrighted', 1),\n",
       " ('East,', 1),\n",
       " ('DISTRIBUTOR', 1),\n",
       " ('Bell’s', 1),\n",
       " ('Sections', 1),\n",
       " ('Lagoon.', 1),\n",
       " ('Thursdays.”', 1),\n",
       " ('Napoleon', 1),\n",
       " ('INDEMNITY', 1),\n",
       " ('Release', 1),\n",
       " ('George!”', 1),\n",
       " ('CONTRACT', 1),\n",
       " ('ROGER.”', 1),\n",
       " ('Wendy,’', 1),\n",
       " ('Tootles’', 1),\n",
       " ('Hurrah,', 1),\n",
       " ('EMBONPOINT.', 1),\n",
       " ('STRICT', 1),\n",
       " ('Turley,', 1),\n",
       " ('Margaret;', 1),\n",
       " ('Angela', 1),\n",
       " ('He,', 1),\n",
       " ('Captain,”', 1),\n",
       " ('BUT', 1),\n",
       " ('Plank!”', 1),\n",
       " ('Have', 1),\n",
       " ('Sufficient', 1),\n",
       " ('Ed', 1),\n",
       " ('Round', 1),\n",
       " ('Refund”', 1),\n",
       " ('Ofttimes', 1),\n",
       " ('Christmas', 1),\n",
       " ('Jones', 1),\n",
       " ('Chas.', 1),\n",
       " ('Research', 1),\n",
       " ('Wonderful', 1),\n",
       " ('REPLACEMENT', 1),\n",
       " ('Wolf', 1),\n",
       " ('Newby', 1),\n",
       " ('Kindergarten', 1),\n",
       " ('German', 1),\n",
       " ('Sixth,', 1),\n",
       " ('Lily,”', 1),\n",
       " ('Funny.', 1),\n",
       " ('Off', 1),\n",
       " ('Get', 1),\n",
       " ('Defect', 1),\n",
       " ('Stars', 1),\n",
       " ('BEFORE', 1),\n",
       " ('Foundation”', 1),\n",
       " ('Nana;', 1),\n",
       " ('Darling,”', 1),\n",
       " ('DONATIONS', 1),\n",
       " ('Duncan', 1),\n",
       " ('Non-conformist', 1),\n",
       " ('Red-handed', 1),\n",
       " ('Melan', 1),\n",
       " ('Slowly', 1),\n",
       " ('Contributions', 1),\n",
       " ('River.”', 1),\n",
       " ('Hart', 1),\n",
       " ('WILL', 1),\n",
       " ('Twins?”', 1),\n",
       " ('Corkscrew?”', 1),\n",
       " ('Steadily', 1),\n",
       " ('Write', 1),\n",
       " ('Tom.', 1),\n",
       " ('Woman,', 1),\n",
       " ('Strong', 1),\n",
       " ('Father’s', 1),\n",
       " ('PGLAF),', 1),\n",
       " ('Mullins.', 1),\n",
       " ('Corkscrew.', 1),\n",
       " ('Instant', 1),\n",
       " ('Before', 1),\n",
       " ('Inwardly', 1),\n",
       " ('PARAGRAPH', 1),\n",
       " ('City,', 1),\n",
       " ('Nana,”', 1),\n",
       " ('Bird’s', 1),\n",
       " ('III,', 1),\n",
       " ('Mouths', 1),\n",
       " ('Way', 1),\n",
       " ('Fortunately,', 1),\n",
       " ('Charming', 1),\n",
       " ('Leave', 1),\n",
       " ('Gentleman', 1),\n",
       " ('Hart,', 1),\n",
       " ('Gutenberg-tm,', 1),\n",
       " ('Gulch?', 1),\n",
       " ('Replacement', 1),\n",
       " ('Margery', 1),\n",
       " ('Lake', 1),\n",
       " ('Lily:', 1),\n",
       " ('OVER', 1),\n",
       " ('EXCEPT', 1),\n",
       " ('Tootles,’”', 1),\n",
       " ('England', 1),\n",
       " ('Twin,', 1),\n",
       " ('English-Latin,', 1),\n",
       " ('Email', 1),\n",
       " ('REMEDIES', 1),\n",
       " ('Service.', 1),\n",
       " ('Station?”', 1),\n",
       " ('Gutenberg:', 1),\n",
       " ('CONSEQUENTIAL,', 1),\n",
       " ('Murphy’s', 1),\n",
       " ('Wake', 1),\n",
       " ('Compliance', 1),\n",
       " ('Inmate.”', 1),\n",
       " ('GUTENBERG-tm', 1),\n",
       " ('Mab,', 1),\n",
       " ('Revenue', 1),\n",
       " ('Adventures,', 1),\n",
       " ('Absolutely', 1),\n",
       " ('Turley', 1),\n",
       " ('George’s', 1),\n",
       " ('But,', 1),\n",
       " ('This,', 1),\n",
       " ('IV', 1),\n",
       " ('Home,”', 1),\n",
       " ('Friday,”', 1),\n",
       " ('Special', 1),\n",
       " ('Quickly', 1),\n",
       " ('Barrie]', 1),\n",
       " ('Author:', 1),\n",
       " ('Charles', 1),\n",
       " ('DISCLAIMER', 1),\n",
       " ('Jenkins].', 1),\n",
       " ('Mississippi', 1),\n",
       " ('Peter?', 1),\n",
       " ('START:', 1),\n",
       " ('Fifteen', 1),\n",
       " ('Suddenly', 1),\n",
       " ('White', 1),\n",
       " ('START', 1),\n",
       " ('Show', 1),\n",
       " ('Immediately,', 1),\n",
       " ('Big', 1),\n",
       " ('Speak!”', 1),\n",
       " ('Gregory', 1),\n",
       " ('Gutenberg”),', 1),\n",
       " ('There’s', 1),\n",
       " ('Follow', 1),\n",
       " ('Should', 1),\n",
       " ('Around', 1),\n",
       " ('CULPA.”', 1),\n",
       " ('Angela.', 1),\n",
       " ('HAVE', 1),\n",
       " ('June', 1),\n",
       " ('Nearly', 1),\n",
       " ('Listen', 1),\n",
       " ('B.', 1),\n",
       " ('Joe.”', 1),\n",
       " ('Scourie,', 1),\n",
       " ('Rio;', 1),\n",
       " ('COPYRIGHTED', 1),\n",
       " ('Me', 1),\n",
       " ('Gut', 1),\n",
       " ('Sweet', 1),\n",
       " ('SUCH', 1),\n",
       " ('Dianas', 1),\n",
       " ('Foundation.', 1),\n",
       " ('July,', 1),\n",
       " ('IRS.', 1),\n",
       " ('Twin.”', 1),\n",
       " ('Away', 1),\n",
       " ('Mysterious', 1),\n",
       " ('John!”', 1),\n",
       " ('Wendy”;', 1),\n",
       " ('Latin-English', 1),\n",
       " ('MERMAIDS’', 1),\n",
       " ('Details', 1),\n",
       " ('I--I', 1),\n",
       " ('Foundation.”', 1),\n",
       " ('Nights;', 1),\n",
       " ('Party', 1),\n",
       " ('Fate.', 1),\n",
       " ('Blackbeard’s', 1),\n",
       " ('Gutenberg-tm.', 1),\n",
       " ('Tink.”', 1),\n",
       " ('Twins,', 1),\n",
       " ('So,', 1),\n",
       " ('Nana?', 1),\n",
       " ('SEND', 1),\n",
       " ('Director', 1),\n",
       " ('Good', 1),\n",
       " ('Wendy?', 1),\n",
       " ('Executive', 1),\n",
       " ('Wendies.”', 1),\n",
       " ('George?”', 1),\n",
       " ('Fulcrum', 1),\n",
       " ('North', 1),\n",
       " ('Crowds', 1),\n",
       " ('Quite', 1),\n",
       " ('Almost', 1),\n",
       " ('Internal', 1),\n",
       " ('Our', 1),\n",
       " ('Smee!', 1),\n",
       " ('Elation', 1),\n",
       " ('Can', 1),\n",
       " ('Open', 1),\n",
       " ('AK,', 1),\n",
       " ('Tiddlywinks', 1),\n",
       " ('NOTICE', 1),\n",
       " ('Really', 1),\n",
       " ('Think', 1),\n",
       " ('Odd', 1),\n",
       " ('Stranger', 1),\n",
       " ('Despite', 1),\n",
       " ('WARRANTY', 1),\n",
       " ('Cpt.', 1),\n",
       " ('Kings', 1),\n",
       " ('PUNITIVE', 1),\n",
       " ('Strung', 1),\n",
       " ('Instead,', 1),\n",
       " ('Tedious', 1),\n",
       " ('Redistributing', 1),\n",
       " ('Cookson,', 1),\n",
       " ('BE', 1),\n",
       " ('Mason', 1),\n",
       " ('Neither', 1),\n",
       " ('Guadjo-mo.', 1),\n",
       " ('Jones.”', 1),\n",
       " ('Professor', 1),\n",
       " ('Geo.', 1),\n",
       " ('My', 1),\n",
       " ('Corrected', 1),\n",
       " ('Pie-crust', 1),\n",
       " ('Crediting', 1),\n",
       " ('Having', 1),\n",
       " ('Against', 1),\n",
       " ('Character', 1),\n",
       " ('George.”', 1),\n",
       " ('ANYTHING', 1),\n",
       " ('Indian', 1),\n",
       " ('Let’s.', 1),\n",
       " ('Gardens,', 1),\n",
       " ('Milky', 1),\n",
       " ('ASCII,', 1),\n",
       " ('IF', 1),\n",
       " ('Is', 1),\n",
       " ('Dress;', 1),\n",
       " ('Chief', 1),\n",
       " ('Anon', 1),\n",
       " ('Farther', 1),\n",
       " ('Panic-stricken', 1),\n",
       " ('Rio', 1),\n",
       " ('It’s', 1),\n",
       " ('Z.', 1),\n",
       " ('DIRECT,', 1),\n",
       " ('Lagoon,', 1),\n",
       " ('V.', 1),\n",
       " ('Ever', 1),\n",
       " ('Updated:', 1),\n",
       " ('Eventually', 1),\n",
       " ('Hurons.', 1),\n",
       " ('Jenkins', 1),\n",
       " ('Azores', 1),\n",
       " ('Hoop', 1),\n",
       " ('Didst', 1),\n",
       " ('Creek,', 1),\n",
       " ('Still,', 1),\n",
       " ('I!”', 1),\n",
       " ('AGREEMENT', 1),\n",
       " ('ROGER,', 1),\n",
       " ('Heavenly', 1),\n",
       " ('Social', 1),\n",
       " ('Hook.”', 1),\n",
       " ('Be', 1),\n",
       " ('USE', 1),\n",
       " ('Nature', 1),\n",
       " ('Here,', 1),\n",
       " ('Pop', 1),\n",
       " ('Grandly,', 1),\n",
       " ('THOSE', 1),\n",
       " ('VERSIONS', 1),\n",
       " ('Lily,', 1),\n",
       " ('Fancy', 1),\n",
       " ('EVEN', 1),\n",
       " ('Title:', 1),\n",
       " ('Occasionally', 1),\n",
       " ('Holidays,', 1),\n",
       " ('Father,', 1),\n",
       " ('Posting', 1),\n",
       " ('Contact', 1),\n",
       " ('RIGHT', 1),\n",
       " ('Copyright', 1),\n",
       " ('Newfoundland', 1),\n",
       " ('London', 1),\n",
       " ('Corkscrew,', 1),\n",
       " ('Gao.', 1),\n",
       " ('Peter--”', 1),\n",
       " ('Neverland.”', 1),\n",
       " ('June,', 1),\n",
       " ('READ', 1),\n",
       " ('Rapidly', 1),\n",
       " ('Fine', 1),\n",
       " ('Soft', 1),\n",
       " ('EIN', 1),\n",
       " ('Intently', 1),\n",
       " ('Go', 1),\n",
       " ('ACTUAL,', 1),\n",
       " ('Mission', 1),\n",
       " ('DISTRIBUTE', 1),\n",
       " ('Foolish', 1),\n",
       " ('Answer', 1),\n",
       " ('WENDY]', 1),\n",
       " ('Redistribution', 1),\n",
       " ('Rock.', 1),\n",
       " ('Below', 1),\n",
       " ('However', 1),\n",
       " ('King.’”', 1),\n",
       " ('Pan’s', 1),\n",
       " ('Skylights);', 1),\n",
       " ('Kennel', 1),\n",
       " ('Gay', 1),\n",
       " ('Swear.”', 1),\n",
       " ('Main', 1),\n",
       " ('Lean', 1),\n",
       " ('Starkey’s', 1),\n",
       " ('INCLUDING', 1),\n",
       " ('EDITIONS', 1),\n",
       " ('Brussels', 1),\n",
       " ('Pale', 1),\n",
       " ('Quick!”', 1),\n",
       " ('Observe', 1),\n",
       " ('Fell', 1),\n",
       " ('Darling.”', 1),\n",
       " ('Millennium', 1),\n",
       " ('Really,', 1),\n",
       " ('Ah', 1),\n",
       " ('Liza’s', 1),\n",
       " ('Those', 1),\n",
       " ('Left', 1),\n",
       " ('Hide!', 1),\n",
       " ('Leader,', 1),\n",
       " ('Gulch,', 1),\n",
       " ('Teynte', 1),\n",
       " ('DAMAGE.', 1),\n",
       " ('Delawares', 1),\n",
       " ('Pan!', 1),\n",
       " ('Mason,', 1),\n",
       " ('TRADEMARK', 1),\n",
       " ('England?”', 1),\n",
       " ('Isn’t', 1),\n",
       " ('Tootles.”', 1),\n",
       " ('Seeing', 1),\n",
       " ('International', 1),\n",
       " ('Edition', 1),\n",
       " ('UT', 1),\n",
       " ('LIABILITY,', 1),\n",
       " ('Dark', 1),\n",
       " ('Wendy.’”', 1),\n",
       " ('Tootles,”', 1),\n",
       " ('Till', 1),\n",
       " ('West,', 1),\n",
       " ('Gold', 1),\n",
       " ('Public', 1),\n",
       " ('Fairbanks,', 1),\n",
       " ('Nibs,”', 1),\n",
       " ('Execution', 1),\n",
       " ('Lest', 1),\n",
       " ('Kidd’s', 1),\n",
       " ('Five', 1),\n",
       " ('Britannia!”', 1),\n",
       " ('Quixotic,', 1),\n",
       " ('Robin.', 1),\n",
       " ('Domain', 1),\n",
       " ('FOUNDATION,', 1),\n",
       " ('LIABLE', 1),\n",
       " ('Alsatian', 1),\n",
       " ('Suppose,', 1),\n",
       " ('Abandoning', 1),\n",
       " ('We’re', 1),\n",
       " ('True', 1),\n",
       " ('Jonah', 1),\n",
       " ('Lovely', 1),\n",
       " ('Unlike', 1),\n",
       " ('MERCHANTIBILITY', 1),\n",
       " ('NEGLIGENCE,', 1),\n",
       " ('Cinderella]', 1),\n",
       " ('Bringing', 1),\n",
       " ('PURPOSE.', 1),\n",
       " ('Sometimes,', 1),\n",
       " ('END:', 1),\n",
       " ('John?', 1),\n",
       " ('Fain', 1),\n",
       " ('Flint’s.', 1),\n",
       " ('Donning', 1),\n",
       " ('George?', 1),\n",
       " ('Also', 1),\n",
       " ('Creating', 1),\n",
       " ('FITNESS', 1),\n",
       " ('GIVE', 1),\n",
       " ('Flint--what', 1),\n",
       " ('Wendy”', 1),\n",
       " ('POSSIBILITY', 1),\n",
       " ('Liza.', 1),\n",
       " ('HTML', 1),\n",
       " ('RACONTEUR', 1),\n",
       " ('Coast,', 1),\n",
       " ('Additional', 1),\n",
       " ('Come', 1),\n",
       " ('Unaware', 1),\n",
       " ('Never,', 1),\n",
       " ('Misguided', 1),\n",
       " ('Though', 1),\n",
       " ('Seizing', 1),\n",
       " ('Always', 1),\n",
       " ('Quick', 1),\n",
       " ('Overhead', 1),\n",
       " ('Friday,', 1),\n",
       " ('King?”', 1),\n",
       " ('Years', 1),\n",
       " ('Wendy’s.', 1),\n",
       " ('Outside,', 1),\n",
       " ('UTF-8', 1),\n",
       " ('Why', 1),\n",
       " ('Children', 1),\n",
       " ('F3.', 1),\n",
       " ('Language:', 1),\n",
       " ('Puss-in-Boots,', 1),\n",
       " ('PLEASE', 1),\n",
       " ('Since', 1),\n",
       " ('Smee,”', 1),\n",
       " ('Who', 1),\n",
       " ('Foggerty.', 1),\n",
       " ('WITH', 1),\n",
       " ('Salt', 1),\n",
       " ('Immediately', 1),\n",
       " ('Updated', 1),\n",
       " ('J.', 1),\n",
       " ('WARRANTY,', 1),\n",
       " ('Stuarts;', 1),\n",
       " ('Michael.”', 1),\n",
       " ('Gutenberg-tm’s', 1),\n",
       " ('Matthew', 1),\n",
       " ('Volunteers', 1),\n",
       " ('Mastered', 1),\n",
       " ('Queen', 1),\n",
       " ('Main.', 1),\n",
       " ('Michael?', 1),\n",
       " ('October', 1),\n",
       " ('I.', 1),\n",
       " ('Curly.”', 1),\n",
       " ('Hook].', 1),\n",
       " ('Smee’s;', 1),\n",
       " ('Wendy;”', 1),\n",
       " ('Below,', 1),\n",
       " ('End', 1),\n",
       " ('Want', 1),\n",
       " ('WORK', 1),\n",
       " ('Danger!', 1),\n",
       " ('A-pirating', 1),\n",
       " ('Novelty', 1),\n",
       " ('Rabbits', 1),\n",
       " ('Curly?”', 1),\n",
       " ('I.”', 1),\n",
       " ('Ay,', 1),\n",
       " ('Black', 1),\n",
       " ('OWNER,', 1),\n",
       " ('II,', 1),\n",
       " ('Full', 1),\n",
       " ('About', 1),\n",
       " ('Robt.', 1),\n",
       " ('MERMAID’S', 1),\n",
       " ('Babies?', 1),\n",
       " ('Man', 1),\n",
       " ('PROVIDED', 1),\n",
       " ('Mother?', 1),\n",
       " ('John’s,', 1),\n",
       " ('REFUND', 1),\n",
       " ('Jack,”', 1),\n",
       " ('Nought’s', 1),\n",
       " ('Scatter', 1),\n",
       " ('INDIRECT,', 1),\n",
       " ('Madly', 1),\n",
       " ('Make-believe', 1),\n",
       " ('Strangely,', 1),\n",
       " ('Dictionary,', 1),\n",
       " ('That,', 1),\n",
       " ('Begone', 1),\n",
       " ('Indeed,', 1),\n",
       " ('No.”', 1),\n",
       " ('Hitherto', 1),\n",
       " ('Hunched', 1),\n",
       " ('Up', 1),\n",
       " ('Somehow', 1),\n",
       " ('Nights,', 1)]"
      ]
     },
     "execution_count": 87,
     "metadata": {},
     "output_type": "execute_result"
    }
   ],
   "source": [
    "list(filter(lambda wc: wc[0][0].isupper(),sorted(peter_pan_word_count.items(), key=lambda t: t[1], reverse=True)))"
   ]
  },
  {
   "cell_type": "code",
   "execution_count": 7,
   "metadata": {
    "collapsed": true
   },
   "outputs": [],
   "source": [
    "def foo(x):\n",
    "    x +=1\n",
    "    return (lambda y : y + x) #lambda \"closure\": closes over all variables it uses, keeps them around"
   ]
  },
  {
   "cell_type": "code",
   "execution_count": 2,
   "metadata": {
    "collapsed": true
   },
   "outputs": [],
   "source": [
    "f = foo(10)"
   ]
  },
  {
   "cell_type": "code",
   "execution_count": 3,
   "metadata": {
    "collapsed": false
   },
   "outputs": [
    {
     "data": {
      "text/plain": [
       "31"
      ]
     },
     "execution_count": 3,
     "metadata": {},
     "output_type": "execute_result"
    }
   ],
   "source": [
    "f(20)"
   ]
  },
  {
   "cell_type": "code",
   "execution_count": 5,
   "metadata": {
    "collapsed": true
   },
   "outputs": [],
   "source": [
    "g = foo(100)"
   ]
  },
  {
   "cell_type": "code",
   "execution_count": 6,
   "metadata": {
    "collapsed": false
   },
   "outputs": [
    {
     "data": {
      "text/plain": [
       "111"
      ]
     },
     "execution_count": 6,
     "metadata": {},
     "output_type": "execute_result"
    }
   ],
   "source": [
    "g(10)"
   ]
  },
  {
   "cell_type": "code",
   "execution_count": 8,
   "metadata": {
    "collapsed": true
   },
   "outputs": [],
   "source": [
    "def foo(a):\n",
    "    return a + 10"
   ]
  },
  {
   "cell_type": "code",
   "execution_count": 9,
   "metadata": {
    "collapsed": false
   },
   "outputs": [
    {
     "ename": "TypeError",
     "evalue": "foo() missing 1 required positional argument: 'a'",
     "output_type": "error",
     "traceback": [
      "\u001b[0;31m---------------------------------------------------------------------------\u001b[0m",
      "\u001b[0;31mTypeError\u001b[0m                                 Traceback (most recent call last)",
      "\u001b[0;32m<ipython-input-9-624891b0d01a>\u001b[0m in \u001b[0;36m<module>\u001b[0;34m()\u001b[0m\n\u001b[0;32m----> 1\u001b[0;31m \u001b[0mfoo\u001b[0m\u001b[1;33m(\u001b[0m\u001b[1;33m)\u001b[0m\u001b[1;33m\u001b[0m\u001b[0m\n\u001b[0m",
      "\u001b[0;31mTypeError\u001b[0m: foo() missing 1 required positional argument: 'a'"
     ]
    }
   ],
   "source": [
    "foo()"
   ]
  },
  {
   "cell_type": "code",
   "execution_count": 10,
   "metadata": {
    "collapsed": true
   },
   "outputs": [],
   "source": [
    "def foo(a=-10): #This is the default value of a\n",
    "    return a + 10"
   ]
  },
  {
   "cell_type": "code",
   "execution_count": 17,
   "metadata": {
    "collapsed": true
   },
   "outputs": [],
   "source": [
    "def foo(l=[]): #The default parameter is made once and can be changed if it is mutable\n",
    "    return l"
   ]
  },
  {
   "cell_type": "code",
   "execution_count": 13,
   "metadata": {
    "collapsed": false
   },
   "outputs": [
    {
     "data": {
      "text/plain": [
       "[]"
      ]
     },
     "execution_count": 13,
     "metadata": {},
     "output_type": "execute_result"
    }
   ],
   "source": [
    "foo()"
   ]
  },
  {
   "cell_type": "code",
   "execution_count": 14,
   "metadata": {
    "collapsed": true
   },
   "outputs": [],
   "source": [
    "l = foo()"
   ]
  },
  {
   "cell_type": "code",
   "execution_count": 15,
   "metadata": {
    "collapsed": true
   },
   "outputs": [],
   "source": [
    "l.append(5)"
   ]
  },
  {
   "cell_type": "code",
   "execution_count": 16,
   "metadata": {
    "collapsed": false
   },
   "outputs": [
    {
     "data": {
      "text/plain": [
       "[5]"
      ]
     },
     "execution_count": 16,
     "metadata": {},
     "output_type": "execute_result"
    }
   ],
   "source": [
    "foo()"
   ]
  },
  {
   "cell_type": "markdown",
   "metadata": {},
   "source": [
    "### Classes"
   ]
  },
  {
   "cell_type": "code",
   "execution_count": 18,
   "metadata": {
    "collapsed": true
   },
   "outputs": [],
   "source": [
    "class Foo:\n",
    "    pass"
   ]
  },
  {
   "cell_type": "code",
   "execution_count": 20,
   "metadata": {
    "collapsed": false
   },
   "outputs": [
    {
     "data": {
      "text/plain": [
       "<__main__.Foo at 0x2417f421b38>"
      ]
     },
     "execution_count": 20,
     "metadata": {},
     "output_type": "execute_result"
    }
   ],
   "source": [
    "Foo()"
   ]
  },
  {
   "cell_type": "code",
   "execution_count": 21,
   "metadata": {
    "collapsed": true
   },
   "outputs": [],
   "source": [
    "f = Foo()"
   ]
  },
  {
   "cell_type": "code",
   "execution_count": 22,
   "metadata": {
    "collapsed": true
   },
   "outputs": [],
   "source": [
    "f.attrib = 10 #Can make attributes whenever"
   ]
  },
  {
   "cell_type": "code",
   "execution_count": 24,
   "metadata": {
    "collapsed": false
   },
   "outputs": [],
   "source": [
    "f.z = 100"
   ]
  },
  {
   "cell_type": "code",
   "execution_count": 26,
   "metadata": {
    "collapsed": true
   },
   "outputs": [],
   "source": [
    "Foo.w = 100 #The class is also an object, instances can access values of the class"
   ]
  },
  {
   "cell_type": "code",
   "execution_count": 30,
   "metadata": {
    "collapsed": false
   },
   "outputs": [],
   "source": [
    "class Foo:\n",
    "    def bar():\n",
    "        pass"
   ]
  },
  {
   "cell_type": "code",
   "execution_count": 31,
   "metadata": {
    "collapsed": true
   },
   "outputs": [],
   "source": [
    "f = Foo()"
   ]
  },
  {
   "cell_type": "code",
   "execution_count": 32,
   "metadata": {
    "collapsed": false
   },
   "outputs": [
    {
     "ename": "TypeError",
     "evalue": "bar() takes 0 positional arguments but 1 was given",
     "output_type": "error",
     "traceback": [
      "\u001b[0;31m---------------------------------------------------------------------------\u001b[0m",
      "\u001b[0;31mTypeError\u001b[0m                                 Traceback (most recent call last)",
      "\u001b[0;32m<ipython-input-32-30fa523d4af0>\u001b[0m in \u001b[0;36m<module>\u001b[0;34m()\u001b[0m\n\u001b[0;32m----> 1\u001b[0;31m \u001b[0mf\u001b[0m\u001b[1;33m.\u001b[0m\u001b[0mbar\u001b[0m\u001b[1;33m(\u001b[0m\u001b[1;33m)\u001b[0m\u001b[1;33m\u001b[0m\u001b[0m\n\u001b[0m",
      "\u001b[0;31mTypeError\u001b[0m: bar() takes 0 positional arguments but 1 was given"
     ]
    }
   ],
   "source": [
    "f.bar()"
   ]
  },
  {
   "cell_type": "code",
   "execution_count": 34,
   "metadata": {
    "collapsed": true
   },
   "outputs": [],
   "source": [
    "Foo.bar()"
   ]
  },
  {
   "cell_type": "code",
   "execution_count": 35,
   "metadata": {
    "collapsed": true
   },
   "outputs": [],
   "source": [
    "class Foo:\n",
    "    def bar(x):\n",
    "        print(x)"
   ]
  },
  {
   "cell_type": "code",
   "execution_count": 36,
   "metadata": {
    "collapsed": true
   },
   "outputs": [],
   "source": [
    "f = Foo()"
   ]
  },
  {
   "cell_type": "code",
   "execution_count": 40,
   "metadata": {
    "collapsed": false
   },
   "outputs": [
    {
     "name": "stdout",
     "output_type": "stream",
     "text": [
      "<__main__.Foo object at 0x000002417F497400>\n"
     ]
    }
   ],
   "source": [
    "f.bar() #When a method is called through an instance it passes the instance as an argument"
   ]
  },
  {
   "cell_type": "code",
   "execution_count": 41,
   "metadata": {
    "collapsed": false
   },
   "outputs": [
    {
     "name": "stdout",
     "output_type": "stream",
     "text": [
      "<__main__.Foo object at 0x000002417F497400>\n"
     ]
    }
   ],
   "source": [
    "Foo.bar(f)"
   ]
  },
  {
   "cell_type": "code",
   "execution_count": 39,
   "metadata": {
    "collapsed": false
   },
   "outputs": [
    {
     "data": {
      "text/plain": [
       "<__main__.Foo at 0x2417f497400>"
      ]
     },
     "execution_count": 39,
     "metadata": {},
     "output_type": "execute_result"
    }
   ],
   "source": [
    "f"
   ]
  },
  {
   "cell_type": "code",
   "execution_count": 48,
   "metadata": {
    "collapsed": true
   },
   "outputs": [],
   "source": [
    "class Foo:\n",
    "    def bar(self):\n",
    "        try:\n",
    "            self.x +=1\n",
    "        except AttributeError:\n",
    "            self.x = 1\n",
    "        return self.x"
   ]
  },
  {
   "cell_type": "code",
   "execution_count": 47,
   "metadata": {
    "collapsed": true
   },
   "outputs": [],
   "source": [
    "f.x = 1"
   ]
  },
  {
   "cell_type": "code",
   "execution_count": 50,
   "metadata": {
    "collapsed": true
   },
   "outputs": [],
   "source": [
    "f = Foo()"
   ]
  },
  {
   "cell_type": "code",
   "execution_count": 58,
   "metadata": {
    "collapsed": false
   },
   "outputs": [
    {
     "data": {
      "text/plain": [
       "8"
      ]
     },
     "execution_count": 58,
     "metadata": {},
     "output_type": "execute_result"
    }
   ],
   "source": [
    "f.bar()"
   ]
  },
  {
   "cell_type": "code",
   "execution_count": 59,
   "metadata": {
    "collapsed": true
   },
   "outputs": [],
   "source": [
    "class Shape:\n",
    "    def __init__(self):\n",
    "        print('I got constructed')"
   ]
  },
  {
   "cell_type": "code",
   "execution_count": 60,
   "metadata": {
    "collapsed": false
   },
   "outputs": [
    {
     "name": "stdout",
     "output_type": "stream",
     "text": [
      "I got constructed\n"
     ]
    },
    {
     "data": {
      "text/plain": [
       "<__main__.Shape at 0x2417f4b00f0>"
      ]
     },
     "execution_count": 60,
     "metadata": {},
     "output_type": "execute_result"
    }
   ],
   "source": [
    "Shape()"
   ]
  },
  {
   "cell_type": "code",
   "execution_count": 61,
   "metadata": {
    "collapsed": true
   },
   "outputs": [],
   "source": [
    "class Shape:\n",
    "    def __init__(self, name):\n",
    "        self.name = name #Can assign directly before defining"
   ]
  },
  {
   "cell_type": "code",
   "execution_count": 62,
   "metadata": {
    "collapsed": true
   },
   "outputs": [],
   "source": [
    "s = Shape('Circle')"
   ]
  },
  {
   "cell_type": "code",
   "execution_count": 63,
   "metadata": {
    "collapsed": false
   },
   "outputs": [
    {
     "data": {
      "text/plain": [
       "'Circle'"
      ]
     },
     "execution_count": 63,
     "metadata": {},
     "output_type": "execute_result"
    }
   ],
   "source": [
    "s.name"
   ]
  },
  {
   "cell_type": "code",
   "execution_count": 64,
   "metadata": {
    "collapsed": false
   },
   "outputs": [
    {
     "data": {
      "text/plain": [
       "<__main__.Shape at 0x2417f4aca90>"
      ]
     },
     "execution_count": 64,
     "metadata": {},
     "output_type": "execute_result"
    }
   ],
   "source": [
    "s"
   ]
  },
  {
   "cell_type": "code",
   "execution_count": 69,
   "metadata": {
    "collapsed": true
   },
   "outputs": [],
   "source": [
    "class Shape:\n",
    "    def __init__(self, name):\n",
    "        self.name = name #Can assign directly before defining\n",
    "        \n",
    "    def __repr__(self): #Repr and str will default to one another if one is not initialized\n",
    "        return self.name\n",
    "    \n",
    "    def __str__(self):\n",
    "        return self.name.upper()"
   ]
  },
  {
   "cell_type": "code",
   "execution_count": 66,
   "metadata": {
    "collapsed": false
   },
   "outputs": [
    {
     "data": {
      "text/plain": [
       "Circle"
      ]
     },
     "execution_count": 66,
     "metadata": {},
     "output_type": "execute_result"
    }
   ],
   "source": [
    "Shape('Circle')"
   ]
  },
  {
   "cell_type": "code",
   "execution_count": 68,
   "metadata": {
    "collapsed": false
   },
   "outputs": [
    {
     "data": {
      "text/plain": [
       "'CIRCLE'"
      ]
     },
     "execution_count": 68,
     "metadata": {},
     "output_type": "execute_result"
    }
   ],
   "source": [
    "str(Shape('Circle'))"
   ]
  },
  {
   "cell_type": "code",
   "execution_count": 71,
   "metadata": {
    "collapsed": true
   },
   "outputs": [],
   "source": [
    "class Shape:\n",
    "    def __init__(self, name):\n",
    "        self.name = name #Can assign directly before defining\n",
    "        \n",
    "    def __repr__(self): #Repr and str will default to one another if one is not initialized\n",
    "        return self.name\n",
    "    \n",
    "    def __str__(self):\n",
    "        return self.name.upper()\n",
    "    \n",
    "    def area(self): #instance method requires self as an arg\n",
    "        raise NotImplementedError()"
   ]
  },
  {
   "cell_type": "code",
   "execution_count": 72,
   "metadata": {
    "collapsed": false
   },
   "outputs": [
    {
     "ename": "NotImplementedError",
     "evalue": "",
     "output_type": "error",
     "traceback": [
      "\u001b[0;31m---------------------------------------------------------------------------\u001b[0m",
      "\u001b[0;31mNotImplementedError\u001b[0m                       Traceback (most recent call last)",
      "\u001b[0;32m<ipython-input-72-ea85454f7b71>\u001b[0m in \u001b[0;36m<module>\u001b[0;34m()\u001b[0m\n\u001b[0;32m----> 1\u001b[0;31m \u001b[0mShape\u001b[0m\u001b[1;33m(\u001b[0m\u001b[1;34m'Circle'\u001b[0m\u001b[1;33m)\u001b[0m\u001b[1;33m.\u001b[0m\u001b[0marea\u001b[0m\u001b[1;33m(\u001b[0m\u001b[1;33m)\u001b[0m\u001b[1;33m\u001b[0m\u001b[0m\n\u001b[0m",
      "\u001b[0;32m<ipython-input-71-a1379b235e9b>\u001b[0m in \u001b[0;36marea\u001b[0;34m(self)\u001b[0m\n\u001b[1;32m     10\u001b[0m \u001b[1;33m\u001b[0m\u001b[0m\n\u001b[1;32m     11\u001b[0m     \u001b[1;32mdef\u001b[0m \u001b[0marea\u001b[0m\u001b[1;33m(\u001b[0m\u001b[0mself\u001b[0m\u001b[1;33m)\u001b[0m\u001b[1;33m:\u001b[0m \u001b[1;31m#instance method requires self as an arg\u001b[0m\u001b[1;33m\u001b[0m\u001b[0m\n\u001b[0;32m---> 12\u001b[0;31m         \u001b[1;32mraise\u001b[0m \u001b[0mNotImplementedError\u001b[0m\u001b[1;33m(\u001b[0m\u001b[1;33m)\u001b[0m\u001b[1;33m\u001b[0m\u001b[0m\n\u001b[0m",
      "\u001b[0;31mNotImplementedError\u001b[0m: "
     ]
    }
   ],
   "source": [
    "Shape('Circle').area()"
   ]
  },
  {
   "cell_type": "code",
   "execution_count": 91,
   "metadata": {
    "collapsed": true
   },
   "outputs": [],
   "source": [
    "class Circle(Shape):#This is inheritance\n",
    "    def __init__(self, radius):\n",
    "        super().__init__('Circle') #No type checking in compile time\n",
    "        self.radius = radius\n",
    "        \n",
    "    def area(self):\n",
    "        return 3.14 * self.radius ** 2\n",
    "    \n",
    "    def __eq__(self,other):\n",
    "        return isinstance(other, Circle) and self.radius == other.radius #Run time type checking\n",
    "    \n",
    "    def __repr__(self):\n",
    "        return 'Circle(r={})'.format(self.radius)\n",
    "    \n",
    "    def __add__(self,other):\n",
    "        return Circle(self.radius + other.radius)\n",
    "    \n",
    "    @staticmethod #Used when stuff is to be called from not an instance, method associated with class\n",
    "    def whatever():\n",
    "        print('Hello from a static circle method')"
   ]
  },
  {
   "cell_type": "code",
   "execution_count": 86,
   "metadata": {
    "collapsed": true
   },
   "outputs": [],
   "source": [
    "cs = [Circle(r) for r in range(1,10)]"
   ]
  },
  {
   "cell_type": "code",
   "execution_count": 88,
   "metadata": {
    "collapsed": false
   },
   "outputs": [
    {
     "data": {
      "text/plain": [
       "[Circle(r=1),\n",
       " Circle(r=2),\n",
       " Circle(r=3),\n",
       " Circle(r=4),\n",
       " Circle(r=5),\n",
       " Circle(r=6),\n",
       " Circle(r=7),\n",
       " Circle(r=8),\n",
       " Circle(r=9)]"
      ]
     },
     "execution_count": 88,
     "metadata": {},
     "output_type": "execute_result"
    }
   ],
   "source": [
    "cs"
   ]
  },
  {
   "cell_type": "code",
   "execution_count": 89,
   "metadata": {
    "collapsed": false
   },
   "outputs": [
    {
     "data": {
      "text/plain": [
       "[3.14, 12.56, 28.26, 50.24, 78.5, 113.04, 153.86, 200.96, 254.34]"
      ]
     },
     "execution_count": 89,
     "metadata": {},
     "output_type": "execute_result"
    }
   ],
   "source": [
    "[c.area() for c in cs]"
   ]
  },
  {
   "cell_type": "code",
   "execution_count": null,
   "metadata": {
    "collapsed": true
   },
   "outputs": [],
   "source": []
  },
  {
   "cell_type": "code",
   "execution_count": 75,
   "metadata": {
    "collapsed": true
   },
   "outputs": [],
   "source": [
    "c = Circle(10)"
   ]
  },
  {
   "cell_type": "code",
   "execution_count": 76,
   "metadata": {
    "collapsed": false
   },
   "outputs": [
    {
     "data": {
      "text/plain": [
       "314.0"
      ]
     },
     "execution_count": 76,
     "metadata": {},
     "output_type": "execute_result"
    }
   ],
   "source": [
    "c.area()"
   ]
  },
  {
   "cell_type": "code",
   "execution_count": 77,
   "metadata": {
    "collapsed": false
   },
   "outputs": [
    {
     "data": {
      "text/plain": [
       "2480331713392"
      ]
     },
     "execution_count": 77,
     "metadata": {},
     "output_type": "execute_result"
    }
   ],
   "source": [
    "id(Circle(10.0))"
   ]
  },
  {
   "cell_type": "code",
   "execution_count": 51,
   "metadata": {
    "collapsed": true
   },
   "outputs": [],
   "source": [
    "class MyInt(int):\n",
    "    def __add__(self, b): #Overwrites add function\n",
    "        return self * b"
   ]
  },
  {
   "cell_type": "code",
   "execution_count": 49,
   "metadata": {
    "collapsed": true
   },
   "outputs": [],
   "source": [
    "m = MyInt(10)"
   ]
  },
  {
   "cell_type": "code",
   "execution_count": 50,
   "metadata": {
    "collapsed": false
   },
   "outputs": [
    {
     "data": {
      "text/plain": [
       "50"
      ]
     },
     "execution_count": 50,
     "metadata": {},
     "output_type": "execute_result"
    }
   ],
   "source": [
    "m+5"
   ]
  },
  {
   "cell_type": "markdown",
   "metadata": {},
   "source": [
    "### Modules"
   ]
  },
  {
   "cell_type": "code",
   "execution_count": 93,
   "metadata": {
    "collapsed": false
   },
   "outputs": [
    {
     "data": {
      "text/plain": [
       "'__main__'"
      ]
     },
     "execution_count": 93,
     "metadata": {},
     "output_type": "execute_result"
    }
   ],
   "source": [
    "__name__"
   ]
  },
  {
   "cell_type": "code",
   "execution_count": 95,
   "metadata": {
    "collapsed": false
   },
   "outputs": [
    {
     "name": "stdout",
     "output_type": "stream",
     "text": [
      "Hi!\n"
     ]
    }
   ],
   "source": [
    "if __name__ == '__main__': #Don't run this code until this script is being passed to the compiler\n",
    "    print('Hi!')"
   ]
  },
  {
   "cell_type": "code",
   "execution_count": 96,
   "metadata": {
    "collapsed": false,
    "scrolled": true
   },
   "outputs": [
    {
     "data": {
      "text/plain": [
       "['Circle',\n",
       " 'Foo',\n",
       " 'In',\n",
       " 'Out',\n",
       " 'Shape',\n",
       " '_',\n",
       " '_13',\n",
       " '_16',\n",
       " '_19',\n",
       " '_20',\n",
       " '_3',\n",
       " '_39',\n",
       " '_51',\n",
       " '_52',\n",
       " '_53',\n",
       " '_54',\n",
       " '_55',\n",
       " '_56',\n",
       " '_57',\n",
       " '_58',\n",
       " '_6',\n",
       " '_60',\n",
       " '_63',\n",
       " '_64',\n",
       " '_66',\n",
       " '_68',\n",
       " '_76',\n",
       " '_77',\n",
       " '_87',\n",
       " '_88',\n",
       " '_89',\n",
       " '_92',\n",
       " '_93',\n",
       " '__',\n",
       " '___',\n",
       " '__builtin__',\n",
       " '__builtins__',\n",
       " '__doc__',\n",
       " '__loader__',\n",
       " '__name__',\n",
       " '__package__',\n",
       " '__spec__',\n",
       " '_dh',\n",
       " '_i',\n",
       " '_i1',\n",
       " '_i10',\n",
       " '_i11',\n",
       " '_i12',\n",
       " '_i13',\n",
       " '_i14',\n",
       " '_i15',\n",
       " '_i16',\n",
       " '_i17',\n",
       " '_i18',\n",
       " '_i19',\n",
       " '_i2',\n",
       " '_i20',\n",
       " '_i21',\n",
       " '_i22',\n",
       " '_i23',\n",
       " '_i24',\n",
       " '_i25',\n",
       " '_i26',\n",
       " '_i27',\n",
       " '_i28',\n",
       " '_i29',\n",
       " '_i3',\n",
       " '_i30',\n",
       " '_i31',\n",
       " '_i32',\n",
       " '_i33',\n",
       " '_i34',\n",
       " '_i35',\n",
       " '_i36',\n",
       " '_i37',\n",
       " '_i38',\n",
       " '_i39',\n",
       " '_i4',\n",
       " '_i40',\n",
       " '_i41',\n",
       " '_i42',\n",
       " '_i43',\n",
       " '_i44',\n",
       " '_i45',\n",
       " '_i46',\n",
       " '_i47',\n",
       " '_i48',\n",
       " '_i49',\n",
       " '_i5',\n",
       " '_i50',\n",
       " '_i51',\n",
       " '_i52',\n",
       " '_i53',\n",
       " '_i54',\n",
       " '_i55',\n",
       " '_i56',\n",
       " '_i57',\n",
       " '_i58',\n",
       " '_i59',\n",
       " '_i6',\n",
       " '_i60',\n",
       " '_i61',\n",
       " '_i62',\n",
       " '_i63',\n",
       " '_i64',\n",
       " '_i65',\n",
       " '_i66',\n",
       " '_i67',\n",
       " '_i68',\n",
       " '_i69',\n",
       " '_i7',\n",
       " '_i70',\n",
       " '_i71',\n",
       " '_i72',\n",
       " '_i73',\n",
       " '_i74',\n",
       " '_i75',\n",
       " '_i76',\n",
       " '_i77',\n",
       " '_i78',\n",
       " '_i79',\n",
       " '_i8',\n",
       " '_i80',\n",
       " '_i81',\n",
       " '_i82',\n",
       " '_i83',\n",
       " '_i84',\n",
       " '_i85',\n",
       " '_i86',\n",
       " '_i87',\n",
       " '_i88',\n",
       " '_i89',\n",
       " '_i9',\n",
       " '_i90',\n",
       " '_i91',\n",
       " '_i92',\n",
       " '_i93',\n",
       " '_i94',\n",
       " '_i95',\n",
       " '_i96',\n",
       " '_ih',\n",
       " '_ii',\n",
       " '_iii',\n",
       " '_oh',\n",
       " '_sh',\n",
       " 'c',\n",
       " 'cs',\n",
       " 'exit',\n",
       " 'f',\n",
       " 'foo',\n",
       " 'g',\n",
       " 'get_ipython',\n",
       " 'l',\n",
       " 'quit',\n",
       " 's']"
      ]
     },
     "execution_count": 96,
     "metadata": {},
     "output_type": "execute_result"
    }
   ],
   "source": [
    "dir() #Everrything in the notebook"
   ]
  },
  {
   "cell_type": "code",
   "execution_count": 98,
   "metadata": {
    "collapsed": true
   },
   "outputs": [],
   "source": [
    "import random"
   ]
  },
  {
   "cell_type": "code",
   "execution_count": 32,
   "metadata": {
    "collapsed": false
   },
   "outputs": [
    {
     "data": {
      "text/plain": [
       "['BPF',\n",
       " 'LOG4',\n",
       " 'NV_MAGICCONST',\n",
       " 'RECIP_BPF',\n",
       " 'Random',\n",
       " 'SG_MAGICCONST',\n",
       " 'SystemRandom',\n",
       " 'TWOPI',\n",
       " '_BuiltinMethodType',\n",
       " '_MethodType',\n",
       " '_Sequence',\n",
       " '_Set',\n",
       " '__all__',\n",
       " '__builtins__',\n",
       " '__cached__',\n",
       " '__doc__',\n",
       " '__file__',\n",
       " '__loader__',\n",
       " '__name__',\n",
       " '__package__',\n",
       " '__spec__',\n",
       " '_acos',\n",
       " '_ceil',\n",
       " '_cos',\n",
       " '_e',\n",
       " '_exp',\n",
       " '_inst',\n",
       " '_log',\n",
       " '_pi',\n",
       " '_random',\n",
       " '_sha512',\n",
       " '_sin',\n",
       " '_sqrt',\n",
       " '_test',\n",
       " '_test_generator',\n",
       " '_urandom',\n",
       " '_warn',\n",
       " 'betavariate',\n",
       " 'choice',\n",
       " 'expovariate',\n",
       " 'gammavariate',\n",
       " 'gauss',\n",
       " 'getrandbits',\n",
       " 'getstate',\n",
       " 'lognormvariate',\n",
       " 'normalvariate',\n",
       " 'paretovariate',\n",
       " 'randint',\n",
       " 'random',\n",
       " 'randrange',\n",
       " 'sample',\n",
       " 'seed',\n",
       " 'setstate',\n",
       " 'shuffle',\n",
       " 'triangular',\n",
       " 'uniform',\n",
       " 'vonmisesvariate',\n",
       " 'weibullvariate']"
      ]
     },
     "execution_count": 32,
     "metadata": {},
     "output_type": "execute_result"
    }
   ],
   "source": [
    "dir(random)"
   ]
  },
  {
   "cell_type": "code",
   "execution_count": 100,
   "metadata": {
    "collapsed": true
   },
   "outputs": [],
   "source": [
    "?random.random"
   ]
  },
  {
   "cell_type": "code",
   "execution_count": 106,
   "metadata": {
    "collapsed": false
   },
   "outputs": [
    {
     "data": {
      "text/plain": [
       "0.7811156475388791"
      ]
     },
     "execution_count": 106,
     "metadata": {},
     "output_type": "execute_result"
    }
   ],
   "source": [
    "random.random()"
   ]
  },
  {
   "cell_type": "code",
   "execution_count": 107,
   "metadata": {
    "collapsed": true
   },
   "outputs": [],
   "source": [
    "?random.randrange"
   ]
  },
  {
   "cell_type": "code",
   "execution_count": 109,
   "metadata": {
    "collapsed": false
   },
   "outputs": [
    {
     "data": {
      "text/plain": [
       "27"
      ]
     },
     "execution_count": 109,
     "metadata": {},
     "output_type": "execute_result"
    }
   ],
   "source": [
    "random.randrange(1,100)"
   ]
  },
  {
   "cell_type": "code",
   "execution_count": 110,
   "metadata": {
    "collapsed": true
   },
   "outputs": [],
   "source": [
    "from random import random, randrange"
   ]
  },
  {
   "cell_type": "code",
   "execution_count": 113,
   "metadata": {
    "collapsed": false
   },
   "outputs": [
    {
     "data": {
      "text/plain": [
       "0.16002759183135407"
      ]
     },
     "execution_count": 113,
     "metadata": {},
     "output_type": "execute_result"
    }
   ],
   "source": [
    "random() #imports random into the local module"
   ]
  },
  {
   "cell_type": "code",
   "execution_count": 116,
   "metadata": {
    "collapsed": false
   },
   "outputs": [],
   "source": [
    "import random as r"
   ]
  },
  {
   "cell_type": "code",
   "execution_count": 117,
   "metadata": {
    "collapsed": false
   },
   "outputs": [
    {
     "data": {
      "text/plain": [
       "0.1834792861002651"
      ]
     },
     "execution_count": 117,
     "metadata": {},
     "output_type": "execute_result"
    }
   ],
   "source": [
    "r.random()"
   ]
  }
 ],
 "metadata": {
  "anaconda-cloud": {},
  "kernelspec": {
   "display_name": "Python [default]",
   "language": "python",
   "name": "python3"
  },
  "language_info": {
   "codemirror_mode": {
    "name": "ipython",
    "version": 3
   },
   "file_extension": ".py",
   "mimetype": "text/x-python",
   "name": "python",
   "nbconvert_exporter": "python",
   "pygments_lexer": "ipython3",
   "version": "3.5.2"
  }
 },
 "nbformat": 4,
 "nbformat_minor": 0
}

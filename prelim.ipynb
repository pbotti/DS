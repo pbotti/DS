{
 "cells": [
  {
   "cell_type": "markdown",
   "metadata": {},
   "source": [
    "Preliminaries"
   ]
  },
  {
   "cell_type": "markdown",
   "metadata": {},
   "source": [
    "All assignments for this class will be fetched, worked-on, and submitted via a dynamic in-browser Python development and testing environment known as the Jupyter Notebook.\n",
    "This first machine problem is intended to familiarize you with the environment and assignment retrieval/submission system, and to have you write some simple Python functions and test them using unit test cells, which will be found in all subsequent assignments."
   ]
  },
  {
   "cell_type": "markdown",
   "metadata": {},
   "source": [
    "Fetching assignments\n",
    "If you're reading this, then you're likely already familiar with the procedure for fetching an assignment. To recap:\n",
    "After logging in using your @hawk.iit.edu account, you'll either click \"Start Server\" or \"My Server\" to go to the Jupyter dashboard\n",
    "From there, go to the \"Assignments\" tab, where you'll see any newly released assignments in the \"Released assignments\" area. You can fetch the files by clicking the \"Fetch\" button next to each assignment.\n",
    "After an assignment has been fetched, you'll see it in the \"Downloaded assignments\" area, where you can expand the assignment to click on individual notebooks to open them up. You can also validate and submit your work here. Alternatively, you can also browse into an assignment folder from the \"Files\" tab and click on notebook files to open them up there."
   ]
  },
  {
   "cell_type": "markdown",
   "metadata": {},
   "source": [
    "Exercise 1: Factorial\n",
    "Most of the machine problems you'll be working on will have auto-graded pieces. Typically, these involve functions you need to complete, paired with test-cases written for you.\n",
    "Below, for instance, is a stubbed out factorial function for you to complete. If you've forgotten, the factorial of a positive integer n is simply the product of all integers from n down through 1. E.g., the factorial of \n",
    "5=5×4×3×2×1=120\n",
    ".\n",
    "Go ahead and complete the implementation of factorial now. (You should delete the comment and the raise statement.)\n",
    "    "
   ]
  },
  {
   "cell_type": "code",
   "execution_count": 5,
   "metadata": {
    "collapsed": false
   },
   "outputs": [],
   "source": [
    "def factorial(n):\n",
    "    # YOUR CODE HERE\n",
    "    #raise NotImplementedError()\n",
    "    if(n==1):\n",
    "        return 1\n",
    "    return(n*factorial(n-1))"
   ]
  },
  {
   "cell_type": "markdown",
   "metadata": {},
   "source": [
    "When you're done with your solution, you can run the tests in the cell below (but don't modify its contents!) to see how you did. Any errors will be displayed as output; if there is no output after the cell is evaluated, it means you passed all the tests contained therein."
   ]
  },
  {
   "cell_type": "code",
   "execution_count": 8,
   "metadata": {
    "collapsed": false
   },
   "outputs": [],
   "source": [
    "# (2 points)\n",
    "import unittest\n",
    "tc = unittest.TestCase()\n",
    "tc.assertEqual(factorial(1), 1)\n",
    "tc.assertEqual(factorial(5), 120)\n",
    "tc.assertEqual(factorial(10), 3628800)"
   ]
  },
  {
   "cell_type": "markdown",
   "metadata": {},
   "source": [
    "Exercise 2: Multiples of 3 and 5\n",
    "If we list all the natural numbers below 10 that are multiples of 3 or 5, we get 3, 5, 6 and 9. The sum of these multiples is 23.\n",
    "Complete the following function, which finds the sum of all the multiples of 3 or 5 below the argument n."
   ]
  },
  {
   "cell_type": "code",
   "execution_count": 23,
   "metadata": {
    "collapsed": false
   },
   "outputs": [],
   "source": [
    "def multiples_of_3_and_5(n):\n",
    "    # YOUR CODE HERE\n",
    "    #raise NotImplementedError()\n",
    "    sum=0\n",
    "    for i in range(0, n):\n",
    "        if((i%3) == 0 or (i%5) == 0):\n",
    "            sum +=i\n",
    "    return sum"
   ]
  },
  {
   "cell_type": "code",
   "execution_count": 24,
   "metadata": {
    "collapsed": false
   },
   "outputs": [],
   "source": [
    "# (3 points)\n",
    "import unittest\n",
    "tc = unittest.TestCase()\n",
    "tc.assertEqual(multiples_of_3_and_5(10), 23)\n",
    "tc.assertEqual(multiples_of_3_and_5(500), 57918)\n",
    "tc.assertEqual(multiples_of_3_and_5(1000), 233168)"
   ]
  },
  {
   "cell_type": "markdown",
   "metadata": {},
   "source": [
    "Exercise 3: Integer Right Triangles\n",
    "Given a perimeter of 60, we can find two right triangles with integral length sides: [(10, 24, 26), (15, 20, 25)]. Complete the following function, which takes an integer p and returns a list of tuples (a, b, c) corresponding to the integral lengths of the sides of comforming right triangles. Each tuple should have \n",
    "a≤b<c\n",
    "a≤b<c\n",
    ", and the list should contain no duplicate solutions, and be sorted in order of ascending a."
   ]
  },
  {
   "cell_type": "code",
   "execution_count": 35,
   "metadata": {
    "collapsed": false
   },
   "outputs": [],
   "source": [
    "def integer_right_triangles(p): #This code is slow for now\n",
    "    # YOUR CODE HERE\n",
    "    #raise NotImplementedError()\n",
    "    l=[(a,b,c) for a in range(1,p+1)\n",
    "         for b in range(a,p+1)\n",
    "         for c in range(b,p+1)\n",
    "         if(a**2 + b**2 == c**2 and (a+b+c)==p)]\n",
    "    return l"
   ]
  },
  {
   "cell_type": "code",
   "execution_count": 36,
   "metadata": {
    "collapsed": false
   },
   "outputs": [],
   "source": [
    "# (1 point)\n",
    "import unittest\n",
    "tc = unittest.TestCase()\n",
    "tc.assertEqual(integer_right_triangles(60), [(10, 24, 26), (15, 20, 25)])"
   ]
  },
  {
   "cell_type": "code",
   "execution_count": 37,
   "metadata": {
    "collapsed": false
   },
   "outputs": [],
   "source": [
    "# (3 points)\n",
    "import unittest\n",
    "tc = unittest.TestCase()\n",
    "tc.assertEqual(integer_right_triangles(100), [])\n",
    "tc.assertEqual(integer_right_triangles(180), [(18, 80, 82), (30, 72, 78), (45, 60, 75)])\n",
    "tc.assertEqual(integer_right_triangles(840), \n",
    "               [(40, 399, 401),\n",
    "                (56, 390, 394),\n",
    "                (105, 360, 375),\n",
    "                (120, 350, 370),\n",
    "                (140, 336, 364),\n",
    "                (168, 315, 357),\n",
    "                (210, 280, 350),\n",
    "                (240, 252, 348)])"
   ]
  },
  {
   "cell_type": "markdown",
   "metadata": {},
   "source": [
    "Exercise 4: Simple ASCII Art\n",
    "For this next exercise, you'll need to complete the function gen_pattern, which, when called with a string of length \n",
    "≥\n",
    "≥\n",
    "1, will generate an ASCII art pattern of concentric diamonds using those characters. The following are examples of patterns returned by the function:\n",
    "> print(gen_pattern('X'))\n",
    "\n",
    "X\n",
    "\n",
    "> print(gen_pattern('XY'))\n",
    "\n",
    "..Y..\n",
    "Y.X.Y\n",
    "..Y..\n",
    "\n",
    "> print(gen_pattern('WXYZ'))\n",
    "\n",
    "......Z......\n",
    "....Z.Y.Z....\n",
    "..Z.Y.X.Y.Z..\n",
    "Z.Y.X.W.X.Y.Z\n",
    "..Z.Y.X.Y.Z..\n",
    "....Z.Y.Z....\n",
    "......Z......\n",
    "\n",
    "Note that the function will return the pattern as a string (as opposed to printing it out), and so each line of the pattern should be separated by a newline, written as '\\n' in Python. The second pattern above, as returned by gen_pattern, would be ''..Y..\\nY.X.Y\\n..Y..'.\n",
    "You ought to find the string join and center methods helpful in your implementation. They are demonstrated here:\n",
    "> '*'.join(['one', 'two', 'three'])\n",
    "\n",
    "'one*two*three'\n",
    "\n",
    "> '*'.join('abcde')\n",
    "\n",
    "'a*b*c*d*e'\n",
    "\n",
    "> 'hello'.center(11, '*')\n",
    "\n",
    "'***hello***'\n",
    "\n",
    "Complete the gen_pattern function, below:"
   ]
  },
  {
   "cell_type": "code",
   "execution_count": 263,
   "metadata": {
    "collapsed": false
   },
   "outputs": [
    {
     "ename": "SyntaxError",
     "evalue": "invalid syntax (<ipython-input-263-0e8c30db2d19>, line 38)",
     "output_type": "error",
     "traceback": [
      "\u001b[0;36m  File \u001b[0;32m\"<ipython-input-263-0e8c30db2d19>\"\u001b[0;36m, line \u001b[0;32m38\u001b[0m\n\u001b[0;31m    for c in range((x-2),-1,-1):\u001b[0m\n\u001b[0m                               ^\u001b[0m\n\u001b[0;31mSyntaxError\u001b[0m\u001b[0;31m:\u001b[0m invalid syntax\n"
     ]
    }
   ],
   "source": [
    "def gen_pattern(chars):\n",
    "    # YOUR CODE HERE\n",
    "    #raise NotImplementedError()\n",
    "    #if(len(chars)==1):\n",
    "    #    return chars\n",
    "    #lschars = list(chars)  \n",
    "    #lsans=[]\n",
    "    #print(len(lschars))\n",
    "    #x = len(lschars)-1\n",
    "    #for i in range(0,x):\n",
    "    #    lsans.append(lschars[i].center((3*x),'.'))\n",
    "        \n",
    "    #for c in lschars:\n",
    "    #    str = (c.center((3*x),'.'))\n",
    "    #    lsans.append(str)\n",
    "    #    print(str)\n",
    "    #    lsans.append('\\n')\n",
    "    \n",
    "    lschars = list(chars)\n",
    "    ans=[]\n",
    "    x = len(chars)\n",
    "    if x == 1:\n",
    "        return chars\n",
    "    #ans.append(lschars[-1].center(3*x-int(2/x),'.'))\n",
    "    for y in range(1,-x,-1):\n",
    "        ans.append(lschars[y].center(3*x-1,'.')\n",
    "        #ans.append(lschars[y].center(3,'.').center(3*x-int(2/x),lschars[y-1]))\n",
    "        \n",
    "    #ans.append(lschars[-2].center(3,'.').center(3*x-1,lschars[-1]))\n",
    "    #ans.append(lschars[-1].center(3*x-1,'.'))\n",
    "    #print(ans)\n",
    "    #for c in range(1,x,1):\n",
    "    #    print(c)\n",
    "    #    #ans.append(lschars[0-c].center(3*x-1,'.'))\n",
    "    #    ans.append(lschars[0-c].center(3,'.').center(3*x-1,lschars[-1]))\n",
    "    #    #ans.joinlschars[c].center(3*x-1,ans[c-1])\n",
    "    #    #ans.append(lschars[c].center(3*x-1,ans[c-1]))\n",
    "    for c in range((x-2),-1,-1):\n",
    "        ans.append(ans[c])\n",
    "        #print(c)\n",
    "    #print(ans)\n",
    "        #ans.append(c)\n",
    "    #ans.append(ans[0])\n",
    "    #ans.append(lschars[-2].center(3*x-2,lschars[-1])\n",
    "    #for c in range(1,x,1):\n",
    "    #    ans.append(ans[:c:-1])\n",
    "    str1 = '\\n'.join(ans)\n",
    "    #str1 = '.'.join(lsans)    \n",
    "    return str1"
   ]
  },
  {
   "cell_type": "code",
   "execution_count": 258,
   "metadata": {
    "collapsed": false
   },
   "outputs": [
    {
     "name": "stderr",
     "output_type": "stream",
     "text": [
      "ERROR:root:An unexpected error occurred while tokenizing input\n",
      "The following traceback may be corrupted or invalid\n",
      "The error message is: ('EOF in multi-line string', (1, 5))\n",
      "\n"
     ]
    },
    {
     "ename": "AssertionError",
     "evalue": "'@.%.@\\n%.@.%\\n@.%.@\\n@.%.@' != '..%..\\n%.@.%\\n..%..'\n- @.%.@\n+ ..%..\n  %.@.%\n+ ..%..- @.%.@\n- @.%.@",
     "output_type": "error",
     "traceback": [
      "\u001b[0;31m---------------------------------------------------------------------------\u001b[0m",
      "\u001b[0;31mAssertionError\u001b[0m                            Traceback (most recent call last)",
      "\u001b[0;32m<ipython-input-258-8798d0a00203>\u001b[0m in \u001b[0;36m<module>\u001b[0;34m()\u001b[0m\n\u001b[1;32m      6\u001b[0m '''..%..\n\u001b[1;32m      7\u001b[0m \u001b[1;33m%\u001b[0m\u001b[1;33m.\u001b[0m\u001b[1;33m@\u001b[0m\u001b[1;33m.\u001b[0m\u001b[1;33m%\u001b[0m\u001b[1;33m\u001b[0m\u001b[0m\n\u001b[0;32m----> 8\u001b[0;31m ..%..''')\n\u001b[0m",
      "\u001b[0;32mC:\\Users\\Carolyn\\Anaconda3\\lib\\unittest\\case.py\u001b[0m in \u001b[0;36massertEqual\u001b[0;34m(self, first, second, msg)\u001b[0m\n\u001b[1;32m    818\u001b[0m         \"\"\"\n\u001b[1;32m    819\u001b[0m         \u001b[0massertion_func\u001b[0m \u001b[1;33m=\u001b[0m \u001b[0mself\u001b[0m\u001b[1;33m.\u001b[0m\u001b[0m_getAssertEqualityFunc\u001b[0m\u001b[1;33m(\u001b[0m\u001b[0mfirst\u001b[0m\u001b[1;33m,\u001b[0m \u001b[0msecond\u001b[0m\u001b[1;33m)\u001b[0m\u001b[1;33m\u001b[0m\u001b[0m\n\u001b[0;32m--> 820\u001b[0;31m         \u001b[0massertion_func\u001b[0m\u001b[1;33m(\u001b[0m\u001b[0mfirst\u001b[0m\u001b[1;33m,\u001b[0m \u001b[0msecond\u001b[0m\u001b[1;33m,\u001b[0m \u001b[0mmsg\u001b[0m\u001b[1;33m=\u001b[0m\u001b[0mmsg\u001b[0m\u001b[1;33m)\u001b[0m\u001b[1;33m\u001b[0m\u001b[0m\n\u001b[0m\u001b[1;32m    821\u001b[0m \u001b[1;33m\u001b[0m\u001b[0m\n\u001b[1;32m    822\u001b[0m     \u001b[1;32mdef\u001b[0m \u001b[0massertNotEqual\u001b[0m\u001b[1;33m(\u001b[0m\u001b[0mself\u001b[0m\u001b[1;33m,\u001b[0m \u001b[0mfirst\u001b[0m\u001b[1;33m,\u001b[0m \u001b[0msecond\u001b[0m\u001b[1;33m,\u001b[0m \u001b[0mmsg\u001b[0m\u001b[1;33m=\u001b[0m\u001b[1;32mNone\u001b[0m\u001b[1;33m)\u001b[0m\u001b[1;33m:\u001b[0m\u001b[1;33m\u001b[0m\u001b[0m\n",
      "\u001b[0;32mC:\\Users\\Carolyn\\Anaconda3\\lib\\unittest\\case.py\u001b[0m in \u001b[0;36massertMultiLineEqual\u001b[0;34m(self, first, second, msg)\u001b[0m\n\u001b[1;32m   1191\u001b[0m             \u001b[0mdiff\u001b[0m \u001b[1;33m=\u001b[0m \u001b[1;34m'\\n'\u001b[0m \u001b[1;33m+\u001b[0m \u001b[1;34m''\u001b[0m\u001b[1;33m.\u001b[0m\u001b[0mjoin\u001b[0m\u001b[1;33m(\u001b[0m\u001b[0mdifflib\u001b[0m\u001b[1;33m.\u001b[0m\u001b[0mndiff\u001b[0m\u001b[1;33m(\u001b[0m\u001b[0mfirstlines\u001b[0m\u001b[1;33m,\u001b[0m \u001b[0msecondlines\u001b[0m\u001b[1;33m)\u001b[0m\u001b[1;33m)\u001b[0m\u001b[1;33m\u001b[0m\u001b[0m\n\u001b[1;32m   1192\u001b[0m             \u001b[0mstandardMsg\u001b[0m \u001b[1;33m=\u001b[0m \u001b[0mself\u001b[0m\u001b[1;33m.\u001b[0m\u001b[0m_truncateMessage\u001b[0m\u001b[1;33m(\u001b[0m\u001b[0mstandardMsg\u001b[0m\u001b[1;33m,\u001b[0m \u001b[0mdiff\u001b[0m\u001b[1;33m)\u001b[0m\u001b[1;33m\u001b[0m\u001b[0m\n\u001b[0;32m-> 1193\u001b[0;31m             \u001b[0mself\u001b[0m\u001b[1;33m.\u001b[0m\u001b[0mfail\u001b[0m\u001b[1;33m(\u001b[0m\u001b[0mself\u001b[0m\u001b[1;33m.\u001b[0m\u001b[0m_formatMessage\u001b[0m\u001b[1;33m(\u001b[0m\u001b[0mmsg\u001b[0m\u001b[1;33m,\u001b[0m \u001b[0mstandardMsg\u001b[0m\u001b[1;33m)\u001b[0m\u001b[1;33m)\u001b[0m\u001b[1;33m\u001b[0m\u001b[0m\n\u001b[0m\u001b[1;32m   1194\u001b[0m \u001b[1;33m\u001b[0m\u001b[0m\n\u001b[1;32m   1195\u001b[0m     \u001b[1;32mdef\u001b[0m \u001b[0massertLess\u001b[0m\u001b[1;33m(\u001b[0m\u001b[0mself\u001b[0m\u001b[1;33m,\u001b[0m \u001b[0ma\u001b[0m\u001b[1;33m,\u001b[0m \u001b[0mb\u001b[0m\u001b[1;33m,\u001b[0m \u001b[0mmsg\u001b[0m\u001b[1;33m=\u001b[0m\u001b[1;32mNone\u001b[0m\u001b[1;33m)\u001b[0m\u001b[1;33m:\u001b[0m\u001b[1;33m\u001b[0m\u001b[0m\n",
      "\u001b[0;32mC:\\Users\\Carolyn\\Anaconda3\\lib\\unittest\\case.py\u001b[0m in \u001b[0;36mfail\u001b[0;34m(self, msg)\u001b[0m\n\u001b[1;32m    663\u001b[0m     \u001b[1;32mdef\u001b[0m \u001b[0mfail\u001b[0m\u001b[1;33m(\u001b[0m\u001b[0mself\u001b[0m\u001b[1;33m,\u001b[0m \u001b[0mmsg\u001b[0m\u001b[1;33m=\u001b[0m\u001b[1;32mNone\u001b[0m\u001b[1;33m)\u001b[0m\u001b[1;33m:\u001b[0m\u001b[1;33m\u001b[0m\u001b[0m\n\u001b[1;32m    664\u001b[0m         \u001b[1;34m\"\"\"Fail immediately, with the given message.\"\"\"\u001b[0m\u001b[1;33m\u001b[0m\u001b[0m\n\u001b[0;32m--> 665\u001b[0;31m         \u001b[1;32mraise\u001b[0m \u001b[0mself\u001b[0m\u001b[1;33m.\u001b[0m\u001b[0mfailureException\u001b[0m\u001b[1;33m(\u001b[0m\u001b[0mmsg\u001b[0m\u001b[1;33m)\u001b[0m\u001b[1;33m\u001b[0m\u001b[0m\n\u001b[0m\u001b[1;32m    666\u001b[0m \u001b[1;33m\u001b[0m\u001b[0m\n\u001b[1;32m    667\u001b[0m     \u001b[1;32mdef\u001b[0m \u001b[0massertFalse\u001b[0m\u001b[1;33m(\u001b[0m\u001b[0mself\u001b[0m\u001b[1;33m,\u001b[0m \u001b[0mexpr\u001b[0m\u001b[1;33m,\u001b[0m \u001b[0mmsg\u001b[0m\u001b[1;33m=\u001b[0m\u001b[1;32mNone\u001b[0m\u001b[1;33m)\u001b[0m\u001b[1;33m:\u001b[0m\u001b[1;33m\u001b[0m\u001b[0m\n",
      "\u001b[0;31mAssertionError\u001b[0m: '@.%.@\\n%.@.%\\n@.%.@\\n@.%.@' != '..%..\\n%.@.%\\n..%..'\n- @.%.@\n+ ..%..\n  %.@.%\n+ ..%..- @.%.@\n- @.%.@"
     ]
    }
   ],
   "source": [
    "# (2 points)\n",
    "import unittest\n",
    "tc = unittest.TestCase()\n",
    "tc.assertEqual(gen_pattern('@'), '@')\n",
    "tc.assertEqual(gen_pattern('@%'),\n",
    "'''..%..\n",
    "%.@.%\n",
    "..%..''')"
   ]
  },
  {
   "cell_type": "code",
   "execution_count": 254,
   "metadata": {
    "collapsed": false
   },
   "outputs": [
    {
     "ename": "AssertionError",
     "evalue": "'....C....\\nAAA.B.AAA\\nCCC.A.CCC\\nBBB.C.BBB\\nAAA.B.AAA\\nAAA.B.AAA\\n....C....' != '....C....\\n..C.B.C..\\nC.B.A.B.C\\n..C.B.C..\\n....C....'\n  ....C....\n+ ..C.B.C..\n+ C.B.A.B.C\n+ ..C.B.C..\n- AAA.B.AAA\n- CCC.A.CCC\n- BBB.C.BBB\n- AAA.B.AAA\n- AAA.B.AAA\n  ....C....",
     "output_type": "error",
     "traceback": [
      "\u001b[0;31m---------------------------------------------------------------------------\u001b[0m",
      "\u001b[0;31mAssertionError\u001b[0m                            Traceback (most recent call last)",
      "\u001b[0;32m<ipython-input-254-4a706ea3b606>\u001b[0m in \u001b[0;36m<module>\u001b[0;34m()\u001b[0m\n\u001b[1;32m      7\u001b[0m \u001b[0mC\u001b[0m\u001b[1;33m.\u001b[0m\u001b[0mB\u001b[0m\u001b[1;33m.\u001b[0m\u001b[0mA\u001b[0m\u001b[1;33m.\u001b[0m\u001b[0mB\u001b[0m\u001b[1;33m.\u001b[0m\u001b[0mC\u001b[0m\u001b[1;33m\u001b[0m\u001b[0m\n\u001b[1;32m      8\u001b[0m \u001b[1;33m.\u001b[0m\u001b[1;33m.\u001b[0m\u001b[0mC\u001b[0m\u001b[1;33m.\u001b[0m\u001b[0mB\u001b[0m\u001b[1;33m.\u001b[0m\u001b[0mC\u001b[0m\u001b[1;33m.\u001b[0m\u001b[1;33m.\u001b[0m\u001b[1;33m\u001b[0m\u001b[0m\n\u001b[0;32m----> 9\u001b[0;31m ....C....''')\n\u001b[0m\u001b[1;32m     10\u001b[0m tc.assertEqual(gen_pattern('#####'),\n\u001b[1;32m     11\u001b[0m '''........#........\n",
      "\u001b[0;32mC:\\Users\\Carolyn\\Anaconda3\\lib\\unittest\\case.py\u001b[0m in \u001b[0;36massertEqual\u001b[0;34m(self, first, second, msg)\u001b[0m\n\u001b[1;32m    818\u001b[0m         \"\"\"\n\u001b[1;32m    819\u001b[0m         \u001b[0massertion_func\u001b[0m \u001b[1;33m=\u001b[0m \u001b[0mself\u001b[0m\u001b[1;33m.\u001b[0m\u001b[0m_getAssertEqualityFunc\u001b[0m\u001b[1;33m(\u001b[0m\u001b[0mfirst\u001b[0m\u001b[1;33m,\u001b[0m \u001b[0msecond\u001b[0m\u001b[1;33m)\u001b[0m\u001b[1;33m\u001b[0m\u001b[0m\n\u001b[0;32m--> 820\u001b[0;31m         \u001b[0massertion_func\u001b[0m\u001b[1;33m(\u001b[0m\u001b[0mfirst\u001b[0m\u001b[1;33m,\u001b[0m \u001b[0msecond\u001b[0m\u001b[1;33m,\u001b[0m \u001b[0mmsg\u001b[0m\u001b[1;33m=\u001b[0m\u001b[0mmsg\u001b[0m\u001b[1;33m)\u001b[0m\u001b[1;33m\u001b[0m\u001b[0m\n\u001b[0m\u001b[1;32m    821\u001b[0m \u001b[1;33m\u001b[0m\u001b[0m\n\u001b[1;32m    822\u001b[0m     \u001b[1;32mdef\u001b[0m \u001b[0massertNotEqual\u001b[0m\u001b[1;33m(\u001b[0m\u001b[0mself\u001b[0m\u001b[1;33m,\u001b[0m \u001b[0mfirst\u001b[0m\u001b[1;33m,\u001b[0m \u001b[0msecond\u001b[0m\u001b[1;33m,\u001b[0m \u001b[0mmsg\u001b[0m\u001b[1;33m=\u001b[0m\u001b[1;32mNone\u001b[0m\u001b[1;33m)\u001b[0m\u001b[1;33m:\u001b[0m\u001b[1;33m\u001b[0m\u001b[0m\n",
      "\u001b[0;32mC:\\Users\\Carolyn\\Anaconda3\\lib\\unittest\\case.py\u001b[0m in \u001b[0;36massertMultiLineEqual\u001b[0;34m(self, first, second, msg)\u001b[0m\n\u001b[1;32m   1191\u001b[0m             \u001b[0mdiff\u001b[0m \u001b[1;33m=\u001b[0m \u001b[1;34m'\\n'\u001b[0m \u001b[1;33m+\u001b[0m \u001b[1;34m''\u001b[0m\u001b[1;33m.\u001b[0m\u001b[0mjoin\u001b[0m\u001b[1;33m(\u001b[0m\u001b[0mdifflib\u001b[0m\u001b[1;33m.\u001b[0m\u001b[0mndiff\u001b[0m\u001b[1;33m(\u001b[0m\u001b[0mfirstlines\u001b[0m\u001b[1;33m,\u001b[0m \u001b[0msecondlines\u001b[0m\u001b[1;33m)\u001b[0m\u001b[1;33m)\u001b[0m\u001b[1;33m\u001b[0m\u001b[0m\n\u001b[1;32m   1192\u001b[0m             \u001b[0mstandardMsg\u001b[0m \u001b[1;33m=\u001b[0m \u001b[0mself\u001b[0m\u001b[1;33m.\u001b[0m\u001b[0m_truncateMessage\u001b[0m\u001b[1;33m(\u001b[0m\u001b[0mstandardMsg\u001b[0m\u001b[1;33m,\u001b[0m \u001b[0mdiff\u001b[0m\u001b[1;33m)\u001b[0m\u001b[1;33m\u001b[0m\u001b[0m\n\u001b[0;32m-> 1193\u001b[0;31m             \u001b[0mself\u001b[0m\u001b[1;33m.\u001b[0m\u001b[0mfail\u001b[0m\u001b[1;33m(\u001b[0m\u001b[0mself\u001b[0m\u001b[1;33m.\u001b[0m\u001b[0m_formatMessage\u001b[0m\u001b[1;33m(\u001b[0m\u001b[0mmsg\u001b[0m\u001b[1;33m,\u001b[0m \u001b[0mstandardMsg\u001b[0m\u001b[1;33m)\u001b[0m\u001b[1;33m)\u001b[0m\u001b[1;33m\u001b[0m\u001b[0m\n\u001b[0m\u001b[1;32m   1194\u001b[0m \u001b[1;33m\u001b[0m\u001b[0m\n\u001b[1;32m   1195\u001b[0m     \u001b[1;32mdef\u001b[0m \u001b[0massertLess\u001b[0m\u001b[1;33m(\u001b[0m\u001b[0mself\u001b[0m\u001b[1;33m,\u001b[0m \u001b[0ma\u001b[0m\u001b[1;33m,\u001b[0m \u001b[0mb\u001b[0m\u001b[1;33m,\u001b[0m \u001b[0mmsg\u001b[0m\u001b[1;33m=\u001b[0m\u001b[1;32mNone\u001b[0m\u001b[1;33m)\u001b[0m\u001b[1;33m:\u001b[0m\u001b[1;33m\u001b[0m\u001b[0m\n",
      "\u001b[0;32mC:\\Users\\Carolyn\\Anaconda3\\lib\\unittest\\case.py\u001b[0m in \u001b[0;36mfail\u001b[0;34m(self, msg)\u001b[0m\n\u001b[1;32m    663\u001b[0m     \u001b[1;32mdef\u001b[0m \u001b[0mfail\u001b[0m\u001b[1;33m(\u001b[0m\u001b[0mself\u001b[0m\u001b[1;33m,\u001b[0m \u001b[0mmsg\u001b[0m\u001b[1;33m=\u001b[0m\u001b[1;32mNone\u001b[0m\u001b[1;33m)\u001b[0m\u001b[1;33m:\u001b[0m\u001b[1;33m\u001b[0m\u001b[0m\n\u001b[1;32m    664\u001b[0m         \u001b[1;34m\"\"\"Fail immediately, with the given message.\"\"\"\u001b[0m\u001b[1;33m\u001b[0m\u001b[0m\n\u001b[0;32m--> 665\u001b[0;31m         \u001b[1;32mraise\u001b[0m \u001b[0mself\u001b[0m\u001b[1;33m.\u001b[0m\u001b[0mfailureException\u001b[0m\u001b[1;33m(\u001b[0m\u001b[0mmsg\u001b[0m\u001b[1;33m)\u001b[0m\u001b[1;33m\u001b[0m\u001b[0m\n\u001b[0m\u001b[1;32m    666\u001b[0m \u001b[1;33m\u001b[0m\u001b[0m\n\u001b[1;32m    667\u001b[0m     \u001b[1;32mdef\u001b[0m \u001b[0massertFalse\u001b[0m\u001b[1;33m(\u001b[0m\u001b[0mself\u001b[0m\u001b[1;33m,\u001b[0m \u001b[0mexpr\u001b[0m\u001b[1;33m,\u001b[0m \u001b[0mmsg\u001b[0m\u001b[1;33m=\u001b[0m\u001b[1;32mNone\u001b[0m\u001b[1;33m)\u001b[0m\u001b[1;33m:\u001b[0m\u001b[1;33m\u001b[0m\u001b[0m\n",
      "\u001b[0;31mAssertionError\u001b[0m: '....C....\\nAAA.B.AAA\\nCCC.A.CCC\\nBBB.C.BBB\\nAAA.B.AAA\\nAAA.B.AAA\\n....C....' != '....C....\\n..C.B.C..\\nC.B.A.B.C\\n..C.B.C..\\n....C....'\n  ....C....\n+ ..C.B.C..\n+ C.B.A.B.C\n+ ..C.B.C..\n- AAA.B.AAA\n- CCC.A.CCC\n- BBB.C.BBB\n- AAA.B.AAA\n- AAA.B.AAA\n  ....C...."
     ]
    }
   ],
   "source": [
    "# (2 points)\n",
    "import unittest\n",
    "tc = unittest.TestCase()\n",
    "tc.assertEqual(gen_pattern('ABC'),\n",
    "'''....C....\n",
    "..C.B.C..\n",
    "C.B.A.B.C\n",
    "..C.B.C..\n",
    "....C....''')\n",
    "tc.assertEqual(gen_pattern('#####'),\n",
    "'''........#........\n",
    "......#.#.#......\n",
    "....#.#.#.#.#....\n",
    "..#.#.#.#.#.#.#..\n",
    "#.#.#.#.#.#.#.#.#\n",
    "..#.#.#.#.#.#.#..\n",
    "....#.#.#.#.#....\n",
    "......#.#.#......\n",
    "........#........''')"
   ]
  },
  {
   "cell_type": "code",
   "execution_count": 148,
   "metadata": {
    "collapsed": false
   },
   "outputs": [
    {
     "name": "stderr",
     "output_type": "stream",
     "text": [
      "ERROR:root:An unexpected error occurred while tokenizing input\n",
      "The following traceback may be corrupted or invalid\n",
      "The error message is: ('EOF in multi-line string', (1, 61))\n",
      "\n"
     ]
    },
    {
     "ename": "AssertionError",
     "evalue": "'....[14 chars].....p.......................\\nbbbbbbbbbbbbbbb[1449 chars]....' != '....[14 chars]............p..............................\\n.[1883 chars]....'\nDiff is 3661 characters long. Set self.maxDiff to None to see it.",
     "output_type": "error",
     "traceback": [
      "\u001b[0;31m---------------------------------------------------------------------------\u001b[0m",
      "\u001b[0;31mAssertionError\u001b[0m                            Traceback (most recent call last)",
      "\u001b[0;32m<ipython-input-148-a0ff769b08f8>\u001b[0m in \u001b[0;36m<module>\u001b[0;34m()\u001b[0m\n\u001b[1;32m     33\u001b[0m \u001b[1;33m...\u001b[0m\u001b[1;33m...\u001b[0m\u001b[1;33m...\u001b[0m\u001b[1;33m...\u001b[0m\u001b[1;33m...\u001b[0m\u001b[1;33m...\u001b[0m\u001b[1;33m...\u001b[0m\u001b[1;33m...\u001b[0m\u001b[1;33m.\u001b[0m\u001b[1;33m.\u001b[0m\u001b[0mp\u001b[0m\u001b[1;33m.\u001b[0m\u001b[0mo\u001b[0m\u001b[1;33m.\u001b[0m\u001b[0mn\u001b[0m\u001b[1;33m.\u001b[0m\u001b[0mo\u001b[0m\u001b[1;33m.\u001b[0m\u001b[0mp\u001b[0m\u001b[1;33m...\u001b[0m\u001b[1;33m...\u001b[0m\u001b[1;33m...\u001b[0m\u001b[1;33m...\u001b[0m\u001b[1;33m...\u001b[0m\u001b[1;33m...\u001b[0m\u001b[1;33m...\u001b[0m\u001b[1;33m...\u001b[0m\u001b[1;33m.\u001b[0m\u001b[1;33m.\u001b[0m\u001b[1;33m\u001b[0m\u001b[0m\n\u001b[1;32m     34\u001b[0m \u001b[1;33m...\u001b[0m\u001b[1;33m...\u001b[0m\u001b[1;33m...\u001b[0m\u001b[1;33m...\u001b[0m\u001b[1;33m...\u001b[0m\u001b[1;33m...\u001b[0m\u001b[1;33m...\u001b[0m\u001b[1;33m...\u001b[0m\u001b[1;33m...\u001b[0m\u001b[1;33m.\u001b[0m\u001b[0mp\u001b[0m\u001b[1;33m.\u001b[0m\u001b[0mo\u001b[0m\u001b[1;33m.\u001b[0m\u001b[0mp\u001b[0m\u001b[1;33m...\u001b[0m\u001b[1;33m...\u001b[0m\u001b[1;33m...\u001b[0m\u001b[1;33m...\u001b[0m\u001b[1;33m...\u001b[0m\u001b[1;33m...\u001b[0m\u001b[1;33m...\u001b[0m\u001b[1;33m...\u001b[0m\u001b[1;33m...\u001b[0m\u001b[1;33m.\u001b[0m\u001b[1;33m\u001b[0m\u001b[0m\n\u001b[0;32m---> 35\u001b[0;31m ..............................p..............................''')\n\u001b[0m",
      "\u001b[0;32mC:\\Users\\Carolyn\\Anaconda3\\lib\\unittest\\case.py\u001b[0m in \u001b[0;36massertEqual\u001b[0;34m(self, first, second, msg)\u001b[0m\n\u001b[1;32m    818\u001b[0m         \"\"\"\n\u001b[1;32m    819\u001b[0m         \u001b[0massertion_func\u001b[0m \u001b[1;33m=\u001b[0m \u001b[0mself\u001b[0m\u001b[1;33m.\u001b[0m\u001b[0m_getAssertEqualityFunc\u001b[0m\u001b[1;33m(\u001b[0m\u001b[0mfirst\u001b[0m\u001b[1;33m,\u001b[0m \u001b[0msecond\u001b[0m\u001b[1;33m)\u001b[0m\u001b[1;33m\u001b[0m\u001b[0m\n\u001b[0;32m--> 820\u001b[0;31m         \u001b[0massertion_func\u001b[0m\u001b[1;33m(\u001b[0m\u001b[0mfirst\u001b[0m\u001b[1;33m,\u001b[0m \u001b[0msecond\u001b[0m\u001b[1;33m,\u001b[0m \u001b[0mmsg\u001b[0m\u001b[1;33m=\u001b[0m\u001b[0mmsg\u001b[0m\u001b[1;33m)\u001b[0m\u001b[1;33m\u001b[0m\u001b[0m\n\u001b[0m\u001b[1;32m    821\u001b[0m \u001b[1;33m\u001b[0m\u001b[0m\n\u001b[1;32m    822\u001b[0m     \u001b[1;32mdef\u001b[0m \u001b[0massertNotEqual\u001b[0m\u001b[1;33m(\u001b[0m\u001b[0mself\u001b[0m\u001b[1;33m,\u001b[0m \u001b[0mfirst\u001b[0m\u001b[1;33m,\u001b[0m \u001b[0msecond\u001b[0m\u001b[1;33m,\u001b[0m \u001b[0mmsg\u001b[0m\u001b[1;33m=\u001b[0m\u001b[1;32mNone\u001b[0m\u001b[1;33m)\u001b[0m\u001b[1;33m:\u001b[0m\u001b[1;33m\u001b[0m\u001b[0m\n",
      "\u001b[0;32mC:\\Users\\Carolyn\\Anaconda3\\lib\\unittest\\case.py\u001b[0m in \u001b[0;36massertMultiLineEqual\u001b[0;34m(self, first, second, msg)\u001b[0m\n\u001b[1;32m   1191\u001b[0m             \u001b[0mdiff\u001b[0m \u001b[1;33m=\u001b[0m \u001b[1;34m'\\n'\u001b[0m \u001b[1;33m+\u001b[0m \u001b[1;34m''\u001b[0m\u001b[1;33m.\u001b[0m\u001b[0mjoin\u001b[0m\u001b[1;33m(\u001b[0m\u001b[0mdifflib\u001b[0m\u001b[1;33m.\u001b[0m\u001b[0mndiff\u001b[0m\u001b[1;33m(\u001b[0m\u001b[0mfirstlines\u001b[0m\u001b[1;33m,\u001b[0m \u001b[0msecondlines\u001b[0m\u001b[1;33m)\u001b[0m\u001b[1;33m)\u001b[0m\u001b[1;33m\u001b[0m\u001b[0m\n\u001b[1;32m   1192\u001b[0m             \u001b[0mstandardMsg\u001b[0m \u001b[1;33m=\u001b[0m \u001b[0mself\u001b[0m\u001b[1;33m.\u001b[0m\u001b[0m_truncateMessage\u001b[0m\u001b[1;33m(\u001b[0m\u001b[0mstandardMsg\u001b[0m\u001b[1;33m,\u001b[0m \u001b[0mdiff\u001b[0m\u001b[1;33m)\u001b[0m\u001b[1;33m\u001b[0m\u001b[0m\n\u001b[0;32m-> 1193\u001b[0;31m             \u001b[0mself\u001b[0m\u001b[1;33m.\u001b[0m\u001b[0mfail\u001b[0m\u001b[1;33m(\u001b[0m\u001b[0mself\u001b[0m\u001b[1;33m.\u001b[0m\u001b[0m_formatMessage\u001b[0m\u001b[1;33m(\u001b[0m\u001b[0mmsg\u001b[0m\u001b[1;33m,\u001b[0m \u001b[0mstandardMsg\u001b[0m\u001b[1;33m)\u001b[0m\u001b[1;33m)\u001b[0m\u001b[1;33m\u001b[0m\u001b[0m\n\u001b[0m\u001b[1;32m   1194\u001b[0m \u001b[1;33m\u001b[0m\u001b[0m\n\u001b[1;32m   1195\u001b[0m     \u001b[1;32mdef\u001b[0m \u001b[0massertLess\u001b[0m\u001b[1;33m(\u001b[0m\u001b[0mself\u001b[0m\u001b[1;33m,\u001b[0m \u001b[0ma\u001b[0m\u001b[1;33m,\u001b[0m \u001b[0mb\u001b[0m\u001b[1;33m,\u001b[0m \u001b[0mmsg\u001b[0m\u001b[1;33m=\u001b[0m\u001b[1;32mNone\u001b[0m\u001b[1;33m)\u001b[0m\u001b[1;33m:\u001b[0m\u001b[1;33m\u001b[0m\u001b[0m\n",
      "\u001b[0;32mC:\\Users\\Carolyn\\Anaconda3\\lib\\unittest\\case.py\u001b[0m in \u001b[0;36mfail\u001b[0;34m(self, msg)\u001b[0m\n\u001b[1;32m    663\u001b[0m     \u001b[1;32mdef\u001b[0m \u001b[0mfail\u001b[0m\u001b[1;33m(\u001b[0m\u001b[0mself\u001b[0m\u001b[1;33m,\u001b[0m \u001b[0mmsg\u001b[0m\u001b[1;33m=\u001b[0m\u001b[1;32mNone\u001b[0m\u001b[1;33m)\u001b[0m\u001b[1;33m:\u001b[0m\u001b[1;33m\u001b[0m\u001b[0m\n\u001b[1;32m    664\u001b[0m         \u001b[1;34m\"\"\"Fail immediately, with the given message.\"\"\"\u001b[0m\u001b[1;33m\u001b[0m\u001b[0m\n\u001b[0;32m--> 665\u001b[0;31m         \u001b[1;32mraise\u001b[0m \u001b[0mself\u001b[0m\u001b[1;33m.\u001b[0m\u001b[0mfailureException\u001b[0m\u001b[1;33m(\u001b[0m\u001b[0mmsg\u001b[0m\u001b[1;33m)\u001b[0m\u001b[1;33m\u001b[0m\u001b[0m\n\u001b[0m\u001b[1;32m    666\u001b[0m \u001b[1;33m\u001b[0m\u001b[0m\n\u001b[1;32m    667\u001b[0m     \u001b[1;32mdef\u001b[0m \u001b[0massertFalse\u001b[0m\u001b[1;33m(\u001b[0m\u001b[0mself\u001b[0m\u001b[1;33m,\u001b[0m \u001b[0mexpr\u001b[0m\u001b[1;33m,\u001b[0m \u001b[0mmsg\u001b[0m\u001b[1;33m=\u001b[0m\u001b[1;32mNone\u001b[0m\u001b[1;33m)\u001b[0m\u001b[1;33m:\u001b[0m\u001b[1;33m\u001b[0m\u001b[0m\n",
      "\u001b[0;31mAssertionError\u001b[0m: '....[14 chars].....p.......................\\nbbbbbbbbbbbbbbb[1449 chars]....' != '....[14 chars]............p..............................\\n.[1883 chars]....'\nDiff is 3661 characters long. Set self.maxDiff to None to see it."
     ]
    }
   ],
   "source": [
    "# (2 points)\n",
    "import unittest\n",
    "tc = unittest.TestCase()\n",
    "tc.assertEqual(gen_pattern('abcdefghijklmnop'),\n",
    "'''..............................p..............................\n",
    "............................p.o.p............................\n",
    "..........................p.o.n.o.p..........................\n",
    "........................p.o.n.m.n.o.p........................\n",
    "......................p.o.n.m.l.m.n.o.p......................\n",
    "....................p.o.n.m.l.k.l.m.n.o.p....................\n",
    "..................p.o.n.m.l.k.j.k.l.m.n.o.p..................\n",
    "................p.o.n.m.l.k.j.i.j.k.l.m.n.o.p................\n",
    "..............p.o.n.m.l.k.j.i.h.i.j.k.l.m.n.o.p..............\n",
    "............p.o.n.m.l.k.j.i.h.g.h.i.j.k.l.m.n.o.p............\n",
    "..........p.o.n.m.l.k.j.i.h.g.f.g.h.i.j.k.l.m.n.o.p..........\n",
    "........p.o.n.m.l.k.j.i.h.g.f.e.f.g.h.i.j.k.l.m.n.o.p........\n",
    "......p.o.n.m.l.k.j.i.h.g.f.e.d.e.f.g.h.i.j.k.l.m.n.o.p......\n",
    "....p.o.n.m.l.k.j.i.h.g.f.e.d.c.d.e.f.g.h.i.j.k.l.m.n.o.p....\n",
    "..p.o.n.m.l.k.j.i.h.g.f.e.d.c.b.c.d.e.f.g.h.i.j.k.l.m.n.o.p..\n",
    "p.o.n.m.l.k.j.i.h.g.f.e.d.c.b.a.b.c.d.e.f.g.h.i.j.k.l.m.n.o.p\n",
    "..p.o.n.m.l.k.j.i.h.g.f.e.d.c.b.c.d.e.f.g.h.i.j.k.l.m.n.o.p..\n",
    "....p.o.n.m.l.k.j.i.h.g.f.e.d.c.d.e.f.g.h.i.j.k.l.m.n.o.p....\n",
    "......p.o.n.m.l.k.j.i.h.g.f.e.d.e.f.g.h.i.j.k.l.m.n.o.p......\n",
    "........p.o.n.m.l.k.j.i.h.g.f.e.f.g.h.i.j.k.l.m.n.o.p........\n",
    "..........p.o.n.m.l.k.j.i.h.g.f.g.h.i.j.k.l.m.n.o.p..........\n",
    "............p.o.n.m.l.k.j.i.h.g.h.i.j.k.l.m.n.o.p............\n",
    "..............p.o.n.m.l.k.j.i.h.i.j.k.l.m.n.o.p..............\n",
    "................p.o.n.m.l.k.j.i.j.k.l.m.n.o.p................\n",
    "..................p.o.n.m.l.k.j.k.l.m.n.o.p..................\n",
    "....................p.o.n.m.l.k.l.m.n.o.p....................\n",
    "......................p.o.n.m.l.m.n.o.p......................\n",
    "........................p.o.n.m.n.o.p........................\n",
    "..........................p.o.n.o.p..........................\n",
    "............................p.o.p............................\n",
    "..............................p..............................''')"
   ]
  },
  {
   "cell_type": "code",
   "execution_count": 147,
   "metadata": {
    "collapsed": false
   },
   "outputs": [
    {
     "ename": "SyntaxError",
     "evalue": "invalid syntax (<ipython-input-147-0c693694686f>, line 38)",
     "output_type": "error",
     "traceback": [
      "\u001b[0;36m  File \u001b[0;32m\"<ipython-input-147-0c693694686f>\"\u001b[0;36m, line \u001b[0;32m38\u001b[0m\n\u001b[0;31m    When you're ready to submit your work, make sure it's saved (you can click the disk icon in the menu bar), then go back to the \"Assignments\" tab and click \"Submit\" next to this assignment in the \"Downloaded assignments\" area. You can submit as many times as you like before the due date -- you'll see your submissions listed in the \"Submitted assignments\" area.\u001b[0m\n\u001b[0m           ^\u001b[0m\n\u001b[0;31mSyntaxError\u001b[0m\u001b[0;31m:\u001b[0m invalid syntax\n"
     ]
    }
   ],
   "source": [
    "Submission\n",
    "When you're ready to submit your work, make sure it's saved (you can click the disk icon in the menu bar), then go back to the \"Assignments\" tab and click \"Submit\" next to this assignment in the \"Downloaded assignments\" area. You can submit as many times as you like before the due date -- you'll see your submissions listed in the \"Submitted assignments\" area.\n",
    "That's it for now!"
   ]
  }
 ],
 "metadata": {
  "anaconda-cloud": {},
  "kernelspec": {
   "display_name": "Python [default]",
   "language": "python",
   "name": "python3"
  },
  "language_info": {
   "codemirror_mode": {
    "name": "ipython",
    "version": 3
   },
   "file_extension": ".py",
   "mimetype": "text/x-python",
   "name": "python",
   "nbconvert_exporter": "python",
   "pygments_lexer": "ipython3",
   "version": "3.5.2"
  }
 },
 "nbformat": 4,
 "nbformat_minor": 1
}

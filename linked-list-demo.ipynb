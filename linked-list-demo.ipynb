{
 "cells": [
  {
   "cell_type": "markdown",
   "metadata": {},
   "source": [
    "# Linked Lists\n",
    "\n",
    "## Agenda\n",
    "\n",
    "1. The `LinkedList` and `Node` classes  \n",
    "2. Implementing `append`\n",
    "3. Implementing deletion\n",
    "4. Bidirectional links\n",
    "5. Run-time analysis\n",
    "6. Closing remarks"
   ]
  },
  {
   "cell_type": "markdown",
   "metadata": {},
   "source": [
    "## 1. The `LinkedList` and `Node` classes"
   ]
  },
  {
   "cell_type": "code",
   "execution_count": 1,
   "metadata": {
    "collapsed": true
   },
   "outputs": [],
   "source": [
    "class LinkedList:\n",
    "    class Node: #Defined here to hide functionality from other classes, must use LinkedList.Node to reference it\n",
    "        def __init__(self, val, next=None):\n",
    "            self.val = val #The self on this line refers to the self right above it, an instance of node\n",
    "            self.next = next\n",
    "    \n",
    "    def __init__(self): #Self objects here, are instances of LinkedList\n",
    "        self.head = None\n",
    "        self.count = 0 #Length\n",
    "    \n",
    "    def prepend(self, value):\n",
    "        self.head = LinkedList.Node(value, self.head) #Constant time\n",
    "        self.count +=1\n",
    "        \n",
    "    \n",
    "    def __len__(self):\n",
    "        return self.count\n",
    "        \n",
    "    def __iter__(self):\n",
    "        n = self.head\n",
    "        while n:\n",
    "            yield n.val\n",
    "            n = n.next\n",
    "    \n",
    "    def __repr__(self):\n",
    "        return '[' + ', '.join(str(x) for x in self) + ']'"
   ]
  },
  {
   "cell_type": "code",
   "execution_count": 2,
   "metadata": {
    "collapsed": false
   },
   "outputs": [
    {
     "data": {
      "text/plain": [
       "[9, 8, 7, 6, 5, 4, 3, 2, 1, 0]"
      ]
     },
     "execution_count": 2,
     "metadata": {},
     "output_type": "execute_result"
    }
   ],
   "source": [
    "lst = LinkedList()\n",
    "for i in range(10):\n",
    "    lst.prepend(i)\n",
    "lst"
   ]
  },
  {
   "cell_type": "code",
   "execution_count": 3,
   "metadata": {
    "collapsed": false
   },
   "outputs": [
    {
     "data": {
      "text/plain": [
       "10"
      ]
     },
     "execution_count": 3,
     "metadata": {},
     "output_type": "execute_result"
    }
   ],
   "source": [
    "len(lst)"
   ]
  },
  {
   "cell_type": "markdown",
   "metadata": {},
   "source": [
    "## 2. Implementing `append`"
   ]
  },
  {
   "cell_type": "markdown",
   "metadata": {},
   "source": [
    "### Option 1"
   ]
  },
  {
   "cell_type": "code",
   "execution_count": 4,
   "metadata": {
    "collapsed": false
   },
   "outputs": [],
   "source": [
    "class LinkedList (LinkedList): # note: using inheritance to extend prior definition\n",
    "    def append(self, value): # Big O (n) because of the loop\n",
    "        if len(self) == 0: #\"Pretty\" way to write it\n",
    "            self.prepend(value) \n",
    "        else:\n",
    "            n = self.head\n",
    "            while n.next:\n",
    "                n=n.next\n",
    "            # n now refers to the last item in the list\n",
    "            n.next = LinkedList.Node(value)\n",
    "            self.count += 1\n",
    "            "
   ]
  },
  {
   "cell_type": "code",
   "execution_count": 5,
   "metadata": {
    "collapsed": false
   },
   "outputs": [
    {
     "data": {
      "text/plain": [
       "[0, 1, 2, 3, 4, 5, 6, 7, 8, 9]"
      ]
     },
     "execution_count": 5,
     "metadata": {},
     "output_type": "execute_result"
    }
   ],
   "source": [
    "lst = LinkedList()\n",
    "for i in range(10):\n",
    "    lst.append(i)\n",
    "lst"
   ]
  },
  {
   "cell_type": "markdown",
   "metadata": {},
   "source": [
    "### Option 2"
   ]
  },
  {
   "cell_type": "code",
   "execution_count": 6,
   "metadata": {
    "collapsed": true
   },
   "outputs": [],
   "source": [
    "class LinkedList (LinkedList):\n",
    "    def __init__(self):\n",
    "        self.head = self.tail = None\n",
    "        self.count = 0\n",
    "        \n",
    "    def prepend(self, value):\n",
    "        self.head = LinkedList.Node(value, self.head)\n",
    "        if len(self) == 0:\n",
    "            self.tail = self.head\n",
    "        self.count += 1\n",
    "        \n",
    "    def append(self, value): # Constant time function\n",
    "        if len(self) == 0:\n",
    "            self.prepend(value)\n",
    "        else:\n",
    "            self.tail.next = self.tail = LinkedList.Node(value) #Computes right side, then assigns left to right\n",
    "            self.count +=1"
   ]
  },
  {
   "cell_type": "code",
   "execution_count": 7,
   "metadata": {
    "collapsed": false
   },
   "outputs": [
    {
     "data": {
      "text/plain": [
       "[9, 8, 7, 6, 5, 4, 3, 2, 1, 0]"
      ]
     },
     "execution_count": 7,
     "metadata": {},
     "output_type": "execute_result"
    }
   ],
   "source": [
    "lst = LinkedList()\n",
    "for i in range(10):\n",
    "    lst.prepend(i)\n",
    "lst"
   ]
  },
  {
   "cell_type": "code",
   "execution_count": 8,
   "metadata": {
    "collapsed": false
   },
   "outputs": [
    {
     "data": {
      "text/plain": [
       "0"
      ]
     },
     "execution_count": 8,
     "metadata": {},
     "output_type": "execute_result"
    }
   ],
   "source": [
    "lst.tail.val"
   ]
  },
  {
   "cell_type": "code",
   "execution_count": 9,
   "metadata": {
    "collapsed": false
   },
   "outputs": [
    {
     "data": {
      "text/plain": [
       "[0, 1, 2, 3, 4, 5, 6, 7, 8, 9]"
      ]
     },
     "execution_count": 9,
     "metadata": {},
     "output_type": "execute_result"
    }
   ],
   "source": [
    "lst = LinkedList()\n",
    "for i in range(10):\n",
    "    lst.append(i)\n",
    "lst"
   ]
  },
  {
   "cell_type": "markdown",
   "metadata": {},
   "source": [
    "## 3. Implementing deletion"
   ]
  },
  {
   "cell_type": "markdown",
   "metadata": {},
   "source": [
    "### Deleting the head"
   ]
  },
  {
   "cell_type": "code",
   "execution_count": 10,
   "metadata": {
    "collapsed": true
   },
   "outputs": [],
   "source": [
    "class LinkedList (LinkedList):\n",
    "    def del_head(self):\n",
    "        assert(len(self) > 0) #Checks if list is empty \n",
    "        self.head = self.head.next         \n",
    "        if len(self) ==1:\n",
    "            self.tail = None\n",
    "        self.count -=1"
   ]
  },
  {
   "cell_type": "code",
   "execution_count": 11,
   "metadata": {
    "collapsed": false
   },
   "outputs": [
    {
     "data": {
      "text/plain": [
       "[2, 3, 4, 5, 6, 7, 8, 9]"
      ]
     },
     "execution_count": 11,
     "metadata": {},
     "output_type": "execute_result"
    }
   ],
   "source": [
    "lst = LinkedList()\n",
    "for i in range(10):\n",
    "    lst.append(i)\n",
    "lst.del_head()\n",
    "lst.del_head()\n",
    "lst"
   ]
  },
  {
   "cell_type": "code",
   "execution_count": 12,
   "metadata": {
    "collapsed": false
   },
   "outputs": [
    {
     "data": {
      "text/plain": [
       "9"
      ]
     },
     "execution_count": 12,
     "metadata": {},
     "output_type": "execute_result"
    }
   ],
   "source": [
    "lst.tail.val"
   ]
  },
  {
   "cell_type": "code",
   "execution_count": 13,
   "metadata": {
    "collapsed": false
   },
   "outputs": [
    {
     "data": {
      "text/plain": [
       "8"
      ]
     },
     "execution_count": 13,
     "metadata": {},
     "output_type": "execute_result"
    }
   ],
   "source": [
    "len(lst)"
   ]
  },
  {
   "cell_type": "markdown",
   "metadata": {},
   "source": [
    "### Deleting the tail"
   ]
  },
  {
   "cell_type": "code",
   "execution_count": 14,
   "metadata": {
    "collapsed": true
   },
   "outputs": [],
   "source": [
    "class LinkedList (LinkedList): #Have to traverse entire list in order to get new tail, Big O(n)\n",
    "    def del_tail(self):\n",
    "        assert(len(self) > 0)\n",
    "        if len(self) ==1:\n",
    "            self.head = self.tail = None\n",
    "        else:\n",
    "            n = self.head\n",
    "            while n.next is not self.tail:\n",
    "                n = n.next\n",
    "            # Now n refers to the node before the tail\n",
    "            n.next = None\n",
    "            self.tail = n\n",
    "        self.count -=1"
   ]
  },
  {
   "cell_type": "code",
   "execution_count": 15,
   "metadata": {
    "collapsed": false
   },
   "outputs": [
    {
     "data": {
      "text/plain": [
       "[0, 1, 2, 3, 4, 5, 6, 7]"
      ]
     },
     "execution_count": 15,
     "metadata": {},
     "output_type": "execute_result"
    }
   ],
   "source": [
    "lst = LinkedList()\n",
    "for i in range(10):\n",
    "    lst.append(i)\n",
    "lst.del_tail()\n",
    "lst.del_tail()\n",
    "lst"
   ]
  },
  {
   "cell_type": "markdown",
   "metadata": {},
   "source": [
    "## 4. Bidirectional links (Doubly-linked list)"
   ]
  },
  {
   "cell_type": "code",
   "execution_count": 34,
   "metadata": {
    "collapsed": true
   },
   "outputs": [],
   "source": [
    "class LinkedList:\n",
    "    class Node:\n",
    "        def __init__(self, val, prior=None, next=None):\n",
    "            self.val = val\n",
    "            self.prior = prior\n",
    "            self.next  = next #Next is a global function\n",
    "    \n",
    "    def __init__(self):\n",
    "        self.count = 0\n",
    "        self.head = self.tail = None\n",
    "        \n",
    "    def __getitem__(self, idx):\n",
    "        n = self.head\n",
    "        for _ in range(idx):\n",
    "            n = n.next\n",
    "        return n.val\n",
    "    \n",
    "    def __delitem__(self, idx):\n",
    "        n = self.head\n",
    "        for _ in range(idx):\n",
    "            n = n.next\n",
    "        self.del_node(n)\n",
    "        self.count -=1\n",
    "    \n",
    "    def del_node(self, n):\n",
    "        if n is self.head: # This is an object comparison (address)  == means does it have the same contents\n",
    "            pass # Edge cases are not fun, less efficient, hard to read -> circular list, no edges\n",
    "        elif n is self.tail:\n",
    "            pass\n",
    "        else:\n",
    "            n.prior.next = n.next\n",
    "            n.next.prior = n.prior #The node n is then garbage collected (memory gets freed up because it is no longer referred to)\n",
    "    \n",
    "    def prepend(self, value):\n",
    "        if len(self) == 0:\n",
    "            self.head = self.tail = LinkedList.Node(value)\n",
    "        else:\n",
    "            self.head.prior = self.head = LinkedList.Node(value, next = self.head)        \n",
    "        self.count += 1 \n",
    "        \n",
    "    def append(self, value):\n",
    "        if len(self) == 0:\n",
    "            self.prepend(value)\n",
    "        else:\n",
    "            self.tail.next = self.tail = LinkedList.Node(value, prior = self.tail)\n",
    "            self.count += 1\n",
    "        \n",
    "    def __len__(self):\n",
    "        return self.count\n",
    "    \n",
    "    def __iter__(self):\n",
    "        n = self.head\n",
    "        while n:\n",
    "            yield n.val\n",
    "            n = n.next\n",
    "            \n",
    "    def reverse_iter(self):\n",
    "        n = self.tail\n",
    "        while n:\n",
    "            yield n.val\n",
    "            n = n.prior\n",
    "    \n",
    "    def __repr__(self):\n",
    "        return '[' + ', '.join(str(x) for x in self) + ']'"
   ]
  },
  {
   "cell_type": "code",
   "execution_count": 69,
   "metadata": {
    "collapsed": false
   },
   "outputs": [
    {
     "data": {
      "text/plain": [
       "[9, 8, 7, 6, 5, 4, 3, 2, 1, 0, 0, 1, 2, 3, 4, 5, 6, 7, 8, 9]"
      ]
     },
     "execution_count": 69,
     "metadata": {},
     "output_type": "execute_result"
    }
   ],
   "source": [
    "lst = LinkedList()\n",
    "for i in range(10):\n",
    "    lst.prepend(i)\n",
    "for i in range(10):\n",
    "    lst.append(i)\n",
    "lst"
   ]
  },
  {
   "cell_type": "code",
   "execution_count": 70,
   "metadata": {
    "collapsed": true
   },
   "outputs": [],
   "source": [
    "del lst[2] # Can't delete head or tail yet because they do not have a prior or next"
   ]
  },
  {
   "cell_type": "code",
   "execution_count": 71,
   "metadata": {
    "collapsed": false
   },
   "outputs": [
    {
     "data": {
      "text/plain": [
       "[9, 8, 6, 5, 4, 3, 2, 1, 0, 0, 1, 2, 3, 4, 5, 6, 7, 8, 9]"
      ]
     },
     "execution_count": 71,
     "metadata": {},
     "output_type": "execute_result"
    }
   ],
   "source": [
    "lst"
   ]
  },
  {
   "cell_type": "code",
   "execution_count": 72,
   "metadata": {
    "collapsed": false
   },
   "outputs": [
    {
     "name": "stdout",
     "output_type": "stream",
     "text": [
      "9\n",
      "8\n",
      "6\n",
      "5\n",
      "4\n",
      "3\n",
      "2\n",
      "1\n",
      "0\n",
      "0\n",
      "1\n",
      "2\n",
      "3\n",
      "4\n",
      "5\n",
      "6\n",
      "7\n",
      "8\n",
      "9\n"
     ]
    }
   ],
   "source": [
    "for i in range(len(lst)): #Time complexity n^2\n",
    "    print(lst[i])"
   ]
  },
  {
   "cell_type": "code",
   "execution_count": 73,
   "metadata": {
    "collapsed": false
   },
   "outputs": [
    {
     "name": "stdout",
     "output_type": "stream",
     "text": [
      "9\n",
      "8\n",
      "6\n",
      "5\n",
      "4\n",
      "3\n",
      "2\n",
      "1\n",
      "0\n",
      "0\n",
      "1\n",
      "2\n",
      "3\n",
      "4\n",
      "5\n",
      "6\n",
      "7\n",
      "8\n",
      "9\n"
     ]
    }
   ],
   "source": [
    "for x in lst:\n",
    "    print(x)"
   ]
  },
  {
   "cell_type": "code",
   "execution_count": 74,
   "metadata": {
    "collapsed": false
   },
   "outputs": [
    {
     "name": "stdout",
     "output_type": "stream",
     "text": [
      "9\n",
      "8\n",
      "7\n",
      "6\n",
      "5\n",
      "4\n",
      "3\n",
      "2\n",
      "1\n",
      "0\n",
      "0\n",
      "1\n",
      "2\n",
      "3\n",
      "4\n",
      "5\n",
      "6\n",
      "8\n",
      "9\n"
     ]
    }
   ],
   "source": [
    "for x in lst.reverse_iter():\n",
    "    print(x)"
   ]
  },
  {
   "cell_type": "markdown",
   "metadata": {},
   "source": [
    "## Circular List"
   ]
  },
  {
   "cell_type": "markdown",
   "metadata": {},
   "source": [
    "This implementation has a sentinal node that never goes away to prevent edge cases"
   ]
  },
  {
   "cell_type": "code",
   "execution_count": 75,
   "metadata": {
    "collapsed": true
   },
   "outputs": [],
   "source": [
    "class LinkedList:\n",
    "    class Node:\n",
    "        def __init__(self, val, prior=None, next=None):\n",
    "            self.val = val\n",
    "            self.prior = prior\n",
    "            self.next  = next #Next is a global function\n",
    "    \n",
    "    def __init__(self):\n",
    "        self.count = 0\n",
    "        #Circular list and sentinel head node\n",
    "        self.head = self.head.next = self.head.prior = LinkedList.Node(None)\n",
    "        \n",
    "    def __getitem__(self, idx):\n",
    "        n = self.head.next\n",
    "        for _ in range(idx):\n",
    "            n = n.next\n",
    "        return n.val\n",
    "    \n",
    "    def __delitem__(self, idx):\n",
    "        n = self.head.next\n",
    "        for _ in range(idx):\n",
    "            n = n.next\n",
    "        self.del_node(n)\n",
    "        self.count -=1\n",
    "    \n",
    "    def del_node(self, n):\n",
    "        n.prior.next = n.next\n",
    "        n.next.prior = n.prior #The node n is then garbage collected (memory gets freed up because it is no longer referred to)\n",
    "    \n",
    "    def prepend(self, value):\n",
    "        n = LinkedList.Node(value, prior = self.head, next = self.head.next)\n",
    "        self.head.next.prior = self.head.next = n\n",
    "        self.count += 1 \n",
    "        \n",
    "    def append(self, value):\n",
    "        n = LinkedList.Node(value, prior = self.head.prior, next = self.head)\n",
    "        self.head.prior.next = self.head.prior = n\n",
    "        self.count += 1\n",
    "        \n",
    "    def __len__(self):\n",
    "        return self.count\n",
    "    \n",
    "    def __iter__(self):\n",
    "        n = self.head.next\n",
    "        while n is not self.head:\n",
    "            yield n.val\n",
    "            n = n.next\n",
    "            \n",
    "    def reverse_iter(self):\n",
    "        n = self.head.prior\n",
    "        while n is not self.head:\n",
    "            yield n.val\n",
    "            n = n.prior\n",
    "    \n",
    "    def __repr__(self):\n",
    "        return '[' + ', '.join(str(x) for x in self) + ']'"
   ]
  },
  {
   "cell_type": "markdown",
   "metadata": {},
   "source": [
    "## 5. Run-time analysis"
   ]
  },
  {
   "cell_type": "markdown",
   "metadata": {},
   "source": [
    "Run-time complexities for circular, doubly-linked list of $N$ elements:\n",
    "\n",
    "- indexing (position-based access) = $O(N)$\n",
    "- search (unsorted) = $O(N)$\n",
    "- search (sorted) = $O(N)$ --- binary search isn't possible!\n",
    "- prepend = $O(1)$\n",
    "- append = $O(1)$\n",
    "- insertion at arbitrary position: traversal = $O(N)$ + insertion = $O(N)$\n",
    "- deletion of arbitrary element: traversal = $O(N)$ + deletion = $O(N)$"
   ]
  },
  {
   "cell_type": "markdown",
   "metadata": {},
   "source": [
    "## 6. Closing remarks"
   ]
  },
  {
   "cell_type": "markdown",
   "metadata": {},
   "source": []
  }
 ],
 "metadata": {
  "anaconda-cloud": {},
  "kernelspec": {
   "display_name": "Python [default]",
   "language": "python",
   "name": "python3"
  },
  "language_info": {
   "codemirror_mode": {
    "name": "ipython",
    "version": 3
   },
   "file_extension": ".py",
   "mimetype": "text/x-python",
   "name": "python",
   "nbconvert_exporter": "python",
   "pygments_lexer": "ipython3",
   "version": "3.5.2"
  }
 },
 "nbformat": 4,
 "nbformat_minor": 0
}

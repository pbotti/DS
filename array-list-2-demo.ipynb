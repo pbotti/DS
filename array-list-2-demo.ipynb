{
 "cells": [
  {
   "cell_type": "markdown",
   "metadata": {},
   "source": [
    "# The Array-Backed List (Part 2)\n",
    "\n",
    "## Agenda\n",
    "\n",
    "1. Review of iterators\n",
    "2. The full array-backed list API\n",
    "3. Getting started ...\n",
    "4. Run-time analysis\n",
    "5. Closing remarks"
   ]
  },
  {
   "cell_type": "markdown",
   "metadata": {},
   "source": [
    "## 1. Review of iterators\n",
    "\n",
    "(see previous notebook)"
   ]
  },
  {
   "cell_type": "markdown",
   "metadata": {},
   "source": [
    "## 2. The full array-backed list API"
   ]
  },
  {
   "cell_type": "code",
   "execution_count": 5,
   "metadata": {
    "collapsed": false
   },
   "outputs": [],
   "source": [
    "class ArrayList:\n",
    "    def __init__(self):\n",
    "        self.data = []\n",
    "\n",
    "        \n",
    "    ### subscript-based access ###\n",
    "        \n",
    "    def __getitem__(self, idx):\n",
    "        \"\"\"Implements `x = self[idx]`\"\"\"\n",
    "        assert(isinstance(idx, int))\n",
    "        pass\n",
    "        \n",
    "    def __setitem__(self, idx, value):\n",
    "        \"\"\"Implements `self[idx] = x`\"\"\"\n",
    "        assert(isinstance(idx, int))\n",
    "        pass\n",
    "\n",
    "    def __delitem__(self, idx):\n",
    "        \"\"\"Implements `del self[idx]`\"\"\"\n",
    "        assert(isinstance(idx, int))\n",
    "        pass\n",
    "\n",
    "    \n",
    "    ### stringification ###\n",
    "    \n",
    "    def __str__(self):\n",
    "        \"\"\"Implements `str(self)`\"\"\"\n",
    "        return '[]'\n",
    "        \n",
    "    def __repr__(self):\n",
    "        \"\"\"Supports REPL inspection\"\"\"\n",
    "        return str(self)\n",
    "    \n",
    "\n",
    "    ### single-element manipulation ###\n",
    "    \n",
    "    def append(self, value):\n",
    "        pass\n",
    "    \n",
    "    def insert(self, idx, value):\n",
    "        pass\n",
    "    \n",
    "    def pop(self, idx=-1):\n",
    "        pass\n",
    "    \n",
    "    def remove(self, value):\n",
    "        pass\n",
    "    \n",
    "\n",
    "    ### predicates (T/F queries) ###\n",
    "    \n",
    "    def __eq__(self, other):\n",
    "        if not isinstance(other, ArrayList):\n",
    "            return False\n",
    "        return True\n",
    "\n",
    "    def __contains__(self, value):\n",
    "        \"\"\"Implements `val in self`\"\"\"\n",
    "        return True\n",
    "    \n",
    "\n",
    "    ### queries ###\n",
    "    \n",
    "    def __len__(self):\n",
    "        \"\"\"Implements `len(self)`\"\"\"\n",
    "        return len(self.data)\n",
    "    \n",
    "    def min(self):\n",
    "        pass\n",
    "    \n",
    "    def max(self):\n",
    "        pass\n",
    "    \n",
    "    def index(self, value, i, j):\n",
    "        pass\n",
    "    \n",
    "    def count(self, value):\n",
    "        pass\n",
    "    \n",
    "\n",
    "    ### bulk operations ###\n",
    "\n",
    "    def __add__(self, other):\n",
    "        \"\"\"Implements `self + other_array_list`\"\"\"\n",
    "        assert(isinstance(other, ArrayList))\n",
    "        return self\n",
    "    \n",
    "    def clear(self):\n",
    "        pass\n",
    "    \n",
    "    def copy(self):\n",
    "        pass\n",
    "\n",
    "    def extend(self, other):\n",
    "        pass\n",
    "\n",
    "    ### iteration ###\n",
    "    \n",
    "    def __iter__(self):\n",
    "        \"\"\"Supports iteration (via `iter(self)`)\"\"\"\n",
    "        pass"
   ]
  },
  {
   "cell_type": "markdown",
   "metadata": {},
   "source": [
    "## 3. Getting started ...\n",
    "\n",
    "Recall our rules for constraining the list API (to make it behave like an array):\n",
    "\n",
    "- `lst[i]` for getting and setting values at an *existing, positive* index `i`\n",
    "- `len(lst)` to obtain the number of slots\n",
    "- `lst.append(None)` to grow the list by *one slot at a time*\n",
    "- `del lst[len(lst)-1]` to delete the last slot in a list"
   ]
  },
  {
   "cell_type": "code",
   "execution_count": 2,
   "metadata": {
    "collapsed": true
   },
   "outputs": [],
   "source": [
    "class ArrayList:\n",
    "    def __init__(self):\n",
    "        self.data = []\n",
    "    \n",
    "    ### subscript-based access ###\n",
    "    \n",
    "    def __getitem__(self, idx):\n",
    "        \"\"\"Implements `x = self[idx]`\"\"\"\n",
    "        assert(isinstance(idx, int))\n",
    "        pass\n",
    "        \n",
    "    def __setitem__(self, idx, value):\n",
    "        \"\"\"Implements `self[idx] = x`\"\"\"\n",
    "        assert(isinstance(idx, int))\n",
    "        pass\n",
    "        \n",
    "    def __delitem__(self, idx):\n",
    "        \"\"\"Implements `del self[idx]`\"\"\"\n",
    "        assert(isinstance(idx, int))\n",
    "        pass"
   ]
  },
  {
   "cell_type": "code",
   "execution_count": 3,
   "metadata": {
    "collapsed": false
   },
   "outputs": [],
   "source": [
    "# test subscript-based access\n",
    "from unittest import TestCase\n",
    "import random\n",
    "\n",
    "tc = TestCase()\n",
    "lst = ArrayList()\n",
    "data = [1, 2, 3, 4]\n",
    "lst.data = data.copy()\n",
    "\n",
    "for i in range(len(data)):\n",
    "    tc.assertEqual(lst[i], data[i])\n",
    "    \n",
    "with tc.assertRaises(IndexError):\n",
    "    x = lst[100]\n",
    "\n",
    "with tc.assertRaises(IndexError):\n",
    "    lst[100] = 0\n",
    "\n",
    "with tc.assertRaises(IndexError):\n",
    "    del lst[100]\n",
    "\n",
    "lst[1] = data[1] = 20\n",
    "del data[0]\n",
    "del lst[0]\n",
    "\n",
    "for i in range(len(data)):\n",
    "    tc.assertEqual(lst[i], data[i])\n",
    "\n",
    "data = [random.randint(1, 100) for _ in range(100)]\n",
    "lst.data = data.copy()\n",
    "for i in range(len(data)):\n",
    "    lst[i] = data[i] = random.randint(101, 200)\n",
    "for i in range(50):\n",
    "    to_del = random.randrange(len(data))\n",
    "    del lst[to_del]\n",
    "    del data[to_del]\n",
    "\n",
    "for i in range(len(data)):\n",
    "    tc.assertEqual(lst[i], data[i])\n",
    "    \n",
    "for i in range(0, -len(data), -1):\n",
    "    tc.assertEqual(lst[i], data[i])"
   ]
  },
  {
   "cell_type": "markdown",
   "metadata": {},
   "source": [
    "## 4. Run-time analysis"
   ]
  },
  {
   "cell_type": "markdown",
   "metadata": {},
   "source": [
    "$N$-element array-backed list time-complexity for:\n",
    "- indexing (position-based access) = $O(?)$\n",
    "- search (unsorted) = $O(?)$\n",
    "- search (sorted) = $O(?)$\n",
    "- append = $O(?)$\n",
    "- insertion at arbitrary position: $O(?)$\n",
    "- deletion of arbitrary element: $O(?)$"
   ]
  },
  {
   "cell_type": "markdown",
   "metadata": {},
   "source": [
    "## 5. Closing remarks"
   ]
  }
 ],
 "metadata": {
  "kernelspec": {
   "display_name": "Python 3",
   "language": "python",
   "name": "python3"
  },
  "language_info": {
   "codemirror_mode": {
    "name": "ipython",
    "version": 3
   },
   "file_extension": ".py",
   "mimetype": "text/x-python",
   "name": "python",
   "nbconvert_exporter": "python",
   "pygments_lexer": "ipython3",
   "version": "3.4.3"
  }
 },
 "nbformat": 4,
 "nbformat_minor": 0
}
